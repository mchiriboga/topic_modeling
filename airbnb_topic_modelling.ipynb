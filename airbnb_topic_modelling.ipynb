{
 "cells": [
  {
   "cell_type": "code",
   "execution_count": 81,
   "metadata": {
    "scrolled": true
   },
   "outputs": [],
   "source": [
    "# Importa as bibliotecas necessárias\n",
    "import gensim\n",
    "import gensim.corpora as corpora\n",
    "import pandas as pd\n",
    "import pyLDAvis.gensim\n",
    "import re\n",
    "import spacy\n",
    "\n",
    "from gensim.models.coherencemodel import CoherenceModel\n",
    "from gensim.models import LdaModel\n",
    "from gensim.models import LdaMulticore\n",
    "\n",
    "from langdetect import detect, DetectorFactory\n",
    "DetectorFactory.seed = 0\n",
    "\n",
    "from tqdm import tqdm\n",
    "tqdm.pandas()"
   ]
  },
  {
   "cell_type": "markdown",
   "metadata": {},
   "source": [
    "## Carregamento dos Dados e Análise Exploratória"
   ]
  },
  {
   "cell_type": "code",
   "execution_count": 14,
   "metadata": {
    "scrolled": true
   },
   "outputs": [],
   "source": [
    "# Carrega o dataset referente às reviews do Airbnb Rio de Janeiro\n",
    "reviews = pd.read_csv(\"data/reviews.csv\")"
   ]
  },
  {
   "cell_type": "code",
   "execution_count": 15,
   "metadata": {
    "scrolled": true
   },
   "outputs": [
    {
     "data": {
      "text/html": [
       "<div>\n",
       "<style scoped>\n",
       "    .dataframe tbody tr th:only-of-type {\n",
       "        vertical-align: middle;\n",
       "    }\n",
       "\n",
       "    .dataframe tbody tr th {\n",
       "        vertical-align: top;\n",
       "    }\n",
       "\n",
       "    .dataframe thead th {\n",
       "        text-align: right;\n",
       "    }\n",
       "</style>\n",
       "<table border=\"1\" class=\"dataframe\">\n",
       "  <thead>\n",
       "    <tr style=\"text-align: right;\">\n",
       "      <th></th>\n",
       "      <th>listing_id</th>\n",
       "      <th>id</th>\n",
       "      <th>date</th>\n",
       "      <th>reviewer_id</th>\n",
       "      <th>reviewer_name</th>\n",
       "      <th>comments</th>\n",
       "    </tr>\n",
       "  </thead>\n",
       "  <tbody>\n",
       "    <tr>\n",
       "      <th>0</th>\n",
       "      <td>17878</td>\n",
       "      <td>64852</td>\n",
       "      <td>2010-07-15</td>\n",
       "      <td>135370</td>\n",
       "      <td>Tia</td>\n",
       "      <td>This apartment is in a perfect location -- two...</td>\n",
       "    </tr>\n",
       "    <tr>\n",
       "      <th>1</th>\n",
       "      <td>17878</td>\n",
       "      <td>76744</td>\n",
       "      <td>2010-08-11</td>\n",
       "      <td>10206</td>\n",
       "      <td>Mimi</td>\n",
       "      <td>we had a really great experience staying in Ma...</td>\n",
       "    </tr>\n",
       "    <tr>\n",
       "      <th>2</th>\n",
       "      <td>17878</td>\n",
       "      <td>91074</td>\n",
       "      <td>2010-09-06</td>\n",
       "      <td>80253</td>\n",
       "      <td>Jan</td>\n",
       "      <td>Staying in Max appartment is like living in a ...</td>\n",
       "    </tr>\n",
       "    <tr>\n",
       "      <th>3</th>\n",
       "      <td>17878</td>\n",
       "      <td>137528</td>\n",
       "      <td>2010-11-12</td>\n",
       "      <td>230449</td>\n",
       "      <td>Orene</td>\n",
       "      <td>In general very good and reasonable price.\\r\\n...</td>\n",
       "    </tr>\n",
       "    <tr>\n",
       "      <th>4</th>\n",
       "      <td>17878</td>\n",
       "      <td>147594</td>\n",
       "      <td>2010-12-01</td>\n",
       "      <td>219338</td>\n",
       "      <td>David</td>\n",
       "      <td>The apt was nice and in a great location only ...</td>\n",
       "    </tr>\n",
       "  </tbody>\n",
       "</table>\n",
       "</div>"
      ],
      "text/plain": [
       "   listing_id      id        date  reviewer_id reviewer_name  \\\n",
       "0       17878   64852  2010-07-15       135370           Tia   \n",
       "1       17878   76744  2010-08-11        10206          Mimi   \n",
       "2       17878   91074  2010-09-06        80253           Jan   \n",
       "3       17878  137528  2010-11-12       230449         Orene   \n",
       "4       17878  147594  2010-12-01       219338         David   \n",
       "\n",
       "                                            comments  \n",
       "0  This apartment is in a perfect location -- two...  \n",
       "1  we had a really great experience staying in Ma...  \n",
       "2  Staying in Max appartment is like living in a ...  \n",
       "3  In general very good and reasonable price.\\r\\n...  \n",
       "4  The apt was nice and in a great location only ...  "
      ]
     },
     "execution_count": 15,
     "metadata": {},
     "output_type": "execute_result"
    }
   ],
   "source": [
    "# Apresenta as primeiras 5 reviews\n",
    "reviews.head(5)"
   ]
  },
  {
   "cell_type": "code",
   "execution_count": 4,
   "metadata": {
    "scrolled": true
   },
   "outputs": [
    {
     "name": "stdout",
     "output_type": "stream",
     "text": [
      "<class 'pandas.core.frame.DataFrame'>\n",
      "RangeIndex: 292516 entries, 0 to 292515\n",
      "Data columns (total 7 columns):\n",
      "listing_id       292516 non-null int64\n",
      "id               292516 non-null int64\n",
      "date             292516 non-null object\n",
      "reviewer_id      292516 non-null int64\n",
      "reviewer_name    292516 non-null object\n",
      "comments         292446 non-null object\n",
      "language         292076 non-null object\n",
      "dtypes: int64(3), object(4)\n",
      "memory usage: 15.6+ MB\n"
     ]
    }
   ],
   "source": [
    "# Verifica os tipos de variáveis\n",
    "reviews.info()"
   ]
  },
  {
   "cell_type": "code",
   "execution_count": 5,
   "metadata": {
    "scrolled": true
   },
   "outputs": [],
   "source": [
    "# Converte a coluna comments para string\n",
    "reviews[\"comments\"] = reviews[\"comments\"].astype(str)"
   ]
  },
  {
   "cell_type": "code",
   "execution_count": 122,
   "metadata": {
    "scrolled": true
   },
   "outputs": [],
   "source": [
    "# Adiciona coluna com idioma da review\n",
    "def try_detect_language(text):\n",
    "    \"\"\"\n",
    "    Dado uma string text, tenta obter o idioma predominante.\n",
    "    \n",
    "    Argumentos:\n",
    "    text -- (str) o texto para o qual se deseja detectar o idioma\n",
    "    Retorna: (str) o código do idioma (e.g. 'en' para inglês). \n",
    "             Retorna uma string vazia caso não seja possível detectar o idioma\n",
    "    \"\"\"\n",
    "    try:\n",
    "        return detect(text)\n",
    "    except:\n",
    "        return \"\"\n",
    "\n",
    "reviews[\"language\"] = reviews[\"comments\"].apply(try_detect_language)"
   ]
  },
  {
   "cell_type": "code",
   "execution_count": 123,
   "metadata": {
    "scrolled": false
   },
   "outputs": [
    {
     "data": {
      "text/plain": [
       "pt    138315\n",
       "en     83736\n",
       "es     54358\n",
       "fr      8424\n",
       "de      2057\n",
       "Name: language, dtype: int64"
      ]
     },
     "execution_count": 123,
     "metadata": {},
     "output_type": "execute_result"
    }
   ],
   "source": [
    "# Verifica total de reviews para cada idioma identificado e apresenta os 5 idiomas mais comuns\n",
    "reviews.language.value_counts().head()"
   ]
  },
  {
   "cell_type": "markdown",
   "metadata": {},
   "source": [
    "## Preprocessamento dos Dados"
   ]
  },
  {
   "cell_type": "code",
   "execution_count": 6,
   "metadata": {
    "scrolled": true
   },
   "outputs": [],
   "source": [
    "nlp_pt = spacy.load(\"pt\")\n",
    "\n",
    "def preprocess(text, \n",
    "               min_token_len = 2, \n",
    "               irrelevant_pos = ['ADV','PRON','CCONJ','PUNCT','PART','DET','ADP','SPACE'],\n",
    "               nlp = nlp_pt): \n",
    "    \"\"\"\n",
    "    Dado text, min_token_len, e irrelevant_pos, faz o preprocessamento do texto\n",
    "    \n",
    "    Argumentos:\n",
    "    text -- (str) texto a ser pré-processado\n",
    "    min_token_len -- (int) o menor comprimento de token a ser considerado\n",
    "    irrelevant_pos -- (list) lista as classes gramaticais a serem ignoradas\n",
    "    \n",
    "    Retorna: (str) texto pré processado\n",
    "    \"\"\"\n",
    "    \n",
    "    # Converte todo os texto para apenas caractéres minúsculos\n",
    "    text = text.lower()\n",
    "    \n",
    "    # Remove termos utilizados pelo airbnb para ocultar informações\n",
    "    text = re.sub(r'\\((.*hidden by airbnb)\\)', \"\", text)\n",
    "    \n",
    "    # Processa o texto usando spacy\n",
    "    doc = nlp(text)\n",
    "    \n",
    "    preprocessed = []\n",
    "    \n",
    "    # Remove stop words, pontuação, tokens menores que min_token_len e tokens cuja \n",
    "    # classe gramatical identificada é irrelavante para análise\n",
    "    for token in doc:\n",
    "        if not token.is_stop and not token.is_punct and len(token) >= min_token_len and token.pos_ not in irrelevant_pos:\n",
    "            # Armazena o lemma do token na variável de saída\n",
    "            preprocessed.append(token.lemma_)\n",
    "            \n",
    "    return \" \".join(preprocessed)\n",
    "\n",
    "def preprocess_pt(text):\n",
    "    return preprocess(text, nlp = nlp_pt)"
   ]
  },
  {
   "cell_type": "code",
   "execution_count": 7,
   "metadata": {
    "scrolled": true
   },
   "outputs": [],
   "source": [
    "# Filtra as reviews escritas em Português\n",
    "reviews_pt = reviews[reviews.language == \"pt\"]"
   ]
  },
  {
   "cell_type": "code",
   "execution_count": 8,
   "metadata": {
    "scrolled": false
   },
   "outputs": [
    {
     "name": "stderr",
     "output_type": "stream",
     "text": [
      "100%|██████████| 138315/138315 [1:07:43<00:00, 34.04it/s]    \n",
      "/Users/marcelle/anaconda3/lib/python3.7/site-packages/ipykernel_launcher.py:1: SettingWithCopyWarning: \n",
      "A value is trying to be set on a copy of a slice from a DataFrame.\n",
      "Try using .loc[row_indexer,col_indexer] = value instead\n",
      "\n",
      "See the caveats in the documentation: http://pandas.pydata.org/pandas-docs/stable/indexing.html#indexing-view-versus-copy\n",
      "  \"\"\"Entry point for launching an IPython kernel.\n"
     ]
    }
   ],
   "source": [
    "# Aplica a função de preprocessamento a todas as reviews e armazena o resultado numa nova coluna\n",
    "reviews_pt[\"clean_comments\"] = reviews_pt.comments.progress_apply(preprocess_pt)"
   ]
  },
  {
   "cell_type": "code",
   "execution_count": 9,
   "metadata": {
    "scrolled": true
   },
   "outputs": [],
   "source": [
    "# Salva um .csv com as reviews preprocessadas\n",
    "reviews_pt.to_csv('data/reviews_pt_preprocessed.csv', index = False)"
   ]
  },
  {
   "cell_type": "code",
   "execution_count": 46,
   "metadata": {
    "scrolled": true
   },
   "outputs": [],
   "source": [
    "preprocessed_corpus = [doc.split() for doc in reviews_pt.clean_comments.tolist()]\n",
    "\n",
    "# Cria um vocabulário para o modelo LDA e converte\n",
    "# o corpus em uma matriz documento-termo para LDA\n",
    "dictionary = corpora.Dictionary(preprocessed_corpus)\n",
    "\n",
    "# Remove palavras que aparecem em menos de no_below reviews e em mais do que no_above % das reviews\n",
    "dictionary.filter_extremes(no_below = 10, no_above = 0.1, keep_n = 10000)\n",
    "\n",
    "doc_term_matrix = [dictionary.doc2bow(doc) for doc in preprocessed_corpus]"
   ]
  },
  {
   "cell_type": "code",
   "execution_count": 124,
   "metadata": {
    "scrolled": true
   },
   "outputs": [
    {
     "data": {
      "text/plain": [
       "5888"
      ]
     },
     "execution_count": 124,
     "metadata": {},
     "output_type": "execute_result"
    }
   ],
   "source": [
    "# Verifica o número total de termos no dicionário\n",
    "len(dictionary)"
   ]
  },
  {
   "cell_type": "markdown",
   "metadata": {},
   "source": [
    "## Escolha de Hiperparâmetro e Criação do Modelo"
   ]
  },
  {
   "cell_type": "code",
   "execution_count": 48,
   "metadata": {
    "scrolled": true
   },
   "outputs": [
    {
     "name": "stdout",
     "output_type": "stream",
     "text": [
      "Number of topics =  5\n",
      "[(0, '0.022*\"aptar\" + 0.022*\"foto\" + 0.017*\"organizar\" + 0.016*\"prestativo\" + 0.015*\"responder\" + 0.015*\"aconchegante\" + 0.013*\"rápido\" + 0.012*\"condomínio\" + 0.012*\"adorar\" + 0.010*\"indicar\"'), (1, '0.025*\"cama\" + 0.018*\"cozinhar\" + 0.014*\"banheiro\" + 0.013*\"problema\" + 0.013*\"ar\" + 0.012*\"condicionar\" + 0.011*\"roupar\" + 0.010*\"haver\" + 0.010*\"ter\" + 0.009*\"dia\"'), (2, '0.062*\"check\" + 0.048*\"in\" + 0.041*\"horário\" + 0.035*\"flexível\" + 0.030*\"check-in\" + 0.027*\"out\" + 0.020*\"preço\" + 0.019*\"host\" + 0.018*\"check-out\" + 0.017*\"combinar\"'), (3, '0.023*\"maravilhoso\" + 0.017*\"incrível\" + 0.016*\"sentir\" + 0.015*\"visto\" + 0.013*\"pessoa\" + 0.013*\"deixar\" + 0.012*\"receber\" + 0.012*\"experiência\" + 0.011*\"aconchegante\" + 0.011*\"vontade\"'), (4, '0.030*\"metrô\" + 0.021*\"bar\" + 0.020*\"supermercado\" + 0.019*\"mercar\" + 0.019*\"fácil\" + 0.017*\"copacabana\" + 0.017*\"acesso\" + 0.016*\"farmácia\" + 0.013*\"tranquilo\" + 0.012*\"padaria\"')] \n",
      "\n",
      "Coherence: 0.5618693571383846\n",
      "Number of topics =  6\n",
      "[(0, '0.016*\"ajudar\" + 0.015*\"dica\" + 0.015*\"pessoa\" + 0.015*\"deixar\" + 0.014*\"sentir\" + 0.014*\"dar\" + 0.014*\"maravilhoso\" + 0.013*\"receber\" + 0.013*\"vontade\" + 0.013*\"dúvida\"'), (1, '0.039*\"visto\" + 0.022*\"maravilhoso\" + 0.015*\"lindo\" + 0.015*\"café\" + 0.014*\"incrível\" + 0.011*\"condomínio\" + 0.011*\"piscina\" + 0.011*\"noto\" + 0.011*\"flat\" + 0.010*\"manhã\"'), (2, '0.027*\"otima\" + 0.027*\"host\" + 0.026*\"otimo\" + 0.017*\"the\" + 0.016*\"and\" + 0.016*\"localizacao\" + 0.015*\"proximo\" + 0.015*\"perfazer\" + 0.014*\"nao\" + 0.013*\"juliano\"'), (3, '0.027*\"aconchegante\" + 0.025*\"organizar\" + 0.024*\"foto\" + 0.020*\"prestativo\" + 0.020*\"aptar\" + 0.017*\"adorar\" + 0.016*\"agradável\" + 0.015*\"simpático\" + 0.014*\"rápido\" + 0.014*\"indicar\"'), (4, '0.030*\"cama\" + 0.019*\"cozinhar\" + 0.016*\"problema\" + 0.016*\"banheiro\" + 0.015*\"ar\" + 0.014*\"roupar\" + 0.013*\"condicionar\" + 0.011*\"funcionar\" + 0.010*\"chuveiro\" + 0.010*\"haver\"'), (5, '0.034*\"metrô\" + 0.023*\"bar\" + 0.022*\"supermercado\" + 0.022*\"mercar\" + 0.019*\"acesso\" + 0.019*\"fácil\" + 0.019*\"farmácia\" + 0.017*\"copacabana\" + 0.013*\"padaria\" + 0.013*\"tranquilo\"')] \n",
      "\n",
      "Coherence: 0.567417107646358\n",
      "Number of topics =  7\n",
      "[(0, '0.014*\"dia\" + 0.012*\"ruir\" + 0.012*\"café\" + 0.012*\"noite\" + 0.011*\"deixar\" + 0.011*\"chegar\" + 0.010*\"haver\" + 0.010*\"manhã\" + 0.010*\"centrar\" + 0.008*\"visto\"'), (1, '0.031*\"metrô\" + 0.024*\"dica\" + 0.020*\"dar\" + 0.019*\"bar\" + 0.018*\"mercar\" + 0.017*\"supermercado\" + 0.016*\"copacabana\" + 0.015*\"farmácia\" + 0.014*\"tranquilo\" + 0.014*\"ajudar\"'), (2, '0.022*\"melhor\" + 0.018*\"hospedar\" + 0.013*\"experiência\" + 0.013*\"maravilhoso\" + 0.012*\"precisar\" + 0.012*\"ajudar\" + 0.012*\"hospedagem\" + 0.011*\"esperar\" + 0.011*\"aptar\" + 0.010*\"atender\"'), (3, '0.034*\"responder\" + 0.027*\"rápido\" + 0.025*\"foto\" + 0.022*\"problema\" + 0.019*\"check\" + 0.013*\"horário\" + 0.013*\"in\" + 0.011*\"flexível\" + 0.011*\"comunicação\" + 0.011*\"anúncio\"'), (4, '0.119*\"fácil\" + 0.092*\"acesso\" + 0.065*\"expectativa\" + 0.057*\"custar\" + 0.041*\"benefício\" + 0.039*\"superar\" + 0.028*\"preço\" + 0.018*\"comunicação\" + 0.017*\"público\" + 0.015*\"transportar\"'), (5, '0.037*\"cama\" + 0.024*\"cozinhar\" + 0.019*\"ar\" + 0.017*\"roupar\" + 0.016*\"condicionar\" + 0.016*\"banheiro\" + 0.014*\"prédio\" + 0.011*\"equipar\" + 0.011*\"funcionar\" + 0.011*\"utensílio\"'), (6, '0.029*\"maravilhoso\" + 0.027*\"aconchegante\" + 0.022*\"visto\" + 0.019*\"incrível\" + 0.018*\"organizar\" + 0.017*\"adorar\" + 0.016*\"hospitalidade\" + 0.016*\"simpático\" + 0.016*\"agradável\" + 0.014*\"prestativo\"')] \n",
      "\n",
      "Coherence: 0.5607215404162773\n",
      "Number of topics =  8\n",
      "[(0, '0.064*\"deixar\" + 0.063*\"vontade\" + 0.037*\"custar\" + 0.027*\"benefício\" + 0.026*\"hospedagem\" + 0.022*\"anúncio\" + 0.019*\"sentir\" + 0.018*\"foto\" + 0.015*\"descrever\" + 0.012*\"flat\"'), (1, '0.020*\"melhor\" + 0.016*\"hospitalidade\" + 0.016*\"experiência\" + 0.014*\"sentir\" + 0.014*\"maravilhoso\" + 0.014*\"valer\" + 0.014*\"hospedar\" + 0.013*\"limpeza\" + 0.013*\"dia\" + 0.012*\"atenção\"'), (2, '0.028*\"foto\" + 0.024*\"farmácia\" + 0.024*\"metrô\" + 0.023*\"mercar\" + 0.023*\"responder\" + 0.023*\"supermercado\" + 0.021*\"bar\" + 0.020*\"aptar\" + 0.017*\"copacabana\" + 0.015*\"padaria\"'), (3, '0.070*\"noto\" + 0.054*\"10\" + 0.033*\"otima\" + 0.033*\"host\" + 0.032*\"otimo\" + 0.030*\"mto\" + 0.021*\"the\" + 0.019*\"and\" + 0.019*\"localizacao\" + 0.016*\"juliano\"'), (4, '0.025*\"aconchegante\" + 0.023*\"organizar\" + 0.022*\"prestativo\" + 0.022*\"ajudar\" + 0.020*\"simpático\" + 0.019*\"agradável\" + 0.018*\"dica\" + 0.017*\"pessoa\" + 0.015*\"adorar\" + 0.015*\"dar\"'), (5, '0.032*\"cama\" + 0.021*\"cozinhar\" + 0.017*\"banheiro\" + 0.016*\"ar\" + 0.015*\"problema\" + 0.015*\"roupar\" + 0.014*\"condicionar\" + 0.014*\"check\" + 0.011*\"chuveiro\" + 0.011*\"funcionar\"'), (6, '0.024*\"metrô\" + 0.024*\"acesso\" + 0.023*\"fácil\" + 0.019*\"tranquilo\" + 0.018*\"ruir\" + 0.015*\"bairro\" + 0.012*\"bar\" + 0.012*\"pé\" + 0.011*\"transportar\" + 0.011*\"minuto\"'), (7, '0.053*\"visto\" + 0.041*\"maravilhoso\" + 0.022*\"incrível\" + 0.021*\"lindo\" + 0.020*\"condomínio\" + 0.019*\"café\" + 0.015*\"piscina\" + 0.015*\"expectativa\" + 0.013*\"aconchegante\" + 0.013*\"superar\"')] \n",
      "\n",
      "Coherence: 0.5862468363096811\n",
      "Number of topics =  9\n",
      "[(0, '0.023*\"maravilhoso\" + 0.022*\"sentir\" + 0.017*\"deixar\" + 0.016*\"pessoa\" + 0.016*\"incrível\" + 0.015*\"receber\" + 0.015*\"vontade\" + 0.014*\"experiência\" + 0.014*\"hospitalidade\" + 0.014*\"melhor\"'), (1, '0.042*\"metrô\" + 0.027*\"supermercado\" + 0.026*\"mercar\" + 0.026*\"bar\" + 0.022*\"farmácia\" + 0.017*\"padaria\" + 0.016*\"copacabana\" + 0.014*\"comércio\" + 0.014*\"estação\" + 0.012*\"quadrar\"'), (2, '0.018*\"problema\" + 0.016*\"ter\" + 0.015*\"dia\" + 0.015*\"haver\" + 0.011*\"deixar\" + 0.011*\"ser\" + 0.010*\"banheiro\" + 0.010*\"chegar\" + 0.008*\"cama\" + 0.008*\"pequeno\"'), (3, '0.036*\"foto\" + 0.019*\"dúvida\" + 0.019*\"responder\" + 0.018*\"prestativo\" + 0.015*\"aptar\" + 0.014*\"organizar\" + 0.014*\"atender\" + 0.013*\"hospedagem\" + 0.013*\"adorar\" + 0.013*\"ajudar\"'), (4, '0.045*\"check\" + 0.031*\"in\" + 0.029*\"horário\" + 0.026*\"horar\" + 0.025*\"flexível\" + 0.023*\"prédio\" + 0.023*\"check-in\" + 0.020*\"ruir\" + 0.019*\"out\" + 0.019*\"portar\"'), (5, '0.050*\"cama\" + 0.032*\"cozinhar\" + 0.028*\"ar\" + 0.027*\"valer\" + 0.026*\"condicionar\" + 0.022*\"roupar\" + 0.022*\"peno\" + 0.021*\"custar\" + 0.018*\"banheiro\" + 0.018*\"equipar\"'), (6, '0.044*\"expectativa\" + 0.040*\"aptar\" + 0.027*\"superar\" + 0.023*\"perfazer\" + 0.022*\"leblon\" + 0.019*\"ipanema\" + 0.017*\"copacabana\" + 0.016*\"otimo\" + 0.016*\"ap\" + 0.015*\"melhor\"'), (7, '0.125*\"visto\" + 0.044*\"maravilhoso\" + 0.037*\"lindo\" + 0.034*\"piscina\" + 0.030*\"incrível\" + 0.025*\"mar\" + 0.018*\"barrir\" + 0.017*\"condomínio\" + 0.013*\"the\" + 0.013*\"varanda\"'), (8, '0.037*\"aconchegante\" + 0.036*\"fácil\" + 0.031*\"tranquilo\" + 0.030*\"comunicação\" + 0.028*\"rápido\" + 0.028*\"acesso\" + 0.027*\"agradável\" + 0.021*\"organizar\" + 0.019*\"ambientar\" + 0.016*\"simpático\"')] \n",
      "\n",
      "Coherence: 0.5272159729153906\n",
      "Number of topics =  10\n",
      "[(0, '0.033*\"cama\" + 0.021*\"cozinhar\" + 0.017*\"banheiro\" + 0.016*\"ar\" + 0.015*\"roupar\" + 0.014*\"condicionar\" + 0.012*\"problema\" + 0.011*\"chuveiro\" + 0.011*\"haver\" + 0.010*\"ter\"'), (1, '0.033*\"aconchegante\" + 0.026*\"adorar\" + 0.024*\"organizar\" + 0.023*\"hospitalidade\" + 0.022*\"agradável\" + 0.019*\"maravilhoso\" + 0.018*\"aptar\" + 0.017*\"hospedagem\" + 0.017*\"ambientar\" + 0.017*\"limpeza\"'), (2, '0.041*\"lapa\" + 0.029*\"the\" + 0.027*\"and\" + 0.025*\"santo\" + 0.024*\"host\" + 0.015*\"teresa\" + 0.015*\"to\" + 0.014*\"is\" + 0.011*\"in\" + 0.011*\"tereza\"'), (3, '0.031*\"acesso\" + 0.030*\"fácil\" + 0.027*\"dica\" + 0.023*\"bairro\" + 0.022*\"dar\" + 0.022*\"tranquilo\" + 0.017*\"cidade\" + 0.014*\"opção\" + 0.013*\"transportar\" + 0.012*\"região\"'), (4, '0.045*\"metrô\" + 0.037*\"supermercado\" + 0.036*\"mercar\" + 0.036*\"bar\" + 0.032*\"farmácia\" + 0.031*\"copacabana\" + 0.023*\"padaria\" + 0.021*\"quadrar\" + 0.019*\"ipanema\" + 0.017*\"estação\"'), (5, '0.060*\"check\" + 0.042*\"in\" + 0.030*\"horário\" + 0.026*\"flexível\" + 0.025*\"out\" + 0.025*\"preço\" + 0.021*\"otima\" + 0.020*\"otimo\" + 0.018*\"mto\" + 0.016*\"aptar\"'), (6, '0.051*\"responder\" + 0.045*\"rápido\" + 0.039*\"dúvida\" + 0.035*\"atender\" + 0.033*\"ajudar\" + 0.027*\"expectativa\" + 0.027*\"precisar\" + 0.018*\"comunicação\" + 0.017*\"necessidade\" + 0.017*\"disponível\"'), (7, '0.030*\"maravilhoso\" + 0.029*\"visto\" + 0.020*\"incrível\" + 0.019*\"sentir\" + 0.017*\"melhor\" + 0.016*\"deixar\" + 0.015*\"pessoa\" + 0.013*\"experiência\" + 0.013*\"vontade\" + 0.012*\"receber\"'), (8, '0.074*\"foto\" + 0.023*\"prédio\" + 0.022*\"anúncio\" + 0.022*\"prestativo\" + 0.021*\"flat\" + 0.021*\"condomínio\" + 0.018*\"descrever\" + 0.016*\"educar\" + 0.015*\"piscina\" + 0.015*\"funcionário\"'), (9, '0.091*\"valer\" + 0.075*\"peno\" + 0.072*\"custar\" + 0.062*\"noto\" + 0.054*\"10\" + 0.052*\"benefício\" + 0.031*\"acomodação\" + 0.019*\"beneficiar\" + 0.018*\"top\" + 0.015*\"juliano\"')] \n",
      "\n"
     ]
    },
    {
     "name": "stdout",
     "output_type": "stream",
     "text": [
      "Coherence: 0.5873607644226186\n",
      "Number of topics =  11\n",
      "[(0, '0.020*\"dia\" + 0.016*\"cidade\" + 0.013*\"noite\" + 0.013*\"chegar\" + 0.012*\"bairro\" + 0.012*\"tranquilo\" + 0.011*\"acesso\" + 0.011*\"passar\" + 0.011*\"lapa\" + 0.010*\"centrar\"'), (1, '0.039*\"deixar\" + 0.038*\"dica\" + 0.035*\"dar\" + 0.030*\"ajudar\" + 0.029*\"vontade\" + 0.022*\"dúvida\" + 0.020*\"receber\" + 0.018*\"precisar\" + 0.015*\"chegar\" + 0.014*\"café\"'), (2, '0.060*\"foto\" + 0.028*\"prestativo\" + 0.027*\"fácil\" + 0.026*\"organizar\" + 0.022*\"simpático\" + 0.020*\"agradável\" + 0.020*\"tranquilo\" + 0.020*\"aptar\" + 0.020*\"acesso\" + 0.016*\"educar\"'), (3, '0.062*\"metrô\" + 0.041*\"supermercado\" + 0.040*\"mercar\" + 0.039*\"bar\" + 0.033*\"farmácia\" + 0.025*\"padaria\" + 0.021*\"quadrar\" + 0.021*\"estação\" + 0.020*\"copacabana\" + 0.018*\"comércio\"'), (4, '0.050*\"visto\" + 0.042*\"condomínio\" + 0.024*\"piscina\" + 0.021*\"estruturar\" + 0.019*\"barrir\" + 0.018*\"flat\" + 0.018*\"preço\" + 0.016*\"lindo\" + 0.015*\"frente\" + 0.014*\"prédio\"'), (5, '0.047*\"check\" + 0.044*\"rápido\" + 0.034*\"custar\" + 0.033*\"comunicação\" + 0.032*\"atendimento\" + 0.032*\"in\" + 0.031*\"noto\" + 0.031*\"horário\" + 0.027*\"flexível\" + 0.024*\"10\"'), (6, '0.037*\"cama\" + 0.026*\"cozinhar\" + 0.021*\"banheiro\" + 0.019*\"ar\" + 0.017*\"condicionar\" + 0.017*\"roupar\" + 0.013*\"chuveiro\" + 0.013*\"problema\" + 0.013*\"funcionar\" + 0.011*\"toalha\"'), (7, '0.030*\"aconchegante\" + 0.027*\"hospitalidade\" + 0.022*\"adorar\" + 0.020*\"maravilhoso\" + 0.019*\"hospedar\" + 0.018*\"expectativa\" + 0.018*\"indicar\" + 0.017*\"perfazer\" + 0.016*\"esperar\" + 0.016*\"melhor\"'), (8, '0.040*\"maravilhoso\" + 0.030*\"incrível\" + 0.024*\"pessoa\" + 0.023*\"sentir\" + 0.023*\"valer\" + 0.019*\"peno\" + 0.018*\"amar\" + 0.017*\"visto\" + 0.016*\"cuidar\" + 0.015*\"dono\"'), (9, '0.038*\"copacabana\" + 0.029*\"ipanema\" + 0.022*\"aptar\" + 0.019*\"ap\" + 0.019*\"leblon\" + 0.019*\"apt\" + 0.017*\"otimo\" + 0.016*\"otima\" + 0.015*\"ruir\" + 0.013*\"rodrigar\"'), (10, '0.042*\"the\" + 0.039*\"and\" + 0.032*\"host\" + 0.022*\"to\" + 0.020*\"is\" + 0.016*\"in\" + 0.014*\"clean\" + 0.014*\"very\" + 0.011*\"apartment\" + 0.011*\"miguel\"')] \n",
      "\n",
      "Coherence: 0.5522446755445133\n",
      "Number of topics =  12\n",
      "[(0, '0.066*\"cama\" + 0.041*\"cozinhar\" + 0.032*\"roupar\" + 0.025*\"ar\" + 0.023*\"condicionar\" + 0.022*\"limpo\" + 0.022*\"banheiro\" + 0.020*\"utensílio\" + 0.020*\"toalha\" + 0.019*\"equipar\"'), (1, '0.044*\"deixar\" + 0.034*\"sentir\" + 0.033*\"vontade\" + 0.024*\"pessoa\" + 0.022*\"receber\" + 0.016*\"dono\" + 0.016*\"simpático\" + 0.015*\"café\" + 0.014*\"maravilhoso\" + 0.013*\"hospedar\"'), (2, '0.021*\"problema\" + 0.016*\"haver\" + 0.015*\"ter\" + 0.014*\"dia\" + 0.011*\"chegar\" + 0.010*\"deixar\" + 0.010*\"ser\" + 0.009*\"prédio\" + 0.009*\"único\" + 0.009*\"banheiro\"'), (3, '0.057*\"dica\" + 0.051*\"dar\" + 0.029*\"cidade\" + 0.018*\"lugar\" + 0.015*\"leblon\" + 0.015*\"bairro\" + 0.014*\"opção\" + 0.014*\"dia\" + 0.014*\"ajudar\" + 0.013*\"janeiro\"'), (4, '0.052*\"foto\" + 0.034*\"prestativo\" + 0.030*\"organizar\" + 0.028*\"responder\" + 0.023*\"dúvida\" + 0.022*\"simpático\" + 0.020*\"educar\" + 0.020*\"adorar\" + 0.018*\"agradável\" + 0.018*\"aconchegante\"'), (5, '0.076*\"fácil\" + 0.066*\"acesso\" + 0.050*\"rápido\" + 0.045*\"comunicação\" + 0.037*\"custar\" + 0.026*\"benefício\" + 0.024*\"respostar\" + 0.023*\"check-in\" + 0.022*\"transportar\" + 0.019*\"horário\"'), (6, '0.055*\"metrô\" + 0.037*\"supermercado\" + 0.036*\"mercar\" + 0.036*\"bar\" + 0.031*\"farmácia\" + 0.024*\"copacabana\" + 0.023*\"padaria\" + 0.021*\"quadrar\" + 0.020*\"ruir\" + 0.019*\"estação\"'), (7, '0.029*\"melhor\" + 0.027*\"hospitalidade\" + 0.020*\"experiência\" + 0.019*\"atenção\" + 0.019*\"limpeza\" + 0.016*\"agradecer\" + 0.015*\"impecável\" + 0.015*\"noto\" + 0.015*\"10\" + 0.015*\"hospedar\"'), (8, '0.065*\"maravilhoso\" + 0.065*\"visto\" + 0.039*\"incrível\" + 0.038*\"aconchegante\" + 0.026*\"lindar\" + 0.025*\"lindo\" + 0.022*\"amar\" + 0.017*\"perfazer\" + 0.015*\"ana\" + 0.015*\"adorar\"'), (9, '0.078*\"valer\" + 0.075*\"check\" + 0.064*\"peno\" + 0.053*\"in\" + 0.044*\"atendimento\" + 0.041*\"acomodação\" + 0.039*\"preço\" + 0.032*\"out\" + 0.016*\"justar\" + 0.016*\"flexível\"'), (10, '0.053*\"host\" + 0.048*\"mto\" + 0.033*\"the\" + 0.031*\"and\" + 0.029*\"evento\" + 0.027*\"fátima\" + 0.020*\"olímpico\" + 0.019*\"riocentro\" + 0.018*\"parque\" + 0.018*\"tatiana\"'), (11, '0.057*\"atender\" + 0.056*\"aptar\" + 0.055*\"ajudar\" + 0.044*\"expectativa\" + 0.028*\"necessidade\" + 0.027*\"superar\" + 0.024*\"pessoa\" + 0.023*\"precisar\" + 0.017*\"disposto\" + 0.016*\"otima\"')] \n",
      "\n",
      "Coherence: 0.6293202887662782\n",
      "Number of topics =  13\n",
      "[(0, '0.081*\"foto\" + 0.056*\"responder\" + 0.039*\"check\" + 0.032*\"rápido\" + 0.026*\"in\" + 0.022*\"flexível\" + 0.022*\"horário\" + 0.022*\"anúncio\" + 0.018*\"descrever\" + 0.017*\"out\"'), (1, '0.036*\"tranquilo\" + 0.035*\"aptar\" + 0.025*\"segurar\" + 0.022*\"otimo\" + 0.020*\"otima\" + 0.020*\"bairro\" + 0.018*\"ap\" + 0.016*\"horar\" + 0.016*\"portar\" + 0.015*\"24\"'), (2, '0.089*\"visto\" + 0.059*\"maravilhoso\" + 0.040*\"incrível\" + 0.033*\"condomínio\" + 0.031*\"lindo\" + 0.026*\"piscina\" + 0.020*\"flat\" + 0.018*\"mar\" + 0.018*\"barrir\" + 0.013*\"lindar\"'), (3, '0.048*\"melhor\" + 0.037*\"ajudar\" + 0.028*\"dúvida\" + 0.027*\"experiência\" + 0.022*\"precisar\" + 0.020*\"hospedar\" + 0.018*\"maravilhoso\" + 0.018*\"noto\" + 0.017*\"ser\" + 0.016*\"incrível\"'), (4, '0.036*\"atender\" + 0.034*\"hospitalidade\" + 0.033*\"limpeza\" + 0.030*\"expectativa\" + 0.025*\"atendimento\" + 0.025*\"comunicação\" + 0.024*\"hospedagem\" + 0.024*\"impecável\" + 0.019*\"necessidade\" + 0.018*\"atenção\"'), (5, '0.048*\"aconchegante\" + 0.038*\"prestativo\" + 0.037*\"organizar\" + 0.033*\"adorar\" + 0.032*\"simpático\" + 0.031*\"educar\" + 0.030*\"agradável\" + 0.027*\"aptar\" + 0.026*\"valer\" + 0.022*\"peno\"'), (6, '0.038*\"deixar\" + 0.035*\"sentir\" + 0.030*\"vontade\" + 0.019*\"receber\" + 0.017*\"maravilhoso\" + 0.016*\"pessoa\" + 0.015*\"café\" + 0.014*\"caro\" + 0.013*\"cuidar\" + 0.011*\"ana\"'), (7, '0.058*\"cama\" + 0.040*\"cozinhar\" + 0.030*\"ar\" + 0.028*\"banheiro\" + 0.026*\"condicionar\" + 0.026*\"roupar\" + 0.019*\"funcionar\" + 0.017*\"utensílio\" + 0.017*\"toalha\" + 0.017*\"chuveiro\"'), (8, '0.074*\"dica\" + 0.064*\"dar\" + 0.034*\"cidade\" + 0.020*\"lugar\" + 0.019*\"lapa\" + 0.017*\"bairro\" + 0.016*\"ótimas\" + 0.013*\"conhecer\" + 0.013*\"centrar\" + 0.013*\"locar\"'), (9, '0.057*\"copacabana\" + 0.032*\"ipanema\" + 0.025*\"quadrar\" + 0.024*\"pé\" + 0.023*\"metrô\" + 0.022*\"minuto\" + 0.022*\"ruir\" + 0.020*\"bar\" + 0.015*\"opção\" + 0.014*\"leblon\"'), (10, '0.028*\"problema\" + 0.019*\"dia\" + 0.018*\"ter\" + 0.018*\"haver\" + 0.015*\"chegar\" + 0.012*\"ser\" + 0.011*\"único\" + 0.010*\"noite\" + 0.010*\"entrar\" + 0.010*\"deixar\"'), (11, '0.117*\"custar\" + 0.083*\"benefício\" + 0.035*\"the\" + 0.033*\"and\" + 0.032*\"host\" + 0.030*\"beneficiar\" + 0.018*\"to\" + 0.017*\"is\" + 0.015*\"in\" + 0.012*\"clean\"'), (12, '0.054*\"metrô\" + 0.051*\"fácil\" + 0.046*\"mercar\" + 0.044*\"acesso\" + 0.041*\"supermercado\" + 0.041*\"farmácia\" + 0.033*\"bar\" + 0.029*\"padaria\" + 0.021*\"comércio\" + 0.021*\"ônibus\"')] \n",
      "\n",
      "Coherence: 0.5655353754398365\n"
     ]
    }
   ],
   "source": [
    "# Treina diferentes modelos LDA, com num_topics variando de 5 a 13\n",
    "num_topics = range(5, 14)\n",
    "passes = 10\n",
    "\n",
    "lda_models = {}\n",
    "\n",
    "for n in num_topics:\n",
    "    print('Number of topics = ', n)\n",
    "    \n",
    "    lda = LdaMulticore(corpus = doc_term_matrix,\n",
    "                       id2word = dictionary,\n",
    "                       num_topics = n,\n",
    "                       workers = 3,\n",
    "                       passes = passes)\n",
    "    \n",
    "    lda_models[str(n)] = lda\n",
    "\n",
    "    cm = CoherenceModel(model = lda, \n",
    "                        texts = preprocessed_corpus,\n",
    "                        dictionary = dictionary,\n",
    "                        coherence = 'c_v')\n",
    "    \n",
    "    print(lda.print_topics(), '\\n')\n",
    "    print(\"Coherence:\", cm.get_coherence())"
   ]
  },
  {
   "cell_type": "markdown",
   "metadata": {},
   "source": [
    "Analisando o Coherence score, o melhor modelo seria aquele treinado com `num_topics = 12`. Entretanto, analisando a interpretabilidade dos tópicos identificados, esse modelo deixa a desejar, uma vez que há uma sobreposição de temas em diferentes tópicos. Assim, é preferível selecionar um modelo com menor número de tópicos, que vai oferecer resultados mais interpretáveis"
   ]
  },
  {
   "cell_type": "code",
   "execution_count": 61,
   "metadata": {},
   "outputs": [],
   "source": [
    "# Seleciona o modelo treinado com num_topics = 5\n",
    "lda_model = lda_models[\"5\"]\n",
    "\n",
    "# Salva o modelo\n",
    "lda_model.save(\"model/lda\")"
   ]
  },
  {
   "cell_type": "markdown",
   "metadata": {},
   "source": [
    "## Visualização dos Tópicos"
   ]
  },
  {
   "cell_type": "code",
   "execution_count": 66,
   "metadata": {},
   "outputs": [
    {
     "name": "stderr",
     "output_type": "stream",
     "text": [
      "/Users/marcelle/anaconda3/lib/python3.7/site-packages/pyLDAvis/_prepare.py:257: FutureWarning: Sorting because non-concatenation axis is not aligned. A future version\n",
      "of pandas will change to not sort by default.\n",
      "\n",
      "To accept the future behavior, pass 'sort=False'.\n",
      "\n",
      "To retain the current behavior and silence the warning, pass 'sort=True'.\n",
      "\n",
      "  return pd.concat([default_term_info] + list(topic_dfs))\n"
     ]
    },
    {
     "data": {
      "text/html": [
       "\n",
       "<link rel=\"stylesheet\" type=\"text/css\" href=\"https://cdn.rawgit.com/bmabey/pyLDAvis/files/ldavis.v1.0.0.css\">\n",
       "\n",
       "\n",
       "<div id=\"ldavis_el118051130023441449976315585\"></div>\n",
       "<script type=\"text/javascript\">\n",
       "\n",
       "var ldavis_el118051130023441449976315585_data = {\"mdsDat\": {\"x\": [0.13232320319499297, 0.04706853822128531, -0.3992792970868046, 0.13052385987169932, 0.08936369579882648], \"y\": [0.10737740173668285, -0.2799478202560453, 0.03997118640407295, 0.07478888307925116, 0.0578103490360383], \"topics\": [1, 2, 3, 4, 5], \"cluster\": [1, 1, 1, 1, 1], \"Freq\": [19.359996795654297, 23.678695678710938, 5.785852909088135, 28.288707733154297, 22.886743545532227]}, \"tinfo\": {\"Category\": [\"Default\", \"Default\", \"Default\", \"Default\", \"Default\", \"Default\", \"Default\", \"Default\", \"Default\", \"Default\", \"Default\", \"Default\", \"Default\", \"Default\", \"Default\", \"Default\", \"Default\", \"Default\", \"Default\", \"Default\", \"Default\", \"Default\", \"Default\", \"Default\", \"Default\", \"Default\", \"Default\", \"Default\", \"Default\", \"Default\", \"Topic1\", \"Topic1\", \"Topic1\", \"Topic1\", \"Topic1\", \"Topic1\", \"Topic1\", \"Topic1\", \"Topic1\", \"Topic1\", \"Topic1\", \"Topic1\", \"Topic1\", \"Topic1\", \"Topic1\", \"Topic1\", \"Topic1\", \"Topic1\", \"Topic1\", \"Topic1\", \"Topic1\", \"Topic1\", \"Topic1\", \"Topic1\", \"Topic1\", \"Topic1\", \"Topic1\", \"Topic1\", \"Topic1\", \"Topic1\", \"Topic1\", \"Topic1\", \"Topic1\", \"Topic1\", \"Topic1\", \"Topic1\", \"Topic1\", \"Topic1\", \"Topic1\", \"Topic1\", \"Topic1\", \"Topic1\", \"Topic1\", \"Topic1\", \"Topic1\", \"Topic1\", \"Topic1\", \"Topic1\", \"Topic1\", \"Topic1\", \"Topic1\", \"Topic1\", \"Topic1\", \"Topic1\", \"Topic1\", \"Topic1\", \"Topic1\", \"Topic1\", \"Topic1\", \"Topic1\", \"Topic1\", \"Topic1\", \"Topic1\", \"Topic1\", \"Topic1\", \"Topic1\", \"Topic1\", \"Topic1\", \"Topic1\", \"Topic1\", \"Topic1\", \"Topic1\", \"Topic1\", \"Topic1\", \"Topic1\", \"Topic2\", \"Topic2\", \"Topic2\", \"Topic2\", \"Topic2\", \"Topic2\", \"Topic2\", \"Topic2\", \"Topic2\", \"Topic2\", \"Topic2\", \"Topic2\", \"Topic2\", \"Topic2\", \"Topic2\", \"Topic2\", \"Topic2\", \"Topic2\", \"Topic2\", \"Topic2\", \"Topic2\", \"Topic2\", \"Topic2\", \"Topic2\", \"Topic2\", \"Topic2\", \"Topic2\", \"Topic2\", \"Topic2\", \"Topic2\", \"Topic2\", \"Topic2\", \"Topic2\", \"Topic2\", \"Topic2\", \"Topic2\", \"Topic2\", \"Topic2\", \"Topic2\", \"Topic2\", \"Topic2\", \"Topic2\", \"Topic2\", \"Topic2\", \"Topic2\", \"Topic2\", \"Topic2\", \"Topic2\", \"Topic2\", \"Topic2\", \"Topic2\", \"Topic2\", \"Topic2\", \"Topic2\", \"Topic3\", \"Topic3\", \"Topic3\", \"Topic3\", \"Topic3\", \"Topic3\", \"Topic3\", \"Topic3\", \"Topic3\", \"Topic3\", \"Topic3\", \"Topic3\", \"Topic3\", \"Topic3\", \"Topic3\", \"Topic3\", \"Topic3\", \"Topic3\", \"Topic3\", \"Topic3\", \"Topic3\", \"Topic3\", \"Topic3\", \"Topic3\", \"Topic3\", \"Topic3\", \"Topic3\", \"Topic3\", \"Topic3\", \"Topic3\", \"Topic3\", \"Topic3\", \"Topic3\", \"Topic3\", \"Topic3\", \"Topic3\", \"Topic3\", \"Topic3\", \"Topic3\", \"Topic3\", \"Topic3\", \"Topic3\", \"Topic3\", \"Topic4\", \"Topic4\", \"Topic4\", \"Topic4\", \"Topic4\", \"Topic4\", \"Topic4\", \"Topic4\", \"Topic4\", \"Topic4\", \"Topic4\", \"Topic4\", \"Topic4\", \"Topic4\", \"Topic4\", \"Topic4\", \"Topic4\", \"Topic4\", \"Topic4\", \"Topic4\", \"Topic4\", \"Topic4\", \"Topic4\", \"Topic4\", \"Topic4\", \"Topic4\", \"Topic4\", \"Topic4\", \"Topic4\", \"Topic4\", \"Topic4\", \"Topic4\", \"Topic4\", \"Topic4\", \"Topic4\", \"Topic4\", \"Topic4\", \"Topic4\", \"Topic4\", \"Topic4\", \"Topic4\", \"Topic4\", \"Topic4\", \"Topic4\", \"Topic4\", \"Topic4\", \"Topic4\", \"Topic4\", \"Topic4\", \"Topic4\", \"Topic4\", \"Topic4\", \"Topic4\", \"Topic4\", \"Topic4\", \"Topic4\", \"Topic4\", \"Topic4\", \"Topic4\", \"Topic4\", \"Topic4\", \"Topic4\", \"Topic4\", \"Topic4\", \"Topic4\", \"Topic4\", \"Topic4\", \"Topic4\", \"Topic4\", \"Topic4\", \"Topic4\", \"Topic4\", \"Topic4\", \"Topic5\", \"Topic5\", \"Topic5\", \"Topic5\", \"Topic5\", \"Topic5\", \"Topic5\", \"Topic5\", \"Topic5\", \"Topic5\", \"Topic5\", \"Topic5\", \"Topic5\", \"Topic5\", \"Topic5\", \"Topic5\", \"Topic5\", \"Topic5\", \"Topic5\", \"Topic5\", \"Topic5\", \"Topic5\", \"Topic5\", \"Topic5\", \"Topic5\", \"Topic5\", \"Topic5\", \"Topic5\", \"Topic5\", \"Topic5\", \"Topic5\", \"Topic5\", \"Topic5\", \"Topic5\", \"Topic5\", \"Topic5\", \"Topic5\", \"Topic5\", \"Topic5\", \"Topic5\", \"Topic5\", \"Topic5\", \"Topic5\", \"Topic5\", \"Topic5\", \"Topic5\", \"Topic5\", \"Topic5\", \"Topic5\", \"Topic5\", \"Topic5\", \"Topic5\", \"Topic5\", \"Topic5\", \"Topic5\", \"Topic5\", \"Topic5\", \"Topic5\"], \"Freq\": [6248.0, 12026.0, 10260.0, 4786.0, 8214.0, 7967.0, 4061.0, 7679.0, 7203.0, 3525.0, 7840.0, 6362.0, 6769.0, 10017.0, 3118.0, 8593.0, 14191.0, 5661.0, 7245.0, 2716.0, 5272.0, 11701.0, 4881.0, 3217.0, 4725.0, 4672.0, 9342.0, 4607.0, 5580.0, 6225.0, 1284.5338134765625, 1185.2919921875, 2824.24755859375, 777.2410278320312, 708.977294921875, 688.7920532226562, 556.8450317382812, 533.4913940429688, 434.6903076171875, 433.4070739746094, 281.1360778808594, 2936.62841796875, 232.09591674804688, 225.80648803710938, 2183.416015625, 205.96572875976562, 195.4939422607422, 194.90118408203125, 187.1859893798828, 283.9049072265625, 177.72967529296875, 175.3826904296875, 174.60382080078125, 172.76844787597656, 167.14788818359375, 573.8946533203125, 146.61492919921875, 138.6774139404297, 1345.3966064453125, 128.67381286621094, 3004.02978515625, 419.27734375, 294.9546813964844, 558.9072265625, 269.5415954589844, 1904.275390625, 4148.2890625, 362.99188232421875, 1854.89111328125, 1621.6336669921875, 1994.4462890625, 335.5096435546875, 7497.849609375, 729.02392578125, 4459.25244140625, 5032.1005859375, 7422.2255859375, 1211.6094970703125, 3357.002685546875, 1871.6363525390625, 5235.84814453125, 2123.9013671875, 1548.1143798828125, 3026.072998046875, 5732.5546875, 3310.448486328125, 2637.385009765625, 1777.699462890625, 4126.326171875, 3437.603759765625, 2266.572998046875, 4983.3369140625, 3390.7744140625, 2426.730224609375, 2827.236328125, 2745.9384765625, 2881.953369140625, 2563.94482421875, 3151.1572265625, 2431.701904296875, 2812.162109375, 2708.3447265625, 2598.443359375, 2636.547119140625, 2418.869873046875, 10259.2275390625, 7202.08837890625, 5661.00537109375, 5271.7578125, 4724.76318359375, 4671.75927734375, 3695.824951171875, 3051.491455078125, 2757.373046875, 2712.044189453125, 2669.36328125, 2623.93505859375, 1902.803955078125, 1697.446044921875, 1588.732177734375, 2353.310546875, 1341.589599609375, 1249.6651611328125, 1222.5489501953125, 1117.1058349609375, 1078.776611328125, 943.984375, 903.8095703125, 868.559814453125, 863.0455322265625, 848.2091674804688, 822.6974487304688, 755.2483520507812, 739.9656982421875, 704.0226440429688, 901.7222900390625, 948.6367797851562, 5473.20068359375, 1554.9093017578125, 3721.623046875, 1511.583984375, 4125.74853515625, 1642.9970703125, 2301.11181640625, 4106.4638671875, 3116.69873046875, 1397.025146484375, 3872.962890625, 3038.566650390625, 1782.6016845703125, 1711.04931640625, 2811.29931640625, 3144.01953125, 2593.48095703125, 2726.45751953125, 1945.861328125, 2614.263916015625, 2123.97119140625, 2060.787353515625, 6247.61669921875, 4786.10400390625, 3524.486083984375, 4060.573486328125, 2715.975341796875, 1705.26953125, 1931.458251953125, 1784.24169921875, 1372.2919921875, 1276.5843505859375, 1280.857666015625, 1088.069580078125, 991.7177734375, 1140.1788330078125, 716.3755493164062, 649.528076171875, 468.6773681640625, 459.8479919433594, 423.73065185546875, 380.8333435058594, 376.69384765625, 341.5498352050781, 560.4910278320312, 334.0706481933594, 319.0208740234375, 315.4347839355469, 309.2782287597656, 304.4984130859375, 300.08489990234375, 275.28228759765625, 837.9138793945312, 3016.573974609375, 1024.559326171875, 2006.5977783203125, 386.35760498046875, 505.2727355957031, 605.5215454101562, 387.5440368652344, 900.9351806640625, 786.518310546875, 637.3528442382812, 489.06317138671875, 447.95513916015625, 2214.8046875, 1447.265869140625, 3645.310791015625, 804.712158203125, 714.4884643554688, 662.0341796875, 592.3289794921875, 539.8679809570312, 534.904296875, 538.8862915039062, 487.3634948730469, 421.9945068359375, 392.3405456542969, 380.9092102050781, 337.1746520996094, 333.8664855957031, 329.4051818847656, 304.2176818847656, 296.3036193847656, 1242.2314453125, 274.4050598144531, 276.3123474121094, 268.8228454589844, 268.3978576660156, 259.38238525390625, 245.96395874023438, 248.64175415039062, 543.2882690429688, 213.89256286621094, 212.75730895996094, 5519.65185546875, 781.1845092773438, 498.3319091796875, 8233.2666015625, 2754.89208984375, 2824.72998046875, 1612.1517333984375, 3115.29150390625, 3260.3369140625, 3851.987548828125, 1228.9132080078125, 8055.638671875, 3690.975341796875, 3510.679931640625, 11195.69921875, 1225.3489990234375, 7383.50244140625, 2640.72265625, 5294.93115234375, 3119.752685546875, 1453.874755859375, 741.1472778320312, 1406.022705078125, 5779.09228515625, 5879.84814453125, 5015.05224609375, 6402.72802734375, 4491.42822265625, 2939.260009765625, 4999.63134765625, 6505.80859375, 2986.72509765625, 5124.1220703125, 4384.99267578125, 3974.94189453125, 3365.66650390625, 5580.68212890625, 4263.78369140625, 3961.32373046875, 4127.443359375, 3741.245361328125, 3789.639404296875, 3456.15478515625, 6361.28662109375, 12024.0078125, 3987.39892578125, 3442.72607421875, 2830.576416015625, 7676.6669921875, 7964.2880859375, 4878.96728515625, 2035.09521484375, 1997.221923828125, 2293.922607421875, 1519.6654052734375, 8207.2548828125, 1043.1026611328125, 905.7957763671875, 3508.994384765625, 684.5635986328125, 527.4065551757812, 520.3763427734375, 510.8791198730469, 455.10321044921875, 371.535888671875, 319.4555358886719, 319.96954345703125, 306.697509765625, 303.9749755859375, 303.90179443359375, 303.5672607421875, 2269.991943359375, 276.58526611328125, 4590.2646484375, 6626.6953125, 1251.0172119140625, 513.9925537109375, 691.7244262695312, 4446.22802734375, 2867.466796875, 1342.2105712890625, 7391.53564453125, 4356.89453125, 1643.9541015625, 859.3378295898438, 6688.56982421875, 3781.91552734375, 2285.5888671875, 3224.78759765625, 2557.605712890625, 4062.275390625, 4250.5859375, 3337.60693359375, 3197.9521484375, 2385.640625, 5340.12158203125, 2401.03955078125, 3138.5927734375, 2706.126953125, 2704.229736328125, 2720.30029296875], \"Term\": [\"check\", \"metr\\u00f4\", \"cama\", \"in\", \"bar\", \"supermercado\", \"hor\\u00e1rio\", \"mercar\", \"cozinhar\", \"flex\\u00edvel\", \"f\\u00e1cil\", \"farm\\u00e1cia\", \"acesso\", \"aptar\", \"check-in\", \"incr\\u00edvel\", \"maravilhoso\", \"banheiro\", \"copacabana\", \"out\", \"ar\", \"foto\", \"padaria\", \"pre\\u00e7o\", \"condicionar\", \"roupar\", \"sentir\", \"com\\u00e9rcio\", \"vontade\", \"problema\", \"otimo\", \"otima\", \"noto\", \"beneficiar\", \"localizacao\", \"top\", \"recrear\", \"confortavel\", \"riocentro\", \"localiza\\u00e7ao\", \"mt\", \"atendimento\", \"diego\", \"rapido\", \"benef\\u00edcio\", \"beatriz\", \"espaco\", \"participar\", \"arena\", \"marcus\", \"sao\", \"richard\", \"fatima\", \"jaqueline\", \"ctz\", \"eh\", \"c\\u00e9sar\", \"\\u00e2ngela\", \"mto\", \"proxima\", \"custar\", \"condominio\", \"agradavel\", \"ol\\u00edmpico\", \"td\", \"respostar\", \"condom\\u00ednio\", \"\\u00e1gil\", \"flat\", \"funcion\\u00e1rio\", \"estruturar\", \"apart\", \"aptar\", \"evento\", \"r\\u00e1pido\", \"responder\", \"foto\", \"igual\", \"comunica\\u00e7\\u00e3o\", \"propriet\\u00e1rio\", \"prestativo\", \"10\", \"barrir\", \"atender\", \"organizar\", \"d\\u00favida\", \"educar\", \"an\\u00fancio\", \"adorar\", \"indicar\", \"impec\\u00e1vel\", \"aconchegante\", \"equipar\", \"acomoda\\u00e7\\u00e3o\", \"perfazer\", \"perfeito\", \"limpeza\", \"dispon\\u00edvel\", \"agrad\\u00e1vel\", \"sol\\u00edcito\", \"gostar\", \"precisar\", \"hospedagem\", \"hospedar\", \"espa\\u00e7oso\", \"cama\", \"cozinhar\", \"banheiro\", \"ar\", \"condicionar\", \"roupar\", \"chuveiro\", \"toalha\", \"sala\", \"quarto\", \"banhar\", \"tv\", \"\\u00e1gua\", \"dormir\", \"internet\", \"\\u00fanico\", \"antigo\", \"wi-fi\", \"geladeira\", \"lavar\", \"ventilador\", \"colch\\u00e3o\", \"sof\\u00e1\", \"cabo\", \"len\\u00e7ol\", \"cheirar\", \"quentar\", \"microonda\", \"fog\\u00e3o\", \"incomodar\", \"b\\u00e1sico\", \"wifi\", \"problema\", \"barulhar\", \"funcionar\", \"janela\", \"haver\", \"resolver\", \"utens\\u00edlio\", \"ter\", \"pequeno\", \"usar\", \"dia\", \"chegar\", \"entrar\", \"achar\", \"ser\", \"deixar\", \"limpeza\", \"pr\\u00e9dio\", \"portar\", \"pessoa\", \"estar\", \"limpo\", \"check\", \"in\", \"flex\\u00edvel\", \"hor\\u00e1rio\", \"out\", \"combinar\", \"host\", \"check-out\", \"the\", \"and\", \"conformar\", \"justar\", \"flexibilidade\", \"checkout\", \"to\", \"is\", \"very\", \"rock\", \"angela\", \"voar\", \"apartment\", \"was\", \"compreensivo\", \"hosts\", \"great\", \"'s\", \"anna\", \"of\", \"it\", \"gale\\u00e3o\", \"cumprir\", \"check-in\", \"checkin\", \"pre\\u00e7o\", \"atrasar\", \"prometer\", \"ocorrer\", \"clean\", \"sair\", \"entrar\", \"chegar\", \"horar\", \"comunica\\u00e7\\u00e3o\", \"superar\", \"amor\", \"expectativa\", \"palavra\", \"acolhido\", \"rosar\", \"encantar\", \"gato\", \"gratid\\u00e3o\", \"fofo\", \"carinhoso\", \"acolher\", \"newton\", \"astral\", \"saudade\", \"companhia\", \"natureza\", \"lar\", \"papar\", \"querido\", \"apaixonar\", \"\\u00edmpar\", \"doce\", \"acolhimento\", \"l\\u00facia\", \"ador\\u00e1vel\", \"larissa\", \"prazer\", \"aconchegar\", \"<3\", \"vontade\", \"abra\\u00e7ar\", \"esposar\", \"incr\\u00edvel\", \"dono\", \"caro\", \"m\\u00e3e\", \"peno\", \"lindo\", \"amar\", \"especial\", \"sentir\", \"valer\", \"agradecer\", \"maravilhoso\", \"simpatia\", \"visto\", \"gente\", \"hospitalidade\", \"aten\\u00e7\\u00e3o\", \"maria\", \"f\\u00e1tima\", \"disposto\", \"experi\\u00eancia\", \"receber\", \"dica\", \"deixar\", \"dar\", \"lindar\", \"melhor\", \"pessoa\", \"fam\\u00edlia\", \"hospedar\", \"hospedagem\", \"esperar\", \"cuidar\", \"aconchegante\", \"simp\\u00e1tico\", \"ajudar\", \"adorar\", \"dia\", \"organizar\", \"agrad\\u00e1vel\", \"farm\\u00e1cia\", \"metr\\u00f4\", \"esta\\u00e7\\u00e3o\", \"\\u00f4nibus\", \"transportar\", \"mercar\", \"supermercado\", \"padaria\", \"banco\", \"lapa\", \"loja\", \"p\\u00fablico\", \"bar\", \"lanchonetes\", \"botafogo\", \"shopping\", \"locomo\\u00e7\\u00e3o\", \"transporte\", \"bike\", \"deslocamento\", \"bicicleta\", \"farmacia\", \"ita\\u00fa\", \"cinema\", \"arco\", \"vlt\", \"noturna\", \"aterrar\", \"tur\\u00edstico\", \"museu\", \"com\\u00e9rcio\", \"acesso\", \"sul\", \"orlar\", \"t\\u00e1xi\", \"metro\", \"pr\\u00f3ximo\", \"zonar\", \"f\\u00e1cil\", \"quadrar\", \"caminhar\", \"brt\", \"copacabana\", \"ipanema\", \"centrar\", \"p\\u00e9\", \"minuto\", \"bairro\", \"ruir\", \"frente\", \"op\\u00e7\\u00e3o\", \"perto\", \"tranquilo\", \"regi\\u00e3o\", \"pr\\u00e9dio\", \"cidade\", \"segurar\", \"aconchegante\"], \"Total\": [6248.0, 12026.0, 10260.0, 4786.0, 8214.0, 7967.0, 4061.0, 7679.0, 7203.0, 3525.0, 7840.0, 6362.0, 6769.0, 10017.0, 3118.0, 8593.0, 14191.0, 5661.0, 7245.0, 2716.0, 5272.0, 11701.0, 4881.0, 3217.0, 4725.0, 4672.0, 9342.0, 4607.0, 5580.0, 6225.0, 1285.494384765625, 1186.2520751953125, 2827.23095703125, 778.203125, 709.9366455078125, 689.7645263671875, 557.8187255859375, 534.4605102539062, 435.6544494628906, 434.3687438964844, 282.10064697265625, 2949.052734375, 233.08444213867188, 226.7722930908203, 2193.7841796875, 206.97381591796875, 196.45321655273438, 195.8743133544922, 188.1526336669922, 285.4429016113281, 178.6956787109375, 176.34744262695312, 175.5814208984375, 173.7708740234375, 168.14309692382812, 577.5235595703125, 147.59361267089844, 139.67034912109375, 1355.2664794921875, 129.63722229003906, 3091.803466796875, 424.1705322265625, 298.88885498046875, 573.4904174804688, 273.78131103515625, 2057.886962890625, 4691.9931640625, 373.8034362792969, 2060.119384765625, 1858.88818359375, 2353.142333984375, 349.507568359375, 10017.015625, 809.6998291015625, 5911.73486328125, 6760.3583984375, 11701.681640625, 1505.618408203125, 5125.064453125, 2612.477294921875, 9239.41015625, 3123.744384765625, 2106.9716796875, 4885.02734375, 11521.2470703125, 6439.111328125, 4797.63427734375, 2791.20654296875, 9417.205078125, 7307.50439453125, 3989.29638671875, 13285.203125, 7363.7744140625, 4604.8896484375, 6077.8642578125, 5774.0517578125, 6350.095703125, 5220.4384765625, 8590.396484375, 4817.779296875, 7877.583984375, 8600.3388671875, 8266.875, 9951.1416015625, 5916.3193359375, 10260.1689453125, 7203.03271484375, 5661.94677734375, 5272.6953125, 4725.70068359375, 4672.69775390625, 3696.7646484375, 3052.429443359375, 2758.312744140625, 2712.98486328125, 2670.30126953125, 2624.87255859375, 1903.741455078125, 1698.390625, 1589.671875, 2354.81689453125, 1342.5361328125, 1250.6063232421875, 1223.486328125, 1118.0433349609375, 1079.7137451171875, 944.9216918945312, 904.7454833984375, 869.4956665039062, 863.9833984375, 849.1442260742188, 823.6345825195312, 756.1849365234375, 740.9014892578125, 704.962890625, 905.2882080078125, 961.9962158203125, 6225.48291015625, 1674.7210693359375, 4481.462890625, 1677.020263671875, 5707.0810546875, 1911.2982177734375, 3030.9169921875, 6686.52392578125, 5162.357421875, 1657.223388671875, 9432.65625, 6796.98876953125, 2629.147705078125, 2425.4169921875, 7035.63671875, 9854.2421875, 6350.095703125, 7717.6015625, 3805.627197265625, 13508.9912109375, 6050.8212890625, 5797.57177734375, 6248.4794921875, 4786.966796875, 3525.351318359375, 4061.823974609375, 2716.838134765625, 1706.1988525390625, 1932.5538330078125, 1785.3177490234375, 1373.150634765625, 1277.44287109375, 1281.726318359375, 1088.9466552734375, 992.5830688476562, 1141.3538818359375, 717.2344970703125, 650.3865966796875, 469.5358581542969, 460.7132568359375, 424.6044006347656, 381.699462890625, 377.5523681640625, 342.4083251953125, 561.906982421875, 334.93927001953125, 319.8794860839844, 316.3009338378906, 310.14990234375, 305.3569641113281, 300.9434509277344, 276.1566467285156, 846.4302978515625, 3118.2548828125, 1077.661865234375, 3217.13232421875, 416.4336242675781, 628.7295532226562, 860.7406005859375, 455.50360107421875, 3374.763427734375, 2629.147705078125, 6796.98876953125, 3066.502197265625, 5125.064453125, 2215.76318359375, 1448.2255859375, 3648.353515625, 805.67529296875, 715.4441528320312, 662.9976806640625, 593.2881469726562, 540.8307495117188, 535.8623046875, 539.888427734375, 488.3172302246094, 422.98150634765625, 393.31829833984375, 381.8640441894531, 338.1274719238281, 334.8216857910156, 330.3625183105469, 305.1703186035156, 297.2965087890625, 1246.454833984375, 275.36004638671875, 277.2759704589844, 269.7804260253906, 269.3626403808594, 260.34613037109375, 246.9291534423828, 249.65858459472656, 545.6275024414062, 214.84933471679688, 213.71437072753906, 5580.125, 784.7160034179688, 503.07684326171875, 8593.193359375, 2834.56005859375, 2963.124267578125, 1680.23095703125, 3382.714599609375, 3578.0166015625, 4284.30859375, 1304.3338623046875, 9342.37890625, 4208.4375, 4029.02880859375, 14191.2744140625, 1326.15087890625, 9388.1171875, 3103.95751953125, 6708.037109375, 3889.635986328125, 1671.629150390625, 776.3728637695312, 1623.935546875, 8310.0126953125, 8584.296875, 7149.19873046875, 9854.2421875, 6643.8623046875, 4225.8896484375, 9105.3203125, 13508.9912109375, 4604.6318359375, 9951.1416015625, 8266.875, 7271.3720703125, 5588.22607421875, 13285.203125, 8454.470703125, 8085.5068359375, 9417.205078125, 9432.65625, 11521.2470703125, 8590.396484375, 6362.2275390625, 12026.0537109375, 3988.36767578125, 3443.726318359375, 2831.512451171875, 7679.212890625, 7967.3125, 4881.15625, 2036.0477294921875, 1998.168212890625, 2295.1044921875, 1520.597412109375, 8214.572265625, 1044.0338134765625, 906.7343139648438, 3513.8369140625, 685.5836791992188, 528.340576171875, 521.3125610351562, 511.92193603515625, 456.04315185546875, 372.4803466796875, 320.3857421875, 320.9032897949219, 307.62921142578125, 304.90576171875, 304.8334045410156, 304.4979248046875, 2277.18359375, 277.5295715332031, 4607.8701171875, 6769.5849609375, 1259.3232421875, 515.812744140625, 697.7337036132812, 4580.69873046875, 2967.750732421875, 1371.541015625, 7840.154296875, 4621.615234375, 1695.08984375, 872.8088989257812, 7245.3115234375, 4036.25, 2413.013916015625, 3472.0966796875, 2797.732421875, 5304.26953125, 5693.0361328125, 4597.53271484375, 4367.07470703125, 2974.05810546875, 10171.947265625, 3189.791015625, 7717.6015625, 4799.59228515625, 6175.703125, 13285.203125], \"loglift\": [30.0, 29.0, 28.0, 27.0, 26.0, 25.0, 24.0, 23.0, 22.0, 21.0, 20.0, 19.0, 18.0, 17.0, 16.0, 15.0, 14.0, 13.0, 12.0, 11.0, 10.0, 9.0, 8.0, 7.0, 6.0, 5.0, 4.0, 3.0, 2.0, 1.0, 1.6411999464035034, 1.6411999464035034, 1.6409000158309937, 1.6406999826431274, 1.6405999660491943, 1.6405999660491943, 1.6402000188827515, 1.6401000022888184, 1.6397000551223755, 1.6397000551223755, 1.6384999752044678, 1.6376999616622925, 1.6376999616622925, 1.6376999616622925, 1.6371999979019165, 1.6370999813079834, 1.6370999813079834, 1.6369999647140503, 1.6368000507354736, 1.6366000175476074, 1.6365000009536743, 1.6365000009536743, 1.6363999843597412, 1.636199951171875, 1.6360000371932983, 1.635699987411499, 1.6353000402450562, 1.6347999572753906, 1.6346999406814575, 1.6345000267028809, 1.6131999492645264, 1.6303999423980713, 1.6287000179290771, 1.6161999702453613, 1.6263999938964844, 1.5643999576568604, 1.5188000202178955, 1.6125999689102173, 1.5369999408721924, 1.5053999423980713, 1.4766000509262085, 1.601099967956543, 1.3523000478744507, 1.5369999408721924, 1.3600000143051147, 1.3466999530792236, 1.1866999864578247, 1.4247000217437744, 1.2188999652862549, 1.308500051498413, 1.0740000009536743, 1.2561999559402466, 1.3336999416351318, 1.163100004196167, 0.9438999891281128, 0.9767000079154968, 1.0435999631881714, 1.1907999515533447, 0.8167999982833862, 0.8877999782562256, 1.0765999555587769, 0.6614000201225281, 0.8664000034332275, 1.0013999938964844, 0.8766000270843506, 0.8986999988555908, 0.8519999980926514, 0.930899977684021, 0.6391000151634216, 0.9581999778747559, 0.6118999719619751, 0.48649999499320984, 0.4846000075340271, 0.31369999051094055, 0.7475000023841858, 1.440500020980835, 1.440500020980835, 1.4404000043869019, 1.4404000043869019, 1.4404000043869019, 1.4404000043869019, 1.4402999877929688, 1.4402999877929688, 1.4402999877929688, 1.4401999711990356, 1.4401999711990356, 1.4401999711990356, 1.4400999546051025, 1.440000057220459, 1.440000057220459, 1.440000057220459, 1.4399000406265259, 1.4398000240325928, 1.4398000240325928, 1.4398000240325928, 1.4397000074386597, 1.4395999908447266, 1.4395999908447266, 1.4394999742507935, 1.4394999742507935, 1.4394999742507935, 1.4394999742507935, 1.4393999576568604, 1.4392999410629272, 1.4392999410629272, 1.4365999698638916, 1.4265999794006348, 1.3118000030517578, 1.3664000034332275, 1.2547999620437622, 1.3366999626159668, 1.1160999536514282, 1.2892999649047852, 1.1650999784469604, 0.9531000256538391, 0.9359999895095825, 1.2697999477386475, 0.5504000186920166, 0.6355000138282776, 1.0520000457763672, 1.0916999578475952, 0.5232999920845032, 0.29820001125335693, 0.5450999736785889, 0.4000999927520752, 0.7698000073432922, -0.20180000364780426, 0.3937000036239624, 0.40619999170303345, 2.849600076675415, 2.849600076675415, 2.8494999408721924, 2.849400043487549, 2.849400043487549, 2.8492000102996826, 2.8492000102996826, 2.8492000102996826, 2.849100112915039, 2.849100112915039, 2.849100112915039, 2.848900079727173, 2.848900079727173, 2.8487000465393066, 2.848599910736084, 2.848400115966797, 2.847899913787842, 2.847899913787842, 2.8477001190185547, 2.8475000858306885, 2.8475000858306885, 2.8471999168395996, 2.8471999168395996, 2.8471999168395996, 2.847100019454956, 2.8469998836517334, 2.84689998626709, 2.84689998626709, 2.84689998626709, 2.84660005569458, 2.839600086212158, 2.8166000843048096, 2.7992000579833984, 2.377700090408325, 2.7748000621795654, 2.631200075149536, 2.4981000423431396, 2.688199996948242, 1.529099941253662, 1.6430000066757202, 0.4828000068664551, 1.0140000581741333, 0.4124999940395355, 1.2623000144958496, 1.2619999647140503, 1.2618999481201172, 1.2615000009536743, 1.2613999843597412, 1.261299967765808, 1.2611000537872314, 1.2609000205993652, 1.2609000205993652, 1.2608000040054321, 1.2608000040054321, 1.2604000568389893, 1.260200023651123, 1.260200023651123, 1.2598999738693237, 1.2598999738693237, 1.2597999572753906, 1.259600043296814, 1.2594000101089478, 1.2592999935150146, 1.2591999769210815, 1.2591999769210815, 1.2591999769210815, 1.2590999603271484, 1.2589999437332153, 1.2588000297546387, 1.2585999965667725, 1.2583999633789062, 1.2582000494003296, 1.2582000494003296, 1.2517999410629272, 1.2582000494003296, 1.2532000541687012, 1.2199000120162964, 1.2342000007629395, 1.214900016784668, 1.2213000059127808, 1.180400013923645, 1.169700026512146, 1.1562999486923218, 1.2030999660491943, 1.1145000457763672, 1.131500005722046, 1.125, 1.0255999565124512, 1.1836999654769897, 1.0225000381469727, 1.101099967956543, 1.0262000560760498, 1.042099952697754, 1.1231000423431396, 1.2163000106811523, 1.1186000108718872, 0.8995000123977661, 0.8842999935150146, 0.9082000255584717, 0.8314999938011169, 0.8712000250816345, 0.8996000289916992, 0.6632000207901001, 0.5320000052452087, 0.829800009727478, 0.5989999771118164, 0.628600001335144, 0.6588000059127808, 0.7556999921798706, 0.3953999876976013, 0.5781999826431274, 0.5491999983787537, 0.43779999017715454, 0.3379000127315521, 0.15080000460147858, 0.3522000014781952, 1.4744999408721924, 1.4744000434875488, 1.4744000434875488, 1.4743000268936157, 1.4743000268936157, 1.4743000268936157, 1.4742000102996826, 1.4742000102996826, 1.4740999937057495, 1.4740999937057495, 1.4740999937057495, 1.4739999771118164, 1.4737000465393066, 1.4737000465393066, 1.4736000299453735, 1.4731999635696411, 1.473099946975708, 1.4728000164031982, 1.4728000164031982, 1.472599983215332, 1.472499966621399, 1.472100019454956, 1.4716999530792236, 1.4716999530792236, 1.47160005569458, 1.47160005569458, 1.47160005569458, 1.47160005569458, 1.4714000225067139, 1.4711999893188477, 1.4708000421524048, 1.4532999992370605, 1.468000054359436, 1.4710999727249146, 1.465999960899353, 1.4448000192642212, 1.4401999711990356, 1.4529999494552612, 1.4156999588012695, 1.4155999422073364, 1.444000005722046, 1.4591000080108643, 1.394700050354004, 1.409500002861023, 1.4204000234603882, 1.4006999731063843, 1.3848999738693237, 1.207800030708313, 1.1823999881744385, 1.1542999744415283, 1.1629999876022339, 1.2541999816894531, 0.8302000164985657, 1.190600037574768, 0.5748999714851379, 0.9016000032424927, 0.6488000154495239, -0.11129999905824661], \"logprob\": [30.0, 29.0, 28.0, 27.0, 26.0, 25.0, 24.0, 23.0, 22.0, 21.0, 20.0, 19.0, 18.0, 17.0, 16.0, 15.0, 14.0, 13.0, 12.0, 11.0, 10.0, 9.0, 8.0, 7.0, 6.0, 5.0, 4.0, 3.0, 2.0, 1.0, -5.562900066375732, -5.6433000564575195, -4.775100231170654, -6.065299987792969, -6.157199859619141, -6.186100006103516, -6.398799896240234, -6.4415998458862305, -6.646399974822998, -6.649400234222412, -7.082200050354004, -4.736000061035156, -7.273900032043457, -7.301400184631348, -5.032400131225586, -7.3933000564575195, -7.445499897003174, -7.448599815368652, -7.488999843597412, -7.072400093078613, -7.540800094604492, -7.554100036621094, -7.558499813079834, -7.5690999031066895, -7.602200031280518, -6.368599891662598, -7.7332000732421875, -7.788899898529053, -5.516600131988525, -7.863800048828125, -4.7133002281188965, -6.682499885559082, -7.034200191497803, -6.395100116729736, -7.124300003051758, -5.1691999435424805, -4.390600204467773, -6.826700210571289, -5.195499897003174, -5.329899787902832, -5.122900009155273, -6.905399799346924, -3.7987000942230225, -6.129300117492676, -4.318299770355225, -4.197500228881836, -3.808799982070923, -5.621300220489502, -4.602200031280518, -5.186500072479248, -4.157800197601318, -5.059999942779541, -5.376299858093262, -4.705999851226807, -4.0671000480651855, -4.616199970245361, -4.843500137329102, -5.23799991607666, -4.395899772644043, -4.578499794006348, -4.994999885559082, -4.207200050354004, -4.592199802398682, -4.926799774169922, -4.77400016784668, -4.803199768066406, -4.754799842834473, -4.871799945831299, -4.665500164031982, -4.924699783325195, -4.779300212860107, -4.816999912261963, -4.858399868011475, -4.843800067901611, -4.929999828338623, -3.686500072479248, -4.040299892425537, -4.281099796295166, -4.35230016708374, -4.4618000984191895, -4.473100185394287, -4.707499980926514, -4.89900016784668, -5.000400066375732, -5.017000198364258, -5.032800197601318, -5.050000190734863, -5.371300220489502, -5.485499858856201, -5.551700115203857, -5.15880012512207, -5.720799922943115, -5.791800022125244, -5.813700199127197, -5.903900146484375, -5.938799858093262, -6.072299957275391, -6.115799903869629, -6.155600070953369, -6.1620001792907715, -6.179299831390381, -6.209799766540527, -6.295400142669678, -6.315800189971924, -6.365600109100342, -6.118100166320801, -6.067399978637695, -4.314799785614014, -5.573200225830078, -4.700500011444092, -5.601500034332275, -4.597400188446045, -5.518099784851074, -5.181300163269043, -4.602099895477295, -4.877900123596191, -5.680300235748291, -4.660600185394287, -4.903299808502197, -5.436600208282471, -5.47760009765625, -4.980999946594238, -4.869200229644775, -5.061699867248535, -5.01170015335083, -5.348999977111816, -5.053699970245361, -5.26140022277832, -5.291600227355957, -2.7732999324798584, -3.039799928665161, -3.3457999229431152, -3.204200029373169, -3.6064000129699707, -4.071800231933594, -3.947200059890747, -4.026500225067139, -4.289000034332275, -4.361299991607666, -4.357999801635742, -4.521100044250488, -4.613800048828125, -4.474299907684326, -4.9390997886657715, -5.0370001792907715, -5.36329984664917, -5.382400035858154, -5.464200019836426, -5.570899963378906, -5.5817999839782715, -5.679800033569336, -5.1844000816345215, -5.701900005340576, -5.748000144958496, -5.759300231933594, -5.7789998054504395, -5.794600009918213, -5.809199810028076, -5.895500183105469, -4.782299995422363, -3.5013999938964844, -4.581200122833252, -3.90910005569458, -5.55649995803833, -5.2881999015808105, -5.1072001457214355, -5.553400039672852, -4.709799766540527, -4.845600128173828, -5.0559000968933105, -5.320799827575684, -5.408599853515625, -5.39739990234375, -5.82289981842041, -4.899099826812744, -6.409800052642822, -6.52869987487793, -6.605000019073486, -6.71619987487793, -6.809000015258789, -6.81820011138916, -6.810800075531006, -6.911300182342529, -7.055300235748291, -7.128200054168701, -7.157700061798096, -7.279699802398682, -7.289599895477295, -7.302999973297119, -7.382599830627441, -7.408899784088135, -5.975599765777588, -7.4857001304626465, -7.478799819946289, -7.50629997253418, -7.507800102233887, -7.541999816894531, -7.595099925994873, -7.5843000411987305, -6.802700042724609, -7.734799861907959, -7.740200042724609, -4.4842000007629395, -6.439499855041504, -6.888999938964844, -4.084400177001953, -5.179200172424316, -5.154099941253662, -5.715000152587891, -5.05620002746582, -5.010700225830078, -4.843999862670898, -5.986400127410889, -4.106200218200684, -4.88670015335083, -4.936699867248535, -3.7769999504089355, -5.989299774169922, -4.193299770355225, -5.221499919891357, -4.5258002281188965, -5.054800033569336, -5.818299770355225, -6.492099761962891, -5.851799964904785, -4.438300132751465, -4.421000003814697, -4.580100059509277, -4.3358001708984375, -4.690400123596191, -5.1143999099731445, -4.583199977874756, -4.319900035858154, -5.098400115966797, -4.558599948883057, -4.714399814605713, -4.8125, -4.978899955749512, -4.473199844360352, -4.742400169372559, -4.815999984741211, -4.774899959564209, -4.8730998039245605, -4.860300064086914, -4.952400207519531, -4.13040018081665, -3.4937000274658203, -4.597499847412109, -4.7444000244140625, -4.940199851989746, -3.942500114440918, -3.9056999683380127, -4.395699977874756, -5.270100116729736, -5.288899898529053, -5.150400161743164, -5.56220006942749, -3.8756000995635986, -5.938399791717529, -6.079599857330322, -4.725299835205078, -6.359600067138672, -6.6203999519348145, -6.633900165557861, -6.652299880981445, -6.767899990081787, -6.970799922943115, -7.121799945831299, -7.120200157165527, -7.162499904632568, -7.171500205993652, -7.1717000007629395, -7.172800064086914, -5.160900115966797, -7.265900135040283, -4.456699848175049, -4.0894999504089355, -5.756700038909912, -6.646200180053711, -6.3491997718811035, -4.48859977722168, -4.927199840545654, -5.686299800872803, -3.980299949645996, -4.508900165557861, -5.483500003814697, -6.132199764251709, -4.0802001953125, -4.650400161743164, -5.1539998054504395, -4.809800148010254, -5.041600227355957, -4.57889986038208, -4.533599853515625, -4.775400161743164, -4.8180999755859375, -5.111199855804443, -4.3053998947143555, -5.104700088500977, -4.836900234222412, -4.985099792480469, -4.985799789428711, -4.979899883270264]}, \"token.table\": {\"Topic\": [3, 1, 2, 3, 4, 5, 4, 3, 4, 2, 4, 5, 1, 2, 3, 4, 5, 4, 4, 4, 1, 2, 3, 4, 5, 1, 3, 4, 5, 4, 1, 2, 4, 5, 4, 1, 3, 1, 4, 5, 1, 2, 3, 4, 5, 1, 2, 3, 4, 5, 1, 4, 5, 4, 3, 3, 3, 2, 1, 2, 3, 4, 5, 4, 1, 3, 3, 1, 2, 3, 4, 5, 2, 5, 1, 4, 1, 2, 3, 4, 5, 1, 2, 4, 1, 2, 3, 4, 5, 5, 2, 3, 1, 2, 3, 4, 5, 5, 2, 2, 2, 5, 1, 2, 4, 5, 2, 5, 1, 1, 1, 2, 5, 5, 5, 1, 5, 2, 5, 2, 2, 2, 3, 5, 4, 2, 3, 4, 1, 2, 3, 5, 3, 2, 3, 3, 2, 3, 2, 3, 1, 2, 3, 4, 5, 2, 2, 2, 3, 4, 5, 5, 1, 2, 3, 5, 2, 3, 4, 3, 4, 1, 2, 3, 4, 5, 2, 5, 2, 1, 3, 1, 2, 4, 5, 3, 1, 2, 3, 4, 5, 2, 1, 1, 2, 3, 4, 5, 1, 2, 3, 1, 2, 1, 1, 2, 3, 4, 5, 1, 2, 3, 4, 5, 5, 1, 2, 3, 4, 5, 2, 3, 4, 5, 1, 1, 2, 3, 4, 5, 4, 5, 4, 2, 3, 4, 5, 2, 1, 2, 3, 4, 5, 1, 2, 4, 5, 1, 2, 4, 1, 2, 3, 4, 5, 1, 2, 3, 4, 5, 1, 1, 2, 3, 4, 5, 2, 4, 1, 2, 3, 4, 5, 1, 4, 5, 1, 2, 3, 4, 5, 5, 1, 2, 4, 5, 1, 3, 1, 4, 1, 2, 3, 4, 5, 1, 2, 3, 4, 5, 5, 5, 1, 1, 2, 3, 5, 3, 3, 4, 2, 1, 2, 3, 4, 5, 1, 2, 4, 5, 1, 2, 5, 1, 2, 5, 2, 3, 4, 5, 4, 5, 3, 4, 2, 1, 2, 3, 4, 5, 1, 2, 3, 4, 5, 4, 3, 2, 3, 4, 5, 1, 2, 3, 4, 5, 2, 3, 1, 2, 3, 4, 5, 1, 2, 3, 4, 5, 1, 4, 5, 3, 3, 1, 2, 3, 4, 5, 1, 2, 4, 5, 3, 2, 1, 2, 3, 4, 5, 1, 2, 4, 5, 2, 2, 3, 5, 3, 3, 5, 2, 4, 5, 1, 3, 5, 5, 4, 4, 2, 2, 1, 2, 4, 1, 2, 4, 5, 1, 2, 3, 4, 5, 2, 4, 5, 1, 1, 5, 5, 4, 1, 2, 3, 4, 5, 1, 2, 1, 3, 4, 5, 1, 2, 3, 4, 5, 2, 5, 2, 3, 5, 2, 5, 2, 2, 3, 5, 1, 1, 2, 4, 5, 2, 3, 4, 5, 4, 4, 1, 4, 5, 1, 2, 3, 3, 1, 3, 1, 2, 3, 5, 1, 2, 3, 4, 5, 2, 5, 1, 1, 3, 2, 5, 4, 4, 1, 2, 4, 1, 2, 3, 4, 5, 1, 2, 3, 4, 5, 1, 2, 3, 4, 5, 2, 3, 4, 5, 1, 2, 3, 4, 5, 1, 2, 3, 5, 3, 4, 1, 2, 3, 4, 5, 1, 2, 3, 4, 5, 1, 2, 3, 4, 5, 1, 2, 3, 5, 1, 2, 3, 1, 2, 5, 1, 1, 2, 3, 4, 5, 2, 5, 2, 3, 5, 5, 2, 5, 2, 2, 4, 5, 1, 1, 2, 3, 4, 5, 1, 1, 2, 4, 5, 1, 2, 3, 1, 2, 3, 4, 5, 1, 2, 3, 4, 5, 1, 1, 3, 4, 2, 2, 5, 1, 2, 3, 4, 5, 2, 3, 4, 5, 2, 1, 4, 1, 2, 3, 4, 5, 1, 2, 3, 4, 5, 1, 2, 3, 4, 5, 1, 2, 5, 1, 2, 4, 5, 1, 2, 3, 4, 5, 2, 1, 2, 3, 4, 5, 3, 5, 4, 2, 5, 1, 2, 4, 1, 2, 3, 4, 5, 3, 3, 2, 1, 1, 2, 3, 4, 5, 5, 5, 4, 5, 2, 2, 5, 1, 2, 3, 4, 5, 1, 2, 5, 2, 4, 2, 3, 1, 2, 4, 5, 5, 3, 2, 4, 5, 3, 2, 2, 3, 3, 5, 1, 2, 5, 2, 1, 4, 5, 2, 4], \"Freq\": [0.995887041091919, 0.6799532175064087, 0.057943280786275864, 0.01088437344878912, 0.0003201286308467388, 0.25130096077919006, 0.9966573715209961, 0.002548692747950554, 0.9952645301818848, 0.020976174622774124, 0.00014771954738534987, 0.9789373874664307, 0.014842808246612549, 0.7054457068443298, 0.002473801374435425, 0.1554371863603592, 0.12121626734733582, 0.9976795315742493, 0.9979814887046814, 0.994941234588623, 0.5270484685897827, 0.0638451799750328, 0.0002171604719478637, 0.33138686418533325, 0.0775262862443924, 0.375078946352005, 7.52717096474953e-05, 0.4200914204120636, 0.2047390639781952, 0.9960468411445618, 0.43813425302505493, 0.00010618862143019214, 0.4382404386997223, 0.12339117377996445, 0.9962371587753296, 0.9869889616966248, 0.010037176311016083, 0.1255885809659958, 0.8714258670806885, 0.002978385193273425, 0.36680495738983154, 0.037832945585250854, 0.0031430446542799473, 0.40230971574783325, 0.1898631751537323, 0.2730812132358551, 0.026714466512203217, 0.02597239799797535, 0.48988890647888184, 0.18428035080432892, 0.09173008799552917, 0.8990948796272278, 0.009102986194193363, 0.999153733253479, 0.9996533393859863, 0.9985765814781189, 0.9962924122810364, 0.9996006488800049, 0.6370005011558533, 0.24720492959022522, 0.002866144059225917, 0.0010748039931058884, 0.11213788390159607, 0.9950608611106873, 0.9613525867462158, 0.03719518706202507, 0.998537003993988, 0.7485263347625732, 0.15124265849590302, 0.000299490406177938, 0.000299490406177938, 0.09963047504425049, 0.9998681545257568, 0.9979546666145325, 0.9938739538192749, 0.9977372884750366, 0.6194438338279724, 0.0923229232430458, 0.0004094142932444811, 0.1999988853931427, 0.08761465549468994, 0.995913028717041, 0.0037300114054232836, 0.0003390919300727546, 0.12520451843738556, 0.0691581442952156, 0.0002570934593677521, 0.8021315932273865, 0.003342214971780777, 0.9983647465705872, 0.06963895261287689, 0.9269184470176697, 0.002450855914503336, 0.0058443485759198666, 0.0028279107064008713, 0.22302788496017456, 0.7657982110977173, 0.999485433101654, 0.9995126724243164, 0.999832808971405, 0.0008521442068740726, 0.9990782141685486, 0.734703779220581, 0.03322303667664528, 0.005220762919634581, 0.22686588764190674, 0.9285128116607666, 0.07105661183595657, 0.995294988155365, 0.9984539747238159, 0.9950842261314392, 0.004558333661407232, 0.9977126121520996, 0.997482180595398, 0.9991901516914368, 0.014894439838826656, 0.9841787815093994, 0.9963677525520325, 0.0033138617873191833, 0.9994299411773682, 0.9998860955238342, 0.02418750897049904, 0.005899392534047365, 0.9698600769042969, 0.9973025321960449, 0.045560020953416824, 0.0010124448454007506, 0.953385591506958, 0.04724382236599922, 0.004973033908754587, 0.0008288389653898776, 0.9473629593849182, 0.9999232888221741, 0.032389912754297256, 0.9675283432006836, 0.9992619156837463, 0.048252612352371216, 0.9511331915855408, 0.0008761524222791195, 0.998813807964325, 0.01279978547245264, 0.44710975885391235, 0.09371796995401382, 0.2667357623577118, 0.17963837087154388, 0.9986525177955627, 0.9997931718826294, 0.007292286027222872, 0.011667657643556595, 0.41711875796318054, 0.5637978911399841, 0.9971851706504822, 0.0065861172042787075, 0.046102818101644516, 0.8518044352531433, 0.09440100938081741, 0.9990245699882507, 0.9992973804473877, 0.9975458979606628, 0.9966062307357788, 0.0017796539468690753, 0.6550161242485046, 0.10263285785913467, 0.08741353452205658, 0.004097509663552046, 0.15082737803459167, 0.0036893400829285383, 0.9961218237876892, 0.9998517036437988, 0.9878102540969849, 0.009430169127881527, 0.8840592503547668, 0.11210587620735168, 0.0006393871153704822, 0.003196935635060072, 0.9994333386421204, 0.9972673058509827, 0.036851417273283005, 0.03947380185127258, 0.0005520811537280679, 0.9232177138328552, 0.9998566508293152, 0.9932016134262085, 0.22636879980564117, 0.1352844387292862, 0.0008947383030317724, 0.6023378372192383, 0.03525269031524658, 0.007088593207299709, 0.002362864324823022, 0.9900401830673218, 0.9716011881828308, 0.028138916939496994, 0.995978057384491, 0.0006020594155415893, 0.08112750947475433, 0.006321623921394348, 0.6759622097015381, 0.23600730299949646, 0.00010147913417313248, 0.3190504014492035, 0.007103539537638426, 0.6497709155082703, 0.02394907735288143, 0.9981990456581116, 0.03392469510436058, 0.4105948507785797, 0.0028623961843550205, 0.3966009020805359, 0.15594759583473206, 0.00013987581769470125, 0.0002797516353894025, 0.7014772295951843, 0.2980753481388092, 0.9953474402427673, 0.4911464750766754, 0.1285332590341568, 0.014175054617226124, 0.141942098736763, 0.22411911189556122, 0.8657979369163513, 0.13362599909305573, 0.997107207775116, 0.026106344535946846, 0.0007055768510326743, 0.9719321131706238, 0.0010583653347566724, 0.9991812109947205, 0.5140460729598999, 0.004348426125943661, 0.0007765046902932227, 0.26230326294898987, 0.21850840747356415, 0.5496459007263184, 0.03939441591501236, 0.33162176609039307, 0.0792057067155838, 0.993898868560791, 0.005194593220949173, 0.9978287816047668, 0.00038035138277336955, 0.6781665682792664, 0.2993365526199341, 0.00038035138277336955, 0.02206038124859333, 0.46049752831459045, 0.20668748021125793, 0.010592393577098846, 0.06423336267471313, 0.2580198645591736, 0.9926027059555054, 0.40886905789375305, 0.20519514381885529, 0.0043946243822574615, 0.15769939124584198, 0.22378778457641602, 0.05750061571598053, 0.9422433972358704, 0.2633615732192993, 0.08444073796272278, 0.05047190561890602, 0.5466643571853638, 0.05501025170087814, 0.0019877678714692593, 0.9899083971977234, 0.005963303614407778, 0.10461390018463135, 0.351026713848114, 0.007437007036060095, 0.4579543471336365, 0.07916280627250671, 0.9996570944786072, 0.8473775386810303, 0.1415129005908966, 0.0038246731273829937, 0.007224382366985083, 0.9003336429595947, 0.09880204498767853, 0.0005481924745254219, 0.9990808367729187, 0.12900100648403168, 0.07978326827287674, 0.009506603702902794, 0.6954261064529419, 0.08628145605325699, 0.26495060324668884, 0.01997988112270832, 0.00021717262279707938, 0.648694634437561, 0.06602048128843307, 0.9987103939056396, 0.9998070597648621, 0.9966886043548584, 0.9004332423210144, 0.08203408122062683, 0.008251949213445187, 0.009222766384482384, 0.9994125962257385, 0.9996166825294495, 0.998354434967041, 0.9987832307815552, 0.6342678070068359, 0.1469019651412964, 0.009656731970608234, 0.010169478133320808, 0.19903121888637543, 0.10483884066343307, 0.16704611480236053, 0.0019575715996325016, 0.7260416150093079, 0.1490584760904312, 0.8305323719978333, 0.020305870100855827, 0.8725646138191223, 0.12534373998641968, 0.0016138679347932339, 0.001020388095639646, 0.05535605177283287, 0.0008928395691327751, 0.9428386092185974, 0.954438328742981, 0.043793391436338425, 0.9958116412162781, 0.9984639286994934, 0.9996024966239929, 0.0009665080578997731, 0.06991074979305267, 0.009665080346167088, 0.8508492708206177, 0.06862207502126694, 0.3569622337818146, 0.14052532613277435, 0.0019041370833292603, 0.3435063362121582, 0.15702784061431885, 0.998390793800354, 0.9972505569458008, 0.7229615449905396, 0.008936267346143723, 0.00035044184187427163, 0.26773756742477417, 0.0016305221943184733, 0.36491087079048157, 0.15946507453918457, 0.1529429852962494, 0.32056066393852234, 0.0002461948024574667, 0.9997971653938293, 0.31426626443862915, 0.07161109894514084, 0.00012096469436073676, 0.5304301977157593, 0.08346563577651978, 0.26499471068382263, 0.0711476132273674, 0.00582847697660327, 0.5149158239364624, 0.14319965243339539, 0.21034468710422516, 0.7893516421318054, 0.0002981498255394399, 0.9991959929466248, 0.9971957206726074, 0.8049848675727844, 0.009298505261540413, 0.0013283578446134925, 0.026567157357931137, 0.15873876214027405, 0.5682706236839294, 0.00977616012096405, 0.42037487030029297, 0.001504024607129395, 0.999798059463501, 0.9986340999603271, 0.02757996879518032, 0.00011637117131613195, 0.0015128252562135458, 0.9580838680267334, 0.012684457935392857, 0.4704752564430237, 0.008758120238780975, 0.4201160669326782, 0.10058153420686722, 0.9995773434638977, 0.01610405743122101, 0.04682564362883568, 0.9370083808898926, 0.999405562877655, 0.9968650341033936, 0.9956747889518738, 0.901599109172821, 0.0005962956929579377, 0.09779249876737595, 0.9955638647079468, 0.9991306662559509, 0.9990097880363464, 0.9994153380393982, 0.9961650371551514, 0.9973620772361755, 0.9990668296813965, 0.9988617897033691, 0.4538514316082001, 0.40834030508995056, 0.1376357227563858, 0.17455583810806274, 0.3554936647415161, 0.42552298307418823, 0.04450139030814171, 0.2588804066181183, 0.00023663656611461192, 0.007099096663296223, 0.6954748630523682, 0.03833512216806412, 0.04304060339927673, 0.911119282245636, 0.0455559641122818, 0.9986806511878967, 0.9968488812446594, 0.9991486668586731, 0.9995187520980835, 0.9948294758796692, 0.14198864996433258, 0.0009160558693110943, 0.001197919249534607, 0.7889354825019836, 0.06694254279136658, 0.9949450492858887, 0.0035033277235925198, 0.0011964376317337155, 0.06640228629112244, 0.869810163974762, 0.06281297653913498, 0.22064022719860077, 0.04371070861816406, 0.009445027448236942, 0.5491294860839844, 0.17714917659759521, 0.00026044336846098304, 0.999711811542511, 0.0010915364837273955, 0.02816164307296276, 0.9705942869186401, 8.315279410453513e-05, 0.9998292326927185, 0.998432993888855, 0.07077159732580185, 0.015012157149612904, 0.9143118858337402, 0.9960983991622925, 0.992424726486206, 0.003689311444759369, 0.002951449016109109, 0.9980918169021606, 0.005356406327337027, 0.008332188241183758, 0.9593918919563293, 0.026186875998973846, 0.9958757162094116, 0.9966482520103455, 0.9988572001457214, 0.0007074059685692191, 0.9972660541534424, 0.001161790220066905, 0.29509469866752625, 0.7040448784828186, 0.995556116104126, 0.9747329354286194, 0.024411916732788086, 0.21387314796447754, 0.05358278006315231, 0.0002289862313773483, 0.732297956943512, 0.4976023733615875, 0.0031246617436408997, 0.0013887385139241815, 0.3289574384689331, 0.16899211704730988, 0.0019386879866942763, 0.9964856505393982, 0.9989445209503174, 0.9996154308319092, 0.9996914863586426, 0.0002048694877885282, 0.9995582699775696, 0.9991618394851685, 0.9956390261650085, 0.9955363273620605, 0.07893069088459015, 0.9208580851554871, 0.15709877014160156, 0.6037939190864563, 0.007748397998511791, 0.010654047131538391, 0.22063563764095306, 0.4651305079460144, 0.07255838066339493, 0.012175329960882664, 0.3091546595096588, 0.14100347459316254, 0.47557592391967773, 0.018531180918216705, 0.016972484067082405, 0.28558802604675293, 0.20332342386245728, 0.000336240918841213, 0.000336240918841213, 0.1973734200000763, 0.8022708296775818, 0.16144803166389465, 0.19350075721740723, 0.003553189104422927, 0.4816051721572876, 0.15989351272583008, 0.04624730348587036, 0.5113480091094971, 0.00026276876451447606, 0.4422398507595062, 0.003665504278615117, 0.9951844215393066, 0.31487131118774414, 0.16127271950244904, 0.004883528687059879, 0.293825626373291, 0.22510741651058197, 0.5667028427124023, 0.0015152482083067298, 0.0002164640318369493, 0.28226909041404724, 0.14925195276737213, 0.03636779263615608, 0.2004891037940979, 0.623847484588623, 0.0031083582434803247, 0.1364569365978241, 0.0024094516411423683, 0.8791285753250122, 0.06778590381145477, 0.05059848353266716, 0.1320122480392456, 0.06362035870552063, 0.8032070398330688, 0.7165612578392029, 0.27674880623817444, 0.006507233716547489, 0.9950845837593079, 0.23971177637577057, 0.35321855545043945, 0.00012957393482793123, 0.00025914786965586245, 0.40673258900642395, 0.03369555249810219, 0.966051459312439, 0.06710642576217651, 0.004032145719975233, 0.9288336038589478, 0.9996071457862854, 0.057122886180877686, 0.9427440166473389, 0.9996370077133179, 0.9992295503616333, 0.996425986289978, 0.0024068260099738836, 0.9965944290161133, 0.09773660451173782, 0.0752536877989769, 0.017007799819111824, 0.6849716305732727, 0.12499567866325378, 0.9985322952270508, 0.04545752331614494, 0.08589904755353928, 0.11568155884742737, 0.7527138590812683, 0.11667462438344955, 0.8596251606941223, 0.023021001368761063, 0.7443392276763916, 0.10739075392484665, 0.021004803478717804, 0.000443763448856771, 0.12691634893417358, 0.9252209067344666, 0.06511533260345459, 0.007289030123502016, 0.000485935335746035, 0.00194374134298414, 0.9923591613769531, 0.9984977841377258, 0.998451828956604, 0.9984952211380005, 0.9998506903648376, 0.25329190492630005, 0.746701717376709, 0.7542625069618225, 0.08593077957630157, 0.036368343979120255, 0.001691550831310451, 0.12162250280380249, 0.37543371319770813, 0.26698169112205505, 0.14904747903347015, 0.20860721170902252, 0.9995240569114685, 0.9961069226264954, 0.9966655373573303, 0.38149502873420715, 0.03287075087428093, 0.015220939181745052, 0.13245455920696259, 0.4378448724746704, 0.00032111734617501497, 0.07396402955055237, 0.0010703911539167166, 0.8623071312904358, 0.06251084804534912, 0.07248810678720474, 0.39953741431236267, 0.015066156163811684, 0.3779331147670746, 0.13488472998142242, 0.0008537675603292882, 0.0002845891867764294, 0.9986234903335571, 0.0369490385055542, 0.004524372052401304, 0.923725962638855, 0.03393279016017914, 0.2766583561897278, 0.01797865331172943, 0.010526974685490131, 0.5043485164642334, 0.1905500739812851, 0.999176025390625, 0.5047968626022339, 0.047324709594249725, 0.0026983385905623436, 0.22188645601272583, 0.22333940863609314, 0.006352618336677551, 0.993390679359436, 0.999655544757843, 0.00025102568906731904, 0.9995842576026917, 0.9861885905265808, 0.0036525502800941467, 0.01095765084028244, 0.05219453573226929, 0.6140709519386292, 0.005533517803996801, 0.2799660861492157, 0.04815656319260597, 0.9991620182991028, 0.998278796672821, 0.9995316863059998, 0.9988915920257568, 0.2043856382369995, 0.03666947782039642, 0.004817170090973377, 0.2291596680879593, 0.5249732136726379, 0.9998190402984619, 0.9974626898765564, 0.0026348335668444633, 0.9968454241752625, 0.9996675848960876, 0.007166057825088501, 0.9917823672294617, 0.012068378739058971, 0.8429762721061707, 0.027757272124290466, 0.10318464040756226, 0.013878636062145233, 0.15506857633590698, 0.7591761946678162, 0.08545268326997757, 0.12284844368696213, 0.877047598361969, 0.9993389248847961, 0.9988587498664856, 0.0009586586966179311, 0.13559694588184357, 0.7865262031555176, 0.07701224833726883, 0.9970293641090393, 0.9981675148010254, 0.0001792074617696926, 0.9892251491546631, 0.010573239997029305, 0.9988074898719788, 0.999515175819397, 0.9864903688430786, 0.013513566926121712, 0.021144099533557892, 0.9784614443778992, 0.9710986018180847, 0.0026752029079943895, 0.026752028614282608, 0.9996105432510376, 0.995200514793396, 0.9953981637954712, 0.9997891187667847, 0.9992284178733826, 0.00042466146987862885], \"Term\": [\"'s\", \"10\", \"10\", \"10\", \"10\", \"10\", \"<3\", \"abra\\u00e7ar\", \"abra\\u00e7ar\", \"acesso\", \"acesso\", \"acesso\", \"achar\", \"achar\", \"achar\", \"achar\", \"achar\", \"acolher\", \"acolhido\", \"acolhimento\", \"acomoda\\u00e7\\u00e3o\", \"acomoda\\u00e7\\u00e3o\", \"acomoda\\u00e7\\u00e3o\", \"acomoda\\u00e7\\u00e3o\", \"acomoda\\u00e7\\u00e3o\", \"aconchegante\", \"aconchegante\", \"aconchegante\", \"aconchegante\", \"aconchegar\", \"adorar\", \"adorar\", \"adorar\", \"adorar\", \"ador\\u00e1vel\", \"agradavel\", \"agradavel\", \"agradecer\", \"agradecer\", \"agradecer\", \"agrad\\u00e1vel\", \"agrad\\u00e1vel\", \"agrad\\u00e1vel\", \"agrad\\u00e1vel\", \"agrad\\u00e1vel\", \"ajudar\", \"ajudar\", \"ajudar\", \"ajudar\", \"ajudar\", \"amar\", \"amar\", \"amar\", \"amor\", \"and\", \"angela\", \"anna\", \"antigo\", \"an\\u00fancio\", \"an\\u00fancio\", \"an\\u00fancio\", \"an\\u00fancio\", \"an\\u00fancio\", \"apaixonar\", \"apart\", \"apart\", \"apartment\", \"aptar\", \"aptar\", \"aptar\", \"aptar\", \"aptar\", \"ar\", \"arco\", \"arena\", \"astral\", \"atender\", \"atender\", \"atender\", \"atender\", \"atender\", \"atendimento\", \"atendimento\", \"atendimento\", \"aten\\u00e7\\u00e3o\", \"aten\\u00e7\\u00e3o\", \"aten\\u00e7\\u00e3o\", \"aten\\u00e7\\u00e3o\", \"aten\\u00e7\\u00e3o\", \"aterrar\", \"atrasar\", \"atrasar\", \"bairro\", \"bairro\", \"bairro\", \"bairro\", \"bairro\", \"banco\", \"banhar\", \"banheiro\", \"bar\", \"bar\", \"barrir\", \"barrir\", \"barrir\", \"barrir\", \"barulhar\", \"barulhar\", \"beatriz\", \"beneficiar\", \"benef\\u00edcio\", \"benef\\u00edcio\", \"bicicleta\", \"bike\", \"botafogo\", \"brt\", \"brt\", \"b\\u00e1sico\", \"b\\u00e1sico\", \"cabo\", \"cama\", \"caminhar\", \"caminhar\", \"caminhar\", \"carinhoso\", \"caro\", \"caro\", \"caro\", \"centrar\", \"centrar\", \"centrar\", \"centrar\", \"check\", \"check-in\", \"check-in\", \"check-out\", \"checkin\", \"checkin\", \"checkout\", \"checkout\", \"chegar\", \"chegar\", \"chegar\", \"chegar\", \"chegar\", \"cheirar\", \"chuveiro\", \"cidade\", \"cidade\", \"cidade\", \"cidade\", \"cinema\", \"clean\", \"clean\", \"clean\", \"clean\", \"colch\\u00e3o\", \"combinar\", \"companhia\", \"compreensivo\", \"compreensivo\", \"comunica\\u00e7\\u00e3o\", \"comunica\\u00e7\\u00e3o\", \"comunica\\u00e7\\u00e3o\", \"comunica\\u00e7\\u00e3o\", \"comunica\\u00e7\\u00e3o\", \"com\\u00e9rcio\", \"com\\u00e9rcio\", \"condicionar\", \"condominio\", \"condominio\", \"condom\\u00ednio\", \"condom\\u00ednio\", \"condom\\u00ednio\", \"condom\\u00ednio\", \"conformar\", \"confortavel\", \"copacabana\", \"copacabana\", \"copacabana\", \"copacabana\", \"cozinhar\", \"ctz\", \"cuidar\", \"cuidar\", \"cuidar\", \"cuidar\", \"cuidar\", \"cumprir\", \"cumprir\", \"cumprir\", \"custar\", \"custar\", \"c\\u00e9sar\", \"dar\", \"dar\", \"dar\", \"dar\", \"dar\", \"deixar\", \"deixar\", \"deixar\", \"deixar\", \"deixar\", \"deslocamento\", \"dia\", \"dia\", \"dia\", \"dia\", \"dia\", \"dica\", \"dica\", \"dica\", \"dica\", \"diego\", \"dispon\\u00edvel\", \"dispon\\u00edvel\", \"dispon\\u00edvel\", \"dispon\\u00edvel\", \"dispon\\u00edvel\", \"disposto\", \"disposto\", \"doce\", \"dono\", \"dono\", \"dono\", \"dono\", \"dormir\", \"d\\u00favida\", \"d\\u00favida\", \"d\\u00favida\", \"d\\u00favida\", \"d\\u00favida\", \"educar\", \"educar\", \"educar\", \"educar\", \"eh\", \"eh\", \"encantar\", \"entrar\", \"entrar\", \"entrar\", \"entrar\", \"entrar\", \"equipar\", \"equipar\", \"equipar\", \"equipar\", \"equipar\", \"espaco\", \"espa\\u00e7oso\", \"espa\\u00e7oso\", \"espa\\u00e7oso\", \"espa\\u00e7oso\", \"espa\\u00e7oso\", \"especial\", \"especial\", \"esperar\", \"esperar\", \"esperar\", \"esperar\", \"esperar\", \"esposar\", \"esposar\", \"esposar\", \"estar\", \"estar\", \"estar\", \"estar\", \"estar\", \"esta\\u00e7\\u00e3o\", \"estruturar\", \"estruturar\", \"estruturar\", \"estruturar\", \"evento\", \"evento\", \"expectativa\", \"expectativa\", \"experi\\u00eancia\", \"experi\\u00eancia\", \"experi\\u00eancia\", \"experi\\u00eancia\", \"experi\\u00eancia\", \"fam\\u00edlia\", \"fam\\u00edlia\", \"fam\\u00edlia\", \"fam\\u00edlia\", \"fam\\u00edlia\", \"farmacia\", \"farm\\u00e1cia\", \"fatima\", \"flat\", \"flat\", \"flat\", \"flat\", \"flexibilidade\", \"flex\\u00edvel\", \"fofo\", \"fog\\u00e3o\", \"foto\", \"foto\", \"foto\", \"foto\", \"foto\", \"frente\", \"frente\", \"frente\", \"frente\", \"funcionar\", \"funcionar\", \"funcionar\", \"funcion\\u00e1rio\", \"funcion\\u00e1rio\", \"funcion\\u00e1rio\", \"f\\u00e1cil\", \"f\\u00e1cil\", \"f\\u00e1cil\", \"f\\u00e1cil\", \"f\\u00e1tima\", \"f\\u00e1tima\", \"gale\\u00e3o\", \"gato\", \"geladeira\", \"gente\", \"gente\", \"gente\", \"gente\", \"gente\", \"gostar\", \"gostar\", \"gostar\", \"gostar\", \"gostar\", \"gratid\\u00e3o\", \"great\", \"haver\", \"haver\", \"haver\", \"haver\", \"horar\", \"horar\", \"horar\", \"horar\", \"horar\", \"hor\\u00e1rio\", \"hor\\u00e1rio\", \"hospedagem\", \"hospedagem\", \"hospedagem\", \"hospedagem\", \"hospedagem\", \"hospedar\", \"hospedar\", \"hospedar\", \"hospedar\", \"hospedar\", \"hospitalidade\", \"hospitalidade\", \"hospitalidade\", \"host\", \"hosts\", \"igual\", \"igual\", \"igual\", \"igual\", \"igual\", \"impec\\u00e1vel\", \"impec\\u00e1vel\", \"impec\\u00e1vel\", \"impec\\u00e1vel\", \"in\", \"incomodar\", \"incr\\u00edvel\", \"incr\\u00edvel\", \"incr\\u00edvel\", \"incr\\u00edvel\", \"incr\\u00edvel\", \"indicar\", \"indicar\", \"indicar\", \"indicar\", \"internet\", \"ipanema\", \"ipanema\", \"ipanema\", \"is\", \"it\", \"ita\\u00fa\", \"janela\", \"janela\", \"janela\", \"jaqueline\", \"justar\", \"lanchonetes\", \"lapa\", \"lar\", \"larissa\", \"lavar\", \"len\\u00e7ol\", \"limpeza\", \"limpeza\", \"limpeza\", \"limpo\", \"limpo\", \"limpo\", \"limpo\", \"lindar\", \"lindar\", \"lindar\", \"lindar\", \"lindar\", \"lindo\", \"lindo\", \"lindo\", \"localizacao\", \"localiza\\u00e7ao\", \"locomo\\u00e7\\u00e3o\", \"loja\", \"l\\u00facia\", \"maravilhoso\", \"maravilhoso\", \"maravilhoso\", \"maravilhoso\", \"maravilhoso\", \"marcus\", \"marcus\", \"maria\", \"maria\", \"maria\", \"maria\", \"melhor\", \"melhor\", \"melhor\", \"melhor\", \"melhor\", \"mercar\", \"mercar\", \"metro\", \"metro\", \"metro\", \"metr\\u00f4\", \"metr\\u00f4\", \"microonda\", \"minuto\", \"minuto\", \"minuto\", \"mt\", \"mto\", \"mto\", \"mto\", \"museu\", \"m\\u00e3e\", \"m\\u00e3e\", \"m\\u00e3e\", \"m\\u00e3e\", \"natureza\", \"newton\", \"noto\", \"noto\", \"noturna\", \"ocorrer\", \"ocorrer\", \"ocorrer\", \"of\", \"ol\\u00edmpico\", \"ol\\u00edmpico\", \"op\\u00e7\\u00e3o\", \"op\\u00e7\\u00e3o\", \"op\\u00e7\\u00e3o\", \"op\\u00e7\\u00e3o\", \"organizar\", \"organizar\", \"organizar\", \"organizar\", \"organizar\", \"orlar\", \"orlar\", \"otima\", \"otimo\", \"out\", \"padaria\", \"padaria\", \"palavra\", \"papar\", \"participar\", \"peno\", \"peno\", \"pequeno\", \"pequeno\", \"pequeno\", \"pequeno\", \"pequeno\", \"perfazer\", \"perfazer\", \"perfazer\", \"perfazer\", \"perfazer\", \"perfeito\", \"perfeito\", \"perfeito\", \"perfeito\", \"perfeito\", \"perto\", \"perto\", \"perto\", \"perto\", \"pessoa\", \"pessoa\", \"pessoa\", \"pessoa\", \"pessoa\", \"portar\", \"portar\", \"portar\", \"portar\", \"prazer\", \"prazer\", \"precisar\", \"precisar\", \"precisar\", \"precisar\", \"precisar\", \"prestativo\", \"prestativo\", \"prestativo\", \"prestativo\", \"prestativo\", \"pre\\u00e7o\", \"pre\\u00e7o\", \"pre\\u00e7o\", \"pre\\u00e7o\", \"pre\\u00e7o\", \"problema\", \"problema\", \"problema\", \"problema\", \"prometer\", \"prometer\", \"prometer\", \"propriet\\u00e1rio\", \"propriet\\u00e1rio\", \"propriet\\u00e1rio\", \"proxima\", \"pr\\u00e9dio\", \"pr\\u00e9dio\", \"pr\\u00e9dio\", \"pr\\u00e9dio\", \"pr\\u00e9dio\", \"pr\\u00f3ximo\", \"pr\\u00f3ximo\", \"p\\u00e9\", \"p\\u00e9\", \"p\\u00e9\", \"p\\u00fablico\", \"quadrar\", \"quadrar\", \"quarto\", \"quentar\", \"querido\", \"querido\", \"rapido\", \"receber\", \"receber\", \"receber\", \"receber\", \"receber\", \"recrear\", \"regi\\u00e3o\", \"regi\\u00e3o\", \"regi\\u00e3o\", \"regi\\u00e3o\", \"resolver\", \"resolver\", \"resolver\", \"responder\", \"responder\", \"responder\", \"responder\", \"responder\", \"respostar\", \"respostar\", \"respostar\", \"respostar\", \"respostar\", \"richard\", \"riocentro\", \"rock\", \"rosar\", \"roupar\", \"ruir\", \"ruir\", \"r\\u00e1pido\", \"r\\u00e1pido\", \"r\\u00e1pido\", \"r\\u00e1pido\", \"r\\u00e1pido\", \"sair\", \"sair\", \"sair\", \"sair\", \"sala\", \"sao\", \"saudade\", \"segurar\", \"segurar\", \"segurar\", \"segurar\", \"segurar\", \"sentir\", \"sentir\", \"sentir\", \"sentir\", \"sentir\", \"ser\", \"ser\", \"ser\", \"ser\", \"ser\", \"shopping\", \"shopping\", \"shopping\", \"simpatia\", \"simpatia\", \"simpatia\", \"simpatia\", \"simp\\u00e1tico\", \"simp\\u00e1tico\", \"simp\\u00e1tico\", \"simp\\u00e1tico\", \"simp\\u00e1tico\", \"sof\\u00e1\", \"sol\\u00edcito\", \"sol\\u00edcito\", \"sol\\u00edcito\", \"sol\\u00edcito\", \"sol\\u00edcito\", \"sul\", \"sul\", \"superar\", \"supermercado\", \"supermercado\", \"td\", \"td\", \"td\", \"ter\", \"ter\", \"ter\", \"ter\", \"ter\", \"the\", \"to\", \"toalha\", \"top\", \"tranquilo\", \"tranquilo\", \"tranquilo\", \"tranquilo\", \"tranquilo\", \"transportar\", \"transporte\", \"tur\\u00edstico\", \"tur\\u00edstico\", \"tv\", \"t\\u00e1xi\", \"t\\u00e1xi\", \"usar\", \"usar\", \"usar\", \"usar\", \"usar\", \"utens\\u00edlio\", \"utens\\u00edlio\", \"utens\\u00edlio\", \"valer\", \"valer\", \"ventilador\", \"very\", \"visto\", \"visto\", \"visto\", \"visto\", \"vlt\", \"voar\", \"vontade\", \"vontade\", \"vontade\", \"was\", \"wi-fi\", \"wifi\", \"wifi\", \"zonar\", \"zonar\", \"\\u00e1gil\", \"\\u00e1gil\", \"\\u00e1gil\", \"\\u00e1gua\", \"\\u00e2ngela\", \"\\u00edmpar\", \"\\u00f4nibus\", \"\\u00fanico\", \"\\u00fanico\"]}, \"R\": 30, \"lambda.step\": 0.01, \"plot.opts\": {\"xlab\": \"PC1\", \"ylab\": \"PC2\"}, \"topic.order\": [1, 2, 3, 4, 5]};\n",
       "\n",
       "function LDAvis_load_lib(url, callback){\n",
       "  var s = document.createElement('script');\n",
       "  s.src = url;\n",
       "  s.async = true;\n",
       "  s.onreadystatechange = s.onload = callback;\n",
       "  s.onerror = function(){console.warn(\"failed to load library \" + url);};\n",
       "  document.getElementsByTagName(\"head\")[0].appendChild(s);\n",
       "}\n",
       "\n",
       "if(typeof(LDAvis) !== \"undefined\"){\n",
       "   // already loaded: just create the visualization\n",
       "   !function(LDAvis){\n",
       "       new LDAvis(\"#\" + \"ldavis_el118051130023441449976315585\", ldavis_el118051130023441449976315585_data);\n",
       "   }(LDAvis);\n",
       "}else if(typeof define === \"function\" && define.amd){\n",
       "   // require.js is available: use it to load d3/LDAvis\n",
       "   require.config({paths: {d3: \"https://cdnjs.cloudflare.com/ajax/libs/d3/3.5.5/d3.min\"}});\n",
       "   require([\"d3\"], function(d3){\n",
       "      window.d3 = d3;\n",
       "      LDAvis_load_lib(\"https://cdn.rawgit.com/bmabey/pyLDAvis/files/ldavis.v1.0.0.js\", function(){\n",
       "        new LDAvis(\"#\" + \"ldavis_el118051130023441449976315585\", ldavis_el118051130023441449976315585_data);\n",
       "      });\n",
       "    });\n",
       "}else{\n",
       "    // require.js not available: dynamically load d3 & LDAvis\n",
       "    LDAvis_load_lib(\"https://cdnjs.cloudflare.com/ajax/libs/d3/3.5.5/d3.min.js\", function(){\n",
       "         LDAvis_load_lib(\"https://cdn.rawgit.com/bmabey/pyLDAvis/files/ldavis.v1.0.0.js\", function(){\n",
       "                 new LDAvis(\"#\" + \"ldavis_el118051130023441449976315585\", ldavis_el118051130023441449976315585_data);\n",
       "            })\n",
       "         });\n",
       "}\n",
       "</script>"
      ],
      "text/plain": [
       "PreparedData(topic_coordinates=              x         y  topics  cluster       Freq\n",
       "topic                                                \n",
       "0      0.132323  0.107377       1        1  19.359997\n",
       "1      0.047069 -0.279948       2        1  23.678696\n",
       "2     -0.399279  0.039971       3        1   5.785853\n",
       "3      0.130524  0.074789       4        1  28.288708\n",
       "4      0.089364  0.057810       5        1  22.886744, topic_info=     Category          Freq          Term         Total  loglift  logprob\n",
       "271   Default   6248.000000         check   6248.000000  30.0000  30.0000\n",
       "100   Default  12026.000000         metrô  12026.000000  29.0000  29.0000\n",
       "270   Default  10260.000000          cama  10260.000000  28.0000  28.0000\n",
       "61    Default   4786.000000            in   4786.000000  27.0000  27.0000\n",
       "269   Default   8214.000000           bar   8214.000000  26.0000  26.0000\n",
       "147   Default   7967.000000  supermercado   7967.000000  25.0000  25.0000\n",
       "273   Default   4061.000000       horário   4061.000000  24.0000  24.0000\n",
       "216   Default   7679.000000        mercar   7679.000000  23.0000  23.0000\n",
       "90    Default   7203.000000      cozinhar   7203.000000  22.0000  22.0000\n",
       "470   Default   3525.000000      flexível   3525.000000  21.0000  21.0000\n",
       "263   Default   7840.000000         fácil   7840.000000  20.0000  20.0000\n",
       "197   Default   6362.000000      farmácia   6362.000000  19.0000  19.0000\n",
       "505   Default   6769.000000        acesso   6769.000000  18.0000  18.0000\n",
       "83    Default  10017.000000         aptar  10017.000000  17.0000  17.0000\n",
       "338   Default   3118.000000      check-in   3118.000000  16.0000  16.0000\n",
       "371   Default   8593.000000      incrível   8593.000000  15.0000  15.0000\n",
       "4     Default  14191.000000   maravilhoso  14191.000000  14.0000  14.0000\n",
       "166   Default   5661.000000      banheiro   5661.000000  13.0000  13.0000\n",
       "149   Default   7245.000000    copacabana   7245.000000  12.0000  12.0000\n",
       "278   Default   2716.000000           out   2716.000000  11.0000  11.0000\n",
       "85    Default   5272.000000            ar   5272.000000  10.0000  10.0000\n",
       "56    Default  11701.000000          foto  11701.000000   9.0000   9.0000\n",
       "200   Default   4881.000000       padaria   4881.000000   8.0000   8.0000\n",
       "243   Default   3217.000000         preço   3217.000000   7.0000   7.0000\n",
       "88    Default   4725.000000   condicionar   4725.000000   6.0000   6.0000\n",
       "185   Default   4672.000000        roupar   4672.000000   5.0000   5.0000\n",
       "146   Default   9342.000000        sentir   9342.000000   4.0000   4.0000\n",
       "126   Default   4607.000000      comércio   4607.000000   3.0000   3.0000\n",
       "312   Default   5580.000000       vontade   5580.000000   2.0000   2.0000\n",
       "7     Default   6225.000000      problema   6225.000000   1.0000   1.0000\n",
       "...       ...           ...           ...           ...      ...      ...\n",
       "258    Topic5   2269.991943     turístico   2277.183594   1.4714  -5.1609\n",
       "4085   Topic5    276.585266         museu    277.529572   1.4712  -7.2659\n",
       "126    Topic5   4590.264648      comércio   4607.870117   1.4708  -4.4567\n",
       "505    Topic5   6626.695312        acesso   6769.584961   1.4533  -4.0895\n",
       "375    Topic5   1251.017212           sul   1259.323242   1.4680  -5.7567\n",
       "695    Topic5    513.992554         orlar    515.812744   1.4711  -6.6462\n",
       "112    Topic5    691.724426          táxi    697.733704   1.4660  -6.3492\n",
       "122    Topic5   4446.228027         metro   4580.698730   1.4448  -4.4886\n",
       "217    Topic5   2867.466797       próximo   2967.750732   1.4402  -4.9272\n",
       "376    Topic5   1342.210571         zonar   1371.541016   1.4530  -5.6863\n",
       "263    Topic5   7391.535645         fácil   7840.154297   1.4157  -3.9803\n",
       "15     Topic5   4356.894531       quadrar   4621.615234   1.4156  -4.5089\n",
       "644    Topic5   1643.954102      caminhar   1695.089844   1.4440  -5.4835\n",
       "1928   Topic5    859.337830           brt    872.808899   1.4591  -6.1322\n",
       "149    Topic5   6688.569824    copacabana   7245.311523   1.3947  -4.0802\n",
       "320    Topic5   3781.915527       ipanema   4036.250000   1.4095  -4.6504\n",
       "1311   Topic5   2285.588867       centrar   2413.013916   1.4204  -5.1540\n",
       "183    Topic5   3224.787598            pé   3472.096680   1.4007  -4.8098\n",
       "540    Topic5   2557.605713        minuto   2797.732422   1.3849  -5.0416\n",
       "366    Topic5   4062.275391        bairro   5304.269531   1.2078  -4.5789\n",
       "237    Topic5   4250.585938          ruir   5693.036133   1.1824  -4.5336\n",
       "199    Topic5   3337.606934        frente   4597.532715   1.1543  -4.7754\n",
       "460    Topic5   3197.952148         opção   4367.074707   1.1630  -4.8181\n",
       "181    Topic5   2385.640625         perto   2974.058105   1.2542  -5.1112\n",
       "220    Topic5   5340.121582     tranquilo  10171.947266   0.8302  -4.3054\n",
       "412    Topic5   2401.039551        região   3189.791016   1.1906  -5.1047\n",
       "205    Topic5   3138.592773        prédio   7717.601562   0.5749  -4.8369\n",
       "262    Topic5   2706.126953        cidade   4799.592285   0.9016  -4.9851\n",
       "303    Topic5   2704.229736       segurar   6175.703125   0.6488  -4.9858\n",
       "222    Topic5   2720.300293  aconchegante  13285.203125  -0.1113  -4.9799\n",
       "\n",
       "[333 rows x 6 columns], token_table=      Topic      Freq          Term\n",
       "term                               \n",
       "39        3  0.995887            's\n",
       "332       1  0.679953            10\n",
       "332       2  0.057943            10\n",
       "332       3  0.010884            10\n",
       "332       4  0.000320            10\n",
       "332       5  0.251301            10\n",
       "2999      4  0.996657            <3\n",
       "779       3  0.002549       abraçar\n",
       "779       4  0.995265       abraçar\n",
       "505       2  0.020976        acesso\n",
       "505       4  0.000148        acesso\n",
       "505       5  0.978937        acesso\n",
       "17        1  0.014843         achar\n",
       "17        2  0.705446         achar\n",
       "17        3  0.002474         achar\n",
       "17        4  0.155437         achar\n",
       "17        5  0.121216         achar\n",
       "1824      4  0.997680       acolher\n",
       "1565      4  0.997981      acolhido\n",
       "1176      4  0.994941   acolhimento\n",
       "229       1  0.527048    acomodação\n",
       "229       2  0.063845    acomodação\n",
       "229       3  0.000217    acomodação\n",
       "229       4  0.331387    acomodação\n",
       "229       5  0.077526    acomodação\n",
       "222       1  0.375079  aconchegante\n",
       "222       3  0.000075  aconchegante\n",
       "222       4  0.420091  aconchegante\n",
       "222       5  0.204739  aconchegante\n",
       "454       4  0.996047    aconchegar\n",
       "...     ...       ...           ...\n",
       "713       2  0.759176     utensílio\n",
       "713       5  0.085453     utensílio\n",
       "396       2  0.122848         valer\n",
       "396       4  0.877048         valer\n",
       "25        2  0.999339    ventilador\n",
       "679       3  0.998859          very\n",
       "759       1  0.000959         visto\n",
       "759       2  0.135597         visto\n",
       "759       4  0.786526         visto\n",
       "759       5  0.077012         visto\n",
       "4088      5  0.997029           vlt\n",
       "260       3  0.998168          voar\n",
       "312       2  0.000179       vontade\n",
       "312       4  0.989225       vontade\n",
       "312       5  0.010573       vontade\n",
       "78        3  0.998807           was\n",
       "190       2  0.999515         wi-fi\n",
       "660       2  0.986490          wifi\n",
       "660       3  0.013514          wifi\n",
       "376       3  0.021144         zonar\n",
       "376       5  0.978461         zonar\n",
       "618       1  0.971099          ágil\n",
       "618       2  0.002675          ágil\n",
       "618       5  0.026752          ágil\n",
       "430       2  0.999611          água\n",
       "4170      1  0.995201        ângela\n",
       "925       4  0.995398         ímpar\n",
       "114       5  0.999789        ônibus\n",
       "580       2  0.999228         único\n",
       "580       4  0.000425         único\n",
       "\n",
       "[703 rows x 3 columns], R=30, lambda_step=0.01, plot_opts={'xlab': 'PC1', 'ylab': 'PC2'}, topic_order=[1, 2, 3, 4, 5])"
      ]
     },
     "execution_count": 66,
     "metadata": {},
     "output_type": "execute_result"
    }
   ],
   "source": [
    "# Gera uma visualização dos tópicos e palavras associadas\n",
    "pyLDAvis.enable_notebook()\n",
    "vis = pyLDAvis.gensim.prepare(lda_model, doc_term_matrix, dictionary, sort_topics = False)\n",
    "vis"
   ]
  },
  {
   "cell_type": "code",
   "execution_count": 109,
   "metadata": {},
   "outputs": [],
   "source": [
    "# Assinala rótulos para cada um dos tópicos identificados, com base nas palavras que os compõem\n",
    "topic_labels = {0:'Atendimento',\n",
    "                1:'Instalações',\n",
    "                2:'Check-in/Check-out',\n",
    "                3:'Experiência',\n",
    "                4:'Localização/Conveniência'}"
   ]
  },
  {
   "cell_type": "code",
   "execution_count": 113,
   "metadata": {},
   "outputs": [],
   "source": [
    "def get_topic_label_prob(doc_term_row, topic_labels = topic_labels, model = lda_model):\n",
    "    \"\"\"\n",
    "    Dado um vetor da doc_term_matrix, e um modelo LDA já treinado, esta função\n",
    "    identifica o tópico predominante mais provável e retorna uma string com\n",
    "    o nome do tópico identificado, conforme assinalado em topic_labels, e a probabilidade\n",
    "    associada\n",
    "    \n",
    "    Argumentos:\n",
    "    doc_term_row -- (list) o vetor do documento cujo tópico deseja-se identificar\n",
    "    topic_labels -- (dictionary) dicionário contendo o mapeamento de topic id para topic_label\n",
    "    model -- (gensim ldamodel) um modelo LDA treinado\n",
    "    \n",
    "    Retorna: (str) string no formato\n",
    "             topic_label:probabilidade\n",
    "    \n",
    "    \"\"\"    \n",
    "\n",
    "    topic_assignment = sorted(model[doc_term_row], key = lambda x:x[1], reverse = True)\n",
    "    topic, prob = topic_assignment[0]\n",
    "    \n",
    "    return str(topic_labels[topic]) + \":\" + str(prob)"
   ]
  },
  {
   "cell_type": "code",
   "execution_count": 114,
   "metadata": {},
   "outputs": [],
   "source": [
    "topics = []\n",
    "for row in doc_term_matrix:\n",
    "    topics.append(get_topic_label_prob(row))"
   ]
  },
  {
   "cell_type": "code",
   "execution_count": 120,
   "metadata": {},
   "outputs": [
    {
     "data": {
      "text/html": [
       "<div>\n",
       "<style scoped>\n",
       "    .dataframe tbody tr th:only-of-type {\n",
       "        vertical-align: middle;\n",
       "    }\n",
       "\n",
       "    .dataframe tbody tr th {\n",
       "        vertical-align: top;\n",
       "    }\n",
       "\n",
       "    .dataframe thead th {\n",
       "        text-align: right;\n",
       "    }\n",
       "</style>\n",
       "<table border=\"1\" class=\"dataframe\">\n",
       "  <thead>\n",
       "    <tr style=\"text-align: right;\">\n",
       "      <th></th>\n",
       "      <th>listing_id</th>\n",
       "      <th>id</th>\n",
       "      <th>date</th>\n",
       "      <th>reviewer_id</th>\n",
       "      <th>reviewer_name</th>\n",
       "      <th>comments</th>\n",
       "      <th>language</th>\n",
       "      <th>clean_comments</th>\n",
       "      <th>main_topic</th>\n",
       "    </tr>\n",
       "  </thead>\n",
       "  <tbody>\n",
       "    <tr>\n",
       "      <th>18</th>\n",
       "      <td>17878</td>\n",
       "      <td>597736</td>\n",
       "      <td>2011-10-04</td>\n",
       "      <td>989464</td>\n",
       "      <td>Jose Mauro</td>\n",
       "      <td>Muito Melhor do que ir para um hotel. Apt com ...</td>\n",
       "      <td>pt</td>\n",
       "      <td>hotel apt excelente localização quarteirão pra...</td>\n",
       "      <td>Atendimento:0.44995096</td>\n",
       "    </tr>\n",
       "    <tr>\n",
       "      <th>19</th>\n",
       "      <td>17878</td>\n",
       "      <td>620065</td>\n",
       "      <td>2011-10-11</td>\n",
       "      <td>1157847</td>\n",
       "      <td>Gabriel</td>\n",
       "      <td>Muito bom o apartamento, a pouco mais de uma q...</td>\n",
       "      <td>pt</td>\n",
       "      <td>apartamento quadrar praia lugar comer sair</td>\n",
       "      <td>Localização/Conveniência:0.83668894</td>\n",
       "    </tr>\n",
       "    <tr>\n",
       "      <th>33</th>\n",
       "      <td>17878</td>\n",
       "      <td>1566424</td>\n",
       "      <td>2012-06-26</td>\n",
       "      <td>2253138</td>\n",
       "      <td>Sergio</td>\n",
       "      <td>o apartamento é muito confortável, e todo equi...</td>\n",
       "      <td>pt</td>\n",
       "      <td>apartamento confortável equipar unica reivindi...</td>\n",
       "      <td>Instalações:0.93271095</td>\n",
       "    </tr>\n",
       "    <tr>\n",
       "      <th>49</th>\n",
       "      <td>17878</td>\n",
       "      <td>3451132</td>\n",
       "      <td>2013-02-01</td>\n",
       "      <td>4142117</td>\n",
       "      <td>Laura</td>\n",
       "      <td>O apartamento é muito bom. Quartos e sala gran...</td>\n",
       "      <td>pt</td>\n",
       "      <td>apartamento quarto sala decoração gostar areja...</td>\n",
       "      <td>Instalações:0.60886776</td>\n",
       "    </tr>\n",
       "    <tr>\n",
       "      <th>70</th>\n",
       "      <td>17878</td>\n",
       "      <td>5100450</td>\n",
       "      <td>2013-06-12</td>\n",
       "      <td>5538405</td>\n",
       "      <td>Jose Bertoldo</td>\n",
       "      <td>Bom apartamento, limpo, boa localização, porta...</td>\n",
       "      <td>pt</td>\n",
       "      <td>apartamento limpar localização portar eficient...</td>\n",
       "      <td>Atendimento:0.60195154</td>\n",
       "    </tr>\n",
       "  </tbody>\n",
       "</table>\n",
       "</div>"
      ],
      "text/plain": [
       "    listing_id       id        date  reviewer_id  reviewer_name  \\\n",
       "18       17878   597736  2011-10-04       989464     Jose Mauro   \n",
       "19       17878   620065  2011-10-11      1157847        Gabriel   \n",
       "33       17878  1566424  2012-06-26      2253138         Sergio   \n",
       "49       17878  3451132  2013-02-01      4142117          Laura   \n",
       "70       17878  5100450  2013-06-12      5538405  Jose Bertoldo   \n",
       "\n",
       "                                             comments language  \\\n",
       "18  Muito Melhor do que ir para um hotel. Apt com ...       pt   \n",
       "19  Muito bom o apartamento, a pouco mais de uma q...       pt   \n",
       "33  o apartamento é muito confortável, e todo equi...       pt   \n",
       "49  O apartamento é muito bom. Quartos e sala gran...       pt   \n",
       "70  Bom apartamento, limpo, boa localização, porta...       pt   \n",
       "\n",
       "                                       clean_comments  \\\n",
       "18  hotel apt excelente localização quarteirão pra...   \n",
       "19         apartamento quadrar praia lugar comer sair   \n",
       "33  apartamento confortável equipar unica reivindi...   \n",
       "49  apartamento quarto sala decoração gostar areja...   \n",
       "70  apartamento limpar localização portar eficient...   \n",
       "\n",
       "                             main_topic  \n",
       "18               Atendimento:0.44995096  \n",
       "19  Localização/Conveniência:0.83668894  \n",
       "33               Instalações:0.93271095  \n",
       "49               Instalações:0.60886776  \n",
       "70               Atendimento:0.60195154  "
      ]
     },
     "execution_count": 120,
     "metadata": {},
     "output_type": "execute_result"
    }
   ],
   "source": [
    "# Adiciona coluna main_topic com o principal tópico identificado pelo modelo para cada review, e a probabilidade correspondente\n",
    "reviews_pt[\"main_topic\"] = topics\n",
    "reviews_pt.head()"
   ]
  },
  {
   "cell_type": "code",
   "execution_count": 125,
   "metadata": {},
   "outputs": [],
   "source": [
    "# Salva .csv das reviews incluindo a coluna main_topic\n",
    "reviews_pt.to_csv('data/reviews_pt_with_topics.csv', index = False)"
   ]
  },
  {
   "cell_type": "markdown",
   "metadata": {},
   "source": [
    "## Conclusões\n",
    "\n",
    "Uma vez que não existem categorias pré-definidas para as reviews, não é possível medir a precisão do modelo desenvolvido. Entretanto, de forma subjetiva, é possível verificar que os tópicos identificados, tem relação com o conteúdo das reviews. Uma abordagem que permitiria obter uma métrica mais concreta para avaliação do modelo, ao custo de um maior tempo de desenvolvimento, seria usar uma parte das reviews para fazer o treinamento do modelo, e a outra parte seria rotulada manualmente para posteriormente ser utilizada como set de validação, comparando os rótulos manuais com os sugeridos pelo modelo.\n",
    "\n",
    "#### Análises Futuras\n",
    "\n",
    "A análise em questão foi limitada ao idioma português, e no futuro, seria interessante incluir as reviews de outros idiomas. Uma opção para tal seria efetuar o preprocessamento utilizando os modelos correspondentes do spaCy para cada um dos idiomas, e posteriormente utilizando [tradução automática](https://pypi.org/project/googletrans/) nas reviews preprocessadas para realizar a segmentação por tópico.\n",
    "\n",
    "Ainda com relação ao preprocessamento, seria interessante avaliar mais a fundo formas de refiná-lo ainda mais, identificando termos que poderiam ser desconsiderados, de forma similar ao tratamento dado para as strings que substituem conteúdo ocultado pelo Airbnb (e.g. \"website hidden by airbnb\").\n",
    "\n",
    "Outro ponto a ser avaliado seria o impacto de incluir bigrams e trigrams na modelagem, avaliando se os tópicos identificados podem se tornar mais relevantes e interpretáveis, e com menos sobreposição de termos.\n",
    "\n",
    "Finalmente, para efeitos de validação, vale reforçar o ponto mencionado anteriormente relativo a separação dos dados utilizados para treinamento e validação. Para tal, seria necessário um esforço significativo para rotulação dos dados a serem utilizados para validação, mas com um impacto significativo no que se refere a obter uma avaliação do modelo com mais confiança."
   ]
  }
 ],
 "metadata": {
  "kernelspec": {
   "display_name": "Python 3",
   "language": "python",
   "name": "python3"
  },
  "language_info": {
   "codemirror_mode": {
    "name": "ipython",
    "version": 3
   },
   "file_extension": ".py",
   "mimetype": "text/x-python",
   "name": "python",
   "nbconvert_exporter": "python",
   "pygments_lexer": "ipython3",
   "version": "3.7.3"
  }
 },
 "nbformat": 4,
 "nbformat_minor": 2
}
