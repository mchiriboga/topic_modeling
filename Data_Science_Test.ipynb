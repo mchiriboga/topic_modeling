{
 "cells": [
  {
   "cell_type": "code",
   "execution_count": 17,
   "metadata": {
    "scrolled": true
   },
   "outputs": [],
   "source": [
    "# Importa as bibliotecas necessárias\n",
    "import gensim\n",
    "import gensim.corpora as corpora\n",
    "import pandas as pd\n",
    "import re\n",
    "import spacy\n",
    "\n",
    "from gensim.models.coherencemodel import CoherenceModel\n",
    "from gensim.models import LdaModel\n",
    "from gensim.models import LdaMulticore\n",
    "\n",
    "from langdetect import detect, DetectorFactory\n",
    "DetectorFactory.seed = 0\n",
    "\n",
    "from tqdm import tqdm\n",
    "tqdm.pandas()"
   ]
  },
  {
   "cell_type": "code",
   "execution_count": 14,
   "metadata": {
    "scrolled": true
   },
   "outputs": [],
   "source": [
    "# Carrega o dataset referente às reviews do Airbnb Rio de Janeiro\n",
    "reviews = pd.read_csv(\"data/reviews.csv\")"
   ]
  },
  {
   "cell_type": "code",
   "execution_count": 15,
   "metadata": {
    "scrolled": true
   },
   "outputs": [
    {
     "data": {
      "text/html": [
       "<div>\n",
       "<style scoped>\n",
       "    .dataframe tbody tr th:only-of-type {\n",
       "        vertical-align: middle;\n",
       "    }\n",
       "\n",
       "    .dataframe tbody tr th {\n",
       "        vertical-align: top;\n",
       "    }\n",
       "\n",
       "    .dataframe thead th {\n",
       "        text-align: right;\n",
       "    }\n",
       "</style>\n",
       "<table border=\"1\" class=\"dataframe\">\n",
       "  <thead>\n",
       "    <tr style=\"text-align: right;\">\n",
       "      <th></th>\n",
       "      <th>listing_id</th>\n",
       "      <th>id</th>\n",
       "      <th>date</th>\n",
       "      <th>reviewer_id</th>\n",
       "      <th>reviewer_name</th>\n",
       "      <th>comments</th>\n",
       "    </tr>\n",
       "  </thead>\n",
       "  <tbody>\n",
       "    <tr>\n",
       "      <th>0</th>\n",
       "      <td>17878</td>\n",
       "      <td>64852</td>\n",
       "      <td>2010-07-15</td>\n",
       "      <td>135370</td>\n",
       "      <td>Tia</td>\n",
       "      <td>This apartment is in a perfect location -- two...</td>\n",
       "    </tr>\n",
       "    <tr>\n",
       "      <th>1</th>\n",
       "      <td>17878</td>\n",
       "      <td>76744</td>\n",
       "      <td>2010-08-11</td>\n",
       "      <td>10206</td>\n",
       "      <td>Mimi</td>\n",
       "      <td>we had a really great experience staying in Ma...</td>\n",
       "    </tr>\n",
       "    <tr>\n",
       "      <th>2</th>\n",
       "      <td>17878</td>\n",
       "      <td>91074</td>\n",
       "      <td>2010-09-06</td>\n",
       "      <td>80253</td>\n",
       "      <td>Jan</td>\n",
       "      <td>Staying in Max appartment is like living in a ...</td>\n",
       "    </tr>\n",
       "    <tr>\n",
       "      <th>3</th>\n",
       "      <td>17878</td>\n",
       "      <td>137528</td>\n",
       "      <td>2010-11-12</td>\n",
       "      <td>230449</td>\n",
       "      <td>Orene</td>\n",
       "      <td>In general very good and reasonable price.\\r\\n...</td>\n",
       "    </tr>\n",
       "    <tr>\n",
       "      <th>4</th>\n",
       "      <td>17878</td>\n",
       "      <td>147594</td>\n",
       "      <td>2010-12-01</td>\n",
       "      <td>219338</td>\n",
       "      <td>David</td>\n",
       "      <td>The apt was nice and in a great location only ...</td>\n",
       "    </tr>\n",
       "  </tbody>\n",
       "</table>\n",
       "</div>"
      ],
      "text/plain": [
       "   listing_id      id        date  reviewer_id reviewer_name  \\\n",
       "0       17878   64852  2010-07-15       135370           Tia   \n",
       "1       17878   76744  2010-08-11        10206          Mimi   \n",
       "2       17878   91074  2010-09-06        80253           Jan   \n",
       "3       17878  137528  2010-11-12       230449         Orene   \n",
       "4       17878  147594  2010-12-01       219338         David   \n",
       "\n",
       "                                            comments  \n",
       "0  This apartment is in a perfect location -- two...  \n",
       "1  we had a really great experience staying in Ma...  \n",
       "2  Staying in Max appartment is like living in a ...  \n",
       "3  In general very good and reasonable price.\\r\\n...  \n",
       "4  The apt was nice and in a great location only ...  "
      ]
     },
     "execution_count": 15,
     "metadata": {},
     "output_type": "execute_result"
    }
   ],
   "source": [
    "# Apresenta as primeiras 5 reviews\n",
    "reviews.head(5)"
   ]
  },
  {
   "cell_type": "code",
   "execution_count": 4,
   "metadata": {
    "scrolled": true
   },
   "outputs": [
    {
     "name": "stdout",
     "output_type": "stream",
     "text": [
      "<class 'pandas.core.frame.DataFrame'>\n",
      "RangeIndex: 292516 entries, 0 to 292515\n",
      "Data columns (total 7 columns):\n",
      "listing_id       292516 non-null int64\n",
      "id               292516 non-null int64\n",
      "date             292516 non-null object\n",
      "reviewer_id      292516 non-null int64\n",
      "reviewer_name    292516 non-null object\n",
      "comments         292446 non-null object\n",
      "language         292076 non-null object\n",
      "dtypes: int64(3), object(4)\n",
      "memory usage: 15.6+ MB\n"
     ]
    }
   ],
   "source": [
    "reviews.info()"
   ]
  },
  {
   "cell_type": "code",
   "execution_count": 5,
   "metadata": {
    "scrolled": true
   },
   "outputs": [],
   "source": [
    "# Converte coluna comments para string\n",
    "reviews[\"comments\"] = reviews[\"comments\"].astype(str)"
   ]
  },
  {
   "cell_type": "code",
   "execution_count": null,
   "metadata": {
    "scrolled": true
   },
   "outputs": [],
   "source": [
    "# Adiciona coluna com idioma da review\n",
    "def try_detect_language(text):\n",
    "    \"\"\"\n",
    "    Dado uma string text, tenta obter o idioma predominante.\n",
    "    \n",
    "    Argumentos:\n",
    "    text -- (str) o texto para o qual se deseja detectar o idioma\n",
    "    Retorna: (str) o código do idioma (e.g. 'en' para inglês). \n",
    "             Retorna uma string vazia caso não seja possível detectar o idioma\n",
    "    \"\"\"\n",
    "    try:\n",
    "        return detect(text)\n",
    "    except:\n",
    "        return \"\"\n",
    "\n",
    "reviews[\"language\"] = reviews[\"comments\"].apply(try_detect_language)"
   ]
  },
  {
   "cell_type": "code",
   "execution_count": null,
   "metadata": {
    "scrolled": false
   },
   "outputs": [],
   "source": [
    "# Verifica total de reviews para cada idioma identificado\n",
    "reviews.language.value_counts().head()"
   ]
  },
  {
   "cell_type": "markdown",
   "metadata": {},
   "source": [
    "## Preprocessamento dos Dados"
   ]
  },
  {
   "cell_type": "code",
   "execution_count": 6,
   "metadata": {
    "scrolled": true
   },
   "outputs": [],
   "source": [
    "nlp_pt = spacy.load(\"pt\")\n",
    "\n",
    "def preprocess(text, \n",
    "               min_token_len = 2, \n",
    "               irrelevant_pos = ['ADV','PRON','CCONJ','PUNCT','PART','DET','ADP','SPACE'],\n",
    "               nlp = nlp_pt): \n",
    "    \"\"\"\n",
    "    Dado text, min_token_len, e irrelevant_pos, faz o preprocessamento do texto\n",
    "    \n",
    "    Argumentos:\n",
    "    text -- (str) texto a ser pré-processado\n",
    "    min_token_len -- (int) o menor comprimento de token a ser considerado\n",
    "    irrelevant_pos -- (list) lista as classes gramaticais a serem ignoradas\n",
    "    \n",
    "    Retorna: (str) texto pré processado\n",
    "    \"\"\"\n",
    "    \n",
    "    # Converte todo os texto para apenas caractéres minúsculos\n",
    "    text = text.lower()\n",
    "    \n",
    "    # Remove termos utilizados pelo airbnb para ocultar informações\n",
    "    text = re.sub(r'\\((.*hidden by airbnb)\\)', \"\", text)\n",
    "    \n",
    "    # Processa o texto usando spacy\n",
    "    doc = nlp(text)\n",
    "    \n",
    "    preprocessed = []\n",
    "    \n",
    "    # Remove stop words, pontuação, tokens menores que min_token_len e tokens cuja \n",
    "    # classe gramatical identificada é irrelavante para análise\n",
    "    for token in doc:\n",
    "        if not token.is_stop and not token.is_punct and len(token) >= min_token_len and token.pos_ not in irrelevant_pos:\n",
    "            # Armazena o lemma do token na variável de saída\n",
    "            preprocessed.append(token.lemma_)\n",
    "            \n",
    "    return \" \".join(preprocessed)\n",
    "\n",
    "def preprocess_pt(text):\n",
    "    return preprocess(text, nlp = nlp_pt)"
   ]
  },
  {
   "cell_type": "code",
   "execution_count": 7,
   "metadata": {
    "scrolled": true
   },
   "outputs": [],
   "source": [
    "reviews_pt = reviews[reviews.language == \"pt\"]"
   ]
  },
  {
   "cell_type": "code",
   "execution_count": 8,
   "metadata": {
    "scrolled": false
   },
   "outputs": [
    {
     "name": "stderr",
     "output_type": "stream",
     "text": [
      "100%|██████████| 138315/138315 [1:07:43<00:00, 34.04it/s]    \n",
      "/Users/marcelle/anaconda3/lib/python3.7/site-packages/ipykernel_launcher.py:1: SettingWithCopyWarning: \n",
      "A value is trying to be set on a copy of a slice from a DataFrame.\n",
      "Try using .loc[row_indexer,col_indexer] = value instead\n",
      "\n",
      "See the caveats in the documentation: http://pandas.pydata.org/pandas-docs/stable/indexing.html#indexing-view-versus-copy\n",
      "  \"\"\"Entry point for launching an IPython kernel.\n"
     ]
    }
   ],
   "source": [
    "reviews_pt[\"clean_comments\"] = reviews_pt.comments.progress_apply(preprocess_pt)"
   ]
  },
  {
   "cell_type": "code",
   "execution_count": 9,
   "metadata": {
    "scrolled": true
   },
   "outputs": [],
   "source": [
    "reviews_pt.to_csv('data/reviews_pt_preprocessed.csv', index = False)"
   ]
  },
  {
   "cell_type": "code",
   "execution_count": 46,
   "metadata": {
    "scrolled": true
   },
   "outputs": [],
   "source": [
    "preprocessed_corpus = [doc.split() for doc in reviews_pt.clean_comments.tolist()]\n",
    "# Cria um vocabulário para o modelo LDA e converte\n",
    "# nosso corpus em uma matriz documento-termo para LDA\n",
    "dictionary = corpora.Dictionary(preprocessed_corpus)\n",
    "\n",
    "# Opcional: Remove palavras que aparecem em menos de no_below reviews e em mais do que no_above % das reviews\n",
    "dictionary.filter_extremes(no_below = 10, no_above = 0.1, keep_n = 10000)\n",
    "\n",
    "doc_term_matrix = [dictionary.doc2bow(doc) for doc in preprocessed_corpus]"
   ]
  },
  {
   "cell_type": "code",
   "execution_count": 47,
   "metadata": {
    "scrolled": true
   },
   "outputs": [
    {
     "name": "stdout",
     "output_type": "stream",
     "text": [
      "Dictionary(5888 unique tokens: ['apt', 'conhecer', 'hotel', 'maneiro', 'maravilhoso']...)\n"
     ]
    }
   ],
   "source": [
    "print(dictionary)"
   ]
  },
  {
   "cell_type": "code",
   "execution_count": 48,
   "metadata": {
    "scrolled": true
   },
   "outputs": [
    {
     "name": "stdout",
     "output_type": "stream",
     "text": [
      "Number of topics =  5\n",
      "[(0, '0.022*\"aptar\" + 0.022*\"foto\" + 0.017*\"organizar\" + 0.016*\"prestativo\" + 0.015*\"responder\" + 0.015*\"aconchegante\" + 0.013*\"rápido\" + 0.012*\"condomínio\" + 0.012*\"adorar\" + 0.010*\"indicar\"'), (1, '0.025*\"cama\" + 0.018*\"cozinhar\" + 0.014*\"banheiro\" + 0.013*\"problema\" + 0.013*\"ar\" + 0.012*\"condicionar\" + 0.011*\"roupar\" + 0.010*\"haver\" + 0.010*\"ter\" + 0.009*\"dia\"'), (2, '0.062*\"check\" + 0.048*\"in\" + 0.041*\"horário\" + 0.035*\"flexível\" + 0.030*\"check-in\" + 0.027*\"out\" + 0.020*\"preço\" + 0.019*\"host\" + 0.018*\"check-out\" + 0.017*\"combinar\"'), (3, '0.023*\"maravilhoso\" + 0.017*\"incrível\" + 0.016*\"sentir\" + 0.015*\"visto\" + 0.013*\"pessoa\" + 0.013*\"deixar\" + 0.012*\"receber\" + 0.012*\"experiência\" + 0.011*\"aconchegante\" + 0.011*\"vontade\"'), (4, '0.030*\"metrô\" + 0.021*\"bar\" + 0.020*\"supermercado\" + 0.019*\"mercar\" + 0.019*\"fácil\" + 0.017*\"copacabana\" + 0.017*\"acesso\" + 0.016*\"farmácia\" + 0.013*\"tranquilo\" + 0.012*\"padaria\"')] \n",
      "\n",
      "Coherence: 0.5618693571383846\n",
      "Number of topics =  6\n",
      "[(0, '0.016*\"ajudar\" + 0.015*\"dica\" + 0.015*\"pessoa\" + 0.015*\"deixar\" + 0.014*\"sentir\" + 0.014*\"dar\" + 0.014*\"maravilhoso\" + 0.013*\"receber\" + 0.013*\"vontade\" + 0.013*\"dúvida\"'), (1, '0.039*\"visto\" + 0.022*\"maravilhoso\" + 0.015*\"lindo\" + 0.015*\"café\" + 0.014*\"incrível\" + 0.011*\"condomínio\" + 0.011*\"piscina\" + 0.011*\"noto\" + 0.011*\"flat\" + 0.010*\"manhã\"'), (2, '0.027*\"otima\" + 0.027*\"host\" + 0.026*\"otimo\" + 0.017*\"the\" + 0.016*\"and\" + 0.016*\"localizacao\" + 0.015*\"proximo\" + 0.015*\"perfazer\" + 0.014*\"nao\" + 0.013*\"juliano\"'), (3, '0.027*\"aconchegante\" + 0.025*\"organizar\" + 0.024*\"foto\" + 0.020*\"prestativo\" + 0.020*\"aptar\" + 0.017*\"adorar\" + 0.016*\"agradável\" + 0.015*\"simpático\" + 0.014*\"rápido\" + 0.014*\"indicar\"'), (4, '0.030*\"cama\" + 0.019*\"cozinhar\" + 0.016*\"problema\" + 0.016*\"banheiro\" + 0.015*\"ar\" + 0.014*\"roupar\" + 0.013*\"condicionar\" + 0.011*\"funcionar\" + 0.010*\"chuveiro\" + 0.010*\"haver\"'), (5, '0.034*\"metrô\" + 0.023*\"bar\" + 0.022*\"supermercado\" + 0.022*\"mercar\" + 0.019*\"acesso\" + 0.019*\"fácil\" + 0.019*\"farmácia\" + 0.017*\"copacabana\" + 0.013*\"padaria\" + 0.013*\"tranquilo\"')] \n",
      "\n",
      "Coherence: 0.567417107646358\n",
      "Number of topics =  7\n",
      "[(0, '0.014*\"dia\" + 0.012*\"ruir\" + 0.012*\"café\" + 0.012*\"noite\" + 0.011*\"deixar\" + 0.011*\"chegar\" + 0.010*\"haver\" + 0.010*\"manhã\" + 0.010*\"centrar\" + 0.008*\"visto\"'), (1, '0.031*\"metrô\" + 0.024*\"dica\" + 0.020*\"dar\" + 0.019*\"bar\" + 0.018*\"mercar\" + 0.017*\"supermercado\" + 0.016*\"copacabana\" + 0.015*\"farmácia\" + 0.014*\"tranquilo\" + 0.014*\"ajudar\"'), (2, '0.022*\"melhor\" + 0.018*\"hospedar\" + 0.013*\"experiência\" + 0.013*\"maravilhoso\" + 0.012*\"precisar\" + 0.012*\"ajudar\" + 0.012*\"hospedagem\" + 0.011*\"esperar\" + 0.011*\"aptar\" + 0.010*\"atender\"'), (3, '0.034*\"responder\" + 0.027*\"rápido\" + 0.025*\"foto\" + 0.022*\"problema\" + 0.019*\"check\" + 0.013*\"horário\" + 0.013*\"in\" + 0.011*\"flexível\" + 0.011*\"comunicação\" + 0.011*\"anúncio\"'), (4, '0.119*\"fácil\" + 0.092*\"acesso\" + 0.065*\"expectativa\" + 0.057*\"custar\" + 0.041*\"benefício\" + 0.039*\"superar\" + 0.028*\"preço\" + 0.018*\"comunicação\" + 0.017*\"público\" + 0.015*\"transportar\"'), (5, '0.037*\"cama\" + 0.024*\"cozinhar\" + 0.019*\"ar\" + 0.017*\"roupar\" + 0.016*\"condicionar\" + 0.016*\"banheiro\" + 0.014*\"prédio\" + 0.011*\"equipar\" + 0.011*\"funcionar\" + 0.011*\"utensílio\"'), (6, '0.029*\"maravilhoso\" + 0.027*\"aconchegante\" + 0.022*\"visto\" + 0.019*\"incrível\" + 0.018*\"organizar\" + 0.017*\"adorar\" + 0.016*\"hospitalidade\" + 0.016*\"simpático\" + 0.016*\"agradável\" + 0.014*\"prestativo\"')] \n",
      "\n",
      "Coherence: 0.5607215404162773\n",
      "Number of topics =  8\n",
      "[(0, '0.064*\"deixar\" + 0.063*\"vontade\" + 0.037*\"custar\" + 0.027*\"benefício\" + 0.026*\"hospedagem\" + 0.022*\"anúncio\" + 0.019*\"sentir\" + 0.018*\"foto\" + 0.015*\"descrever\" + 0.012*\"flat\"'), (1, '0.020*\"melhor\" + 0.016*\"hospitalidade\" + 0.016*\"experiência\" + 0.014*\"sentir\" + 0.014*\"maravilhoso\" + 0.014*\"valer\" + 0.014*\"hospedar\" + 0.013*\"limpeza\" + 0.013*\"dia\" + 0.012*\"atenção\"'), (2, '0.028*\"foto\" + 0.024*\"farmácia\" + 0.024*\"metrô\" + 0.023*\"mercar\" + 0.023*\"responder\" + 0.023*\"supermercado\" + 0.021*\"bar\" + 0.020*\"aptar\" + 0.017*\"copacabana\" + 0.015*\"padaria\"'), (3, '0.070*\"noto\" + 0.054*\"10\" + 0.033*\"otima\" + 0.033*\"host\" + 0.032*\"otimo\" + 0.030*\"mto\" + 0.021*\"the\" + 0.019*\"and\" + 0.019*\"localizacao\" + 0.016*\"juliano\"'), (4, '0.025*\"aconchegante\" + 0.023*\"organizar\" + 0.022*\"prestativo\" + 0.022*\"ajudar\" + 0.020*\"simpático\" + 0.019*\"agradável\" + 0.018*\"dica\" + 0.017*\"pessoa\" + 0.015*\"adorar\" + 0.015*\"dar\"'), (5, '0.032*\"cama\" + 0.021*\"cozinhar\" + 0.017*\"banheiro\" + 0.016*\"ar\" + 0.015*\"problema\" + 0.015*\"roupar\" + 0.014*\"condicionar\" + 0.014*\"check\" + 0.011*\"chuveiro\" + 0.011*\"funcionar\"'), (6, '0.024*\"metrô\" + 0.024*\"acesso\" + 0.023*\"fácil\" + 0.019*\"tranquilo\" + 0.018*\"ruir\" + 0.015*\"bairro\" + 0.012*\"bar\" + 0.012*\"pé\" + 0.011*\"transportar\" + 0.011*\"minuto\"'), (7, '0.053*\"visto\" + 0.041*\"maravilhoso\" + 0.022*\"incrível\" + 0.021*\"lindo\" + 0.020*\"condomínio\" + 0.019*\"café\" + 0.015*\"piscina\" + 0.015*\"expectativa\" + 0.013*\"aconchegante\" + 0.013*\"superar\"')] \n",
      "\n",
      "Coherence: 0.5862468363096811\n",
      "Number of topics =  9\n",
      "[(0, '0.023*\"maravilhoso\" + 0.022*\"sentir\" + 0.017*\"deixar\" + 0.016*\"pessoa\" + 0.016*\"incrível\" + 0.015*\"receber\" + 0.015*\"vontade\" + 0.014*\"experiência\" + 0.014*\"hospitalidade\" + 0.014*\"melhor\"'), (1, '0.042*\"metrô\" + 0.027*\"supermercado\" + 0.026*\"mercar\" + 0.026*\"bar\" + 0.022*\"farmácia\" + 0.017*\"padaria\" + 0.016*\"copacabana\" + 0.014*\"comércio\" + 0.014*\"estação\" + 0.012*\"quadrar\"'), (2, '0.018*\"problema\" + 0.016*\"ter\" + 0.015*\"dia\" + 0.015*\"haver\" + 0.011*\"deixar\" + 0.011*\"ser\" + 0.010*\"banheiro\" + 0.010*\"chegar\" + 0.008*\"cama\" + 0.008*\"pequeno\"'), (3, '0.036*\"foto\" + 0.019*\"dúvida\" + 0.019*\"responder\" + 0.018*\"prestativo\" + 0.015*\"aptar\" + 0.014*\"organizar\" + 0.014*\"atender\" + 0.013*\"hospedagem\" + 0.013*\"adorar\" + 0.013*\"ajudar\"'), (4, '0.045*\"check\" + 0.031*\"in\" + 0.029*\"horário\" + 0.026*\"horar\" + 0.025*\"flexível\" + 0.023*\"prédio\" + 0.023*\"check-in\" + 0.020*\"ruir\" + 0.019*\"out\" + 0.019*\"portar\"'), (5, '0.050*\"cama\" + 0.032*\"cozinhar\" + 0.028*\"ar\" + 0.027*\"valer\" + 0.026*\"condicionar\" + 0.022*\"roupar\" + 0.022*\"peno\" + 0.021*\"custar\" + 0.018*\"banheiro\" + 0.018*\"equipar\"'), (6, '0.044*\"expectativa\" + 0.040*\"aptar\" + 0.027*\"superar\" + 0.023*\"perfazer\" + 0.022*\"leblon\" + 0.019*\"ipanema\" + 0.017*\"copacabana\" + 0.016*\"otimo\" + 0.016*\"ap\" + 0.015*\"melhor\"'), (7, '0.125*\"visto\" + 0.044*\"maravilhoso\" + 0.037*\"lindo\" + 0.034*\"piscina\" + 0.030*\"incrível\" + 0.025*\"mar\" + 0.018*\"barrir\" + 0.017*\"condomínio\" + 0.013*\"the\" + 0.013*\"varanda\"'), (8, '0.037*\"aconchegante\" + 0.036*\"fácil\" + 0.031*\"tranquilo\" + 0.030*\"comunicação\" + 0.028*\"rápido\" + 0.028*\"acesso\" + 0.027*\"agradável\" + 0.021*\"organizar\" + 0.019*\"ambientar\" + 0.016*\"simpático\"')] \n",
      "\n",
      "Coherence: 0.5272159729153906\n",
      "Number of topics =  10\n",
      "[(0, '0.033*\"cama\" + 0.021*\"cozinhar\" + 0.017*\"banheiro\" + 0.016*\"ar\" + 0.015*\"roupar\" + 0.014*\"condicionar\" + 0.012*\"problema\" + 0.011*\"chuveiro\" + 0.011*\"haver\" + 0.010*\"ter\"'), (1, '0.033*\"aconchegante\" + 0.026*\"adorar\" + 0.024*\"organizar\" + 0.023*\"hospitalidade\" + 0.022*\"agradável\" + 0.019*\"maravilhoso\" + 0.018*\"aptar\" + 0.017*\"hospedagem\" + 0.017*\"ambientar\" + 0.017*\"limpeza\"'), (2, '0.041*\"lapa\" + 0.029*\"the\" + 0.027*\"and\" + 0.025*\"santo\" + 0.024*\"host\" + 0.015*\"teresa\" + 0.015*\"to\" + 0.014*\"is\" + 0.011*\"in\" + 0.011*\"tereza\"'), (3, '0.031*\"acesso\" + 0.030*\"fácil\" + 0.027*\"dica\" + 0.023*\"bairro\" + 0.022*\"dar\" + 0.022*\"tranquilo\" + 0.017*\"cidade\" + 0.014*\"opção\" + 0.013*\"transportar\" + 0.012*\"região\"'), (4, '0.045*\"metrô\" + 0.037*\"supermercado\" + 0.036*\"mercar\" + 0.036*\"bar\" + 0.032*\"farmácia\" + 0.031*\"copacabana\" + 0.023*\"padaria\" + 0.021*\"quadrar\" + 0.019*\"ipanema\" + 0.017*\"estação\"'), (5, '0.060*\"check\" + 0.042*\"in\" + 0.030*\"horário\" + 0.026*\"flexível\" + 0.025*\"out\" + 0.025*\"preço\" + 0.021*\"otima\" + 0.020*\"otimo\" + 0.018*\"mto\" + 0.016*\"aptar\"'), (6, '0.051*\"responder\" + 0.045*\"rápido\" + 0.039*\"dúvida\" + 0.035*\"atender\" + 0.033*\"ajudar\" + 0.027*\"expectativa\" + 0.027*\"precisar\" + 0.018*\"comunicação\" + 0.017*\"necessidade\" + 0.017*\"disponível\"'), (7, '0.030*\"maravilhoso\" + 0.029*\"visto\" + 0.020*\"incrível\" + 0.019*\"sentir\" + 0.017*\"melhor\" + 0.016*\"deixar\" + 0.015*\"pessoa\" + 0.013*\"experiência\" + 0.013*\"vontade\" + 0.012*\"receber\"'), (8, '0.074*\"foto\" + 0.023*\"prédio\" + 0.022*\"anúncio\" + 0.022*\"prestativo\" + 0.021*\"flat\" + 0.021*\"condomínio\" + 0.018*\"descrever\" + 0.016*\"educar\" + 0.015*\"piscina\" + 0.015*\"funcionário\"'), (9, '0.091*\"valer\" + 0.075*\"peno\" + 0.072*\"custar\" + 0.062*\"noto\" + 0.054*\"10\" + 0.052*\"benefício\" + 0.031*\"acomodação\" + 0.019*\"beneficiar\" + 0.018*\"top\" + 0.015*\"juliano\"')] \n",
      "\n"
     ]
    },
    {
     "name": "stdout",
     "output_type": "stream",
     "text": [
      "Coherence: 0.5873607644226186\n",
      "Number of topics =  11\n",
      "[(0, '0.020*\"dia\" + 0.016*\"cidade\" + 0.013*\"noite\" + 0.013*\"chegar\" + 0.012*\"bairro\" + 0.012*\"tranquilo\" + 0.011*\"acesso\" + 0.011*\"passar\" + 0.011*\"lapa\" + 0.010*\"centrar\"'), (1, '0.039*\"deixar\" + 0.038*\"dica\" + 0.035*\"dar\" + 0.030*\"ajudar\" + 0.029*\"vontade\" + 0.022*\"dúvida\" + 0.020*\"receber\" + 0.018*\"precisar\" + 0.015*\"chegar\" + 0.014*\"café\"'), (2, '0.060*\"foto\" + 0.028*\"prestativo\" + 0.027*\"fácil\" + 0.026*\"organizar\" + 0.022*\"simpático\" + 0.020*\"agradável\" + 0.020*\"tranquilo\" + 0.020*\"aptar\" + 0.020*\"acesso\" + 0.016*\"educar\"'), (3, '0.062*\"metrô\" + 0.041*\"supermercado\" + 0.040*\"mercar\" + 0.039*\"bar\" + 0.033*\"farmácia\" + 0.025*\"padaria\" + 0.021*\"quadrar\" + 0.021*\"estação\" + 0.020*\"copacabana\" + 0.018*\"comércio\"'), (4, '0.050*\"visto\" + 0.042*\"condomínio\" + 0.024*\"piscina\" + 0.021*\"estruturar\" + 0.019*\"barrir\" + 0.018*\"flat\" + 0.018*\"preço\" + 0.016*\"lindo\" + 0.015*\"frente\" + 0.014*\"prédio\"'), (5, '0.047*\"check\" + 0.044*\"rápido\" + 0.034*\"custar\" + 0.033*\"comunicação\" + 0.032*\"atendimento\" + 0.032*\"in\" + 0.031*\"noto\" + 0.031*\"horário\" + 0.027*\"flexível\" + 0.024*\"10\"'), (6, '0.037*\"cama\" + 0.026*\"cozinhar\" + 0.021*\"banheiro\" + 0.019*\"ar\" + 0.017*\"condicionar\" + 0.017*\"roupar\" + 0.013*\"chuveiro\" + 0.013*\"problema\" + 0.013*\"funcionar\" + 0.011*\"toalha\"'), (7, '0.030*\"aconchegante\" + 0.027*\"hospitalidade\" + 0.022*\"adorar\" + 0.020*\"maravilhoso\" + 0.019*\"hospedar\" + 0.018*\"expectativa\" + 0.018*\"indicar\" + 0.017*\"perfazer\" + 0.016*\"esperar\" + 0.016*\"melhor\"'), (8, '0.040*\"maravilhoso\" + 0.030*\"incrível\" + 0.024*\"pessoa\" + 0.023*\"sentir\" + 0.023*\"valer\" + 0.019*\"peno\" + 0.018*\"amar\" + 0.017*\"visto\" + 0.016*\"cuidar\" + 0.015*\"dono\"'), (9, '0.038*\"copacabana\" + 0.029*\"ipanema\" + 0.022*\"aptar\" + 0.019*\"ap\" + 0.019*\"leblon\" + 0.019*\"apt\" + 0.017*\"otimo\" + 0.016*\"otima\" + 0.015*\"ruir\" + 0.013*\"rodrigar\"'), (10, '0.042*\"the\" + 0.039*\"and\" + 0.032*\"host\" + 0.022*\"to\" + 0.020*\"is\" + 0.016*\"in\" + 0.014*\"clean\" + 0.014*\"very\" + 0.011*\"apartment\" + 0.011*\"miguel\"')] \n",
      "\n",
      "Coherence: 0.5522446755445133\n",
      "Number of topics =  12\n",
      "[(0, '0.066*\"cama\" + 0.041*\"cozinhar\" + 0.032*\"roupar\" + 0.025*\"ar\" + 0.023*\"condicionar\" + 0.022*\"limpo\" + 0.022*\"banheiro\" + 0.020*\"utensílio\" + 0.020*\"toalha\" + 0.019*\"equipar\"'), (1, '0.044*\"deixar\" + 0.034*\"sentir\" + 0.033*\"vontade\" + 0.024*\"pessoa\" + 0.022*\"receber\" + 0.016*\"dono\" + 0.016*\"simpático\" + 0.015*\"café\" + 0.014*\"maravilhoso\" + 0.013*\"hospedar\"'), (2, '0.021*\"problema\" + 0.016*\"haver\" + 0.015*\"ter\" + 0.014*\"dia\" + 0.011*\"chegar\" + 0.010*\"deixar\" + 0.010*\"ser\" + 0.009*\"prédio\" + 0.009*\"único\" + 0.009*\"banheiro\"'), (3, '0.057*\"dica\" + 0.051*\"dar\" + 0.029*\"cidade\" + 0.018*\"lugar\" + 0.015*\"leblon\" + 0.015*\"bairro\" + 0.014*\"opção\" + 0.014*\"dia\" + 0.014*\"ajudar\" + 0.013*\"janeiro\"'), (4, '0.052*\"foto\" + 0.034*\"prestativo\" + 0.030*\"organizar\" + 0.028*\"responder\" + 0.023*\"dúvida\" + 0.022*\"simpático\" + 0.020*\"educar\" + 0.020*\"adorar\" + 0.018*\"agradável\" + 0.018*\"aconchegante\"'), (5, '0.076*\"fácil\" + 0.066*\"acesso\" + 0.050*\"rápido\" + 0.045*\"comunicação\" + 0.037*\"custar\" + 0.026*\"benefício\" + 0.024*\"respostar\" + 0.023*\"check-in\" + 0.022*\"transportar\" + 0.019*\"horário\"'), (6, '0.055*\"metrô\" + 0.037*\"supermercado\" + 0.036*\"mercar\" + 0.036*\"bar\" + 0.031*\"farmácia\" + 0.024*\"copacabana\" + 0.023*\"padaria\" + 0.021*\"quadrar\" + 0.020*\"ruir\" + 0.019*\"estação\"'), (7, '0.029*\"melhor\" + 0.027*\"hospitalidade\" + 0.020*\"experiência\" + 0.019*\"atenção\" + 0.019*\"limpeza\" + 0.016*\"agradecer\" + 0.015*\"impecável\" + 0.015*\"noto\" + 0.015*\"10\" + 0.015*\"hospedar\"'), (8, '0.065*\"maravilhoso\" + 0.065*\"visto\" + 0.039*\"incrível\" + 0.038*\"aconchegante\" + 0.026*\"lindar\" + 0.025*\"lindo\" + 0.022*\"amar\" + 0.017*\"perfazer\" + 0.015*\"ana\" + 0.015*\"adorar\"'), (9, '0.078*\"valer\" + 0.075*\"check\" + 0.064*\"peno\" + 0.053*\"in\" + 0.044*\"atendimento\" + 0.041*\"acomodação\" + 0.039*\"preço\" + 0.032*\"out\" + 0.016*\"justar\" + 0.016*\"flexível\"'), (10, '0.053*\"host\" + 0.048*\"mto\" + 0.033*\"the\" + 0.031*\"and\" + 0.029*\"evento\" + 0.027*\"fátima\" + 0.020*\"olímpico\" + 0.019*\"riocentro\" + 0.018*\"parque\" + 0.018*\"tatiana\"'), (11, '0.057*\"atender\" + 0.056*\"aptar\" + 0.055*\"ajudar\" + 0.044*\"expectativa\" + 0.028*\"necessidade\" + 0.027*\"superar\" + 0.024*\"pessoa\" + 0.023*\"precisar\" + 0.017*\"disposto\" + 0.016*\"otima\"')] \n",
      "\n",
      "Coherence: 0.6293202887662782\n",
      "Number of topics =  13\n",
      "[(0, '0.081*\"foto\" + 0.056*\"responder\" + 0.039*\"check\" + 0.032*\"rápido\" + 0.026*\"in\" + 0.022*\"flexível\" + 0.022*\"horário\" + 0.022*\"anúncio\" + 0.018*\"descrever\" + 0.017*\"out\"'), (1, '0.036*\"tranquilo\" + 0.035*\"aptar\" + 0.025*\"segurar\" + 0.022*\"otimo\" + 0.020*\"otima\" + 0.020*\"bairro\" + 0.018*\"ap\" + 0.016*\"horar\" + 0.016*\"portar\" + 0.015*\"24\"'), (2, '0.089*\"visto\" + 0.059*\"maravilhoso\" + 0.040*\"incrível\" + 0.033*\"condomínio\" + 0.031*\"lindo\" + 0.026*\"piscina\" + 0.020*\"flat\" + 0.018*\"mar\" + 0.018*\"barrir\" + 0.013*\"lindar\"'), (3, '0.048*\"melhor\" + 0.037*\"ajudar\" + 0.028*\"dúvida\" + 0.027*\"experiência\" + 0.022*\"precisar\" + 0.020*\"hospedar\" + 0.018*\"maravilhoso\" + 0.018*\"noto\" + 0.017*\"ser\" + 0.016*\"incrível\"'), (4, '0.036*\"atender\" + 0.034*\"hospitalidade\" + 0.033*\"limpeza\" + 0.030*\"expectativa\" + 0.025*\"atendimento\" + 0.025*\"comunicação\" + 0.024*\"hospedagem\" + 0.024*\"impecável\" + 0.019*\"necessidade\" + 0.018*\"atenção\"'), (5, '0.048*\"aconchegante\" + 0.038*\"prestativo\" + 0.037*\"organizar\" + 0.033*\"adorar\" + 0.032*\"simpático\" + 0.031*\"educar\" + 0.030*\"agradável\" + 0.027*\"aptar\" + 0.026*\"valer\" + 0.022*\"peno\"'), (6, '0.038*\"deixar\" + 0.035*\"sentir\" + 0.030*\"vontade\" + 0.019*\"receber\" + 0.017*\"maravilhoso\" + 0.016*\"pessoa\" + 0.015*\"café\" + 0.014*\"caro\" + 0.013*\"cuidar\" + 0.011*\"ana\"'), (7, '0.058*\"cama\" + 0.040*\"cozinhar\" + 0.030*\"ar\" + 0.028*\"banheiro\" + 0.026*\"condicionar\" + 0.026*\"roupar\" + 0.019*\"funcionar\" + 0.017*\"utensílio\" + 0.017*\"toalha\" + 0.017*\"chuveiro\"'), (8, '0.074*\"dica\" + 0.064*\"dar\" + 0.034*\"cidade\" + 0.020*\"lugar\" + 0.019*\"lapa\" + 0.017*\"bairro\" + 0.016*\"ótimas\" + 0.013*\"conhecer\" + 0.013*\"centrar\" + 0.013*\"locar\"'), (9, '0.057*\"copacabana\" + 0.032*\"ipanema\" + 0.025*\"quadrar\" + 0.024*\"pé\" + 0.023*\"metrô\" + 0.022*\"minuto\" + 0.022*\"ruir\" + 0.020*\"bar\" + 0.015*\"opção\" + 0.014*\"leblon\"'), (10, '0.028*\"problema\" + 0.019*\"dia\" + 0.018*\"ter\" + 0.018*\"haver\" + 0.015*\"chegar\" + 0.012*\"ser\" + 0.011*\"único\" + 0.010*\"noite\" + 0.010*\"entrar\" + 0.010*\"deixar\"'), (11, '0.117*\"custar\" + 0.083*\"benefício\" + 0.035*\"the\" + 0.033*\"and\" + 0.032*\"host\" + 0.030*\"beneficiar\" + 0.018*\"to\" + 0.017*\"is\" + 0.015*\"in\" + 0.012*\"clean\"'), (12, '0.054*\"metrô\" + 0.051*\"fácil\" + 0.046*\"mercar\" + 0.044*\"acesso\" + 0.041*\"supermercado\" + 0.041*\"farmácia\" + 0.033*\"bar\" + 0.029*\"padaria\" + 0.021*\"comércio\" + 0.021*\"ônibus\"')] \n",
      "\n",
      "Coherence: 0.5655353754398365\n"
     ]
    }
   ],
   "source": [
    "num_topics = range(5, 14)\n",
    "passes = 10\n",
    "\n",
    "lda_models = {}\n",
    "\n",
    "for n in num_topics:\n",
    "    print('Number of topics = ', n)\n",
    "    \n",
    "    lda = LdaMulticore(corpus = doc_term_matrix,\n",
    "                       id2word = dictionary,\n",
    "                       num_topics = n,\n",
    "                       workers = 3,\n",
    "                       passes = passes)\n",
    "    \n",
    "    lda_models[str(n)] = lda\n",
    "\n",
    "    print(lda.print_topics(), '\\n')\n",
    "    print(\"Coherence:\", cm.get_coherence())\n",
    "    \n",
    "    cm = CoherenceModel(model = lda, \n",
    "                        texts = preprocessed_corpus,\n",
    "                        dictionary = dictionary,\n",
    "                        coherence = 'c_v')"
   ]
  },
  {
   "cell_type": "markdown",
   "metadata": {},
   "source": [
    "Analisando o Coherence score, o melhor modelo seria aquele treinado com `num_topics = 12`. Entretanto, analisando a interpretabilidade dos tópicos identificados, esse modelo deixa a desejar, uma vez que há uma sobreposição de temas em diferentes tópicos. Assim, é preferível selecionar um modelo com menor número de tópicos, que vai oferecer resultados mais interpretáveis"
   ]
  },
  {
   "cell_type": "code",
   "execution_count": 50,
   "metadata": {},
   "outputs": [],
   "source": [
    "lda_model = lda_models[\"5\"]"
   ]
  },
  {
   "cell_type": "code",
   "execution_count": null,
   "metadata": {},
   "outputs": [],
   "source": []
  }
 ],
 "metadata": {
  "kernelspec": {
   "display_name": "Python 3",
   "language": "python",
   "name": "python3"
  },
  "language_info": {
   "codemirror_mode": {
    "name": "ipython",
    "version": 3
   },
   "file_extension": ".py",
   "mimetype": "text/x-python",
   "name": "python",
   "nbconvert_exporter": "python",
   "pygments_lexer": "ipython3",
   "version": "3.7.3"
  }
 },
 "nbformat": 4,
 "nbformat_minor": 2
}
