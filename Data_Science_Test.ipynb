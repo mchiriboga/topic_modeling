{
 "cells": [
  {
   "cell_type": "code",
   "execution_count": 1,
   "metadata": {},
   "outputs": [],
   "source": [
    "# Importa as bibliotecas necessárias\n",
    "import gensim\n",
    "import gensim.corpora as corpora\n",
    "import pandas as pd\n",
    "import re\n",
    "import spacy\n",
    "\n",
    "from gensim.models import LdaModel\n",
    "from langdetect import detect, DetectorFactory\n",
    "DetectorFactory.seed = 0\n",
    "from tqdm import tqdm\n",
    "tqdm.pandas()"
   ]
  },
  {
   "cell_type": "code",
   "execution_count": 14,
   "metadata": {},
   "outputs": [],
   "source": [
    "# Carrega o dataset referente às reviews do Airbnb Rio de Janeiro\n",
    "reviews = pd.read_csv(\"data/reviews.csv\")"
   ]
  },
  {
   "cell_type": "code",
   "execution_count": 15,
   "metadata": {},
   "outputs": [
    {
     "data": {
      "text/html": [
       "<div>\n",
       "<style scoped>\n",
       "    .dataframe tbody tr th:only-of-type {\n",
       "        vertical-align: middle;\n",
       "    }\n",
       "\n",
       "    .dataframe tbody tr th {\n",
       "        vertical-align: top;\n",
       "    }\n",
       "\n",
       "    .dataframe thead th {\n",
       "        text-align: right;\n",
       "    }\n",
       "</style>\n",
       "<table border=\"1\" class=\"dataframe\">\n",
       "  <thead>\n",
       "    <tr style=\"text-align: right;\">\n",
       "      <th></th>\n",
       "      <th>listing_id</th>\n",
       "      <th>id</th>\n",
       "      <th>date</th>\n",
       "      <th>reviewer_id</th>\n",
       "      <th>reviewer_name</th>\n",
       "      <th>comments</th>\n",
       "    </tr>\n",
       "  </thead>\n",
       "  <tbody>\n",
       "    <tr>\n",
       "      <th>0</th>\n",
       "      <td>17878</td>\n",
       "      <td>64852</td>\n",
       "      <td>2010-07-15</td>\n",
       "      <td>135370</td>\n",
       "      <td>Tia</td>\n",
       "      <td>This apartment is in a perfect location -- two...</td>\n",
       "    </tr>\n",
       "    <tr>\n",
       "      <th>1</th>\n",
       "      <td>17878</td>\n",
       "      <td>76744</td>\n",
       "      <td>2010-08-11</td>\n",
       "      <td>10206</td>\n",
       "      <td>Mimi</td>\n",
       "      <td>we had a really great experience staying in Ma...</td>\n",
       "    </tr>\n",
       "    <tr>\n",
       "      <th>2</th>\n",
       "      <td>17878</td>\n",
       "      <td>91074</td>\n",
       "      <td>2010-09-06</td>\n",
       "      <td>80253</td>\n",
       "      <td>Jan</td>\n",
       "      <td>Staying in Max appartment is like living in a ...</td>\n",
       "    </tr>\n",
       "    <tr>\n",
       "      <th>3</th>\n",
       "      <td>17878</td>\n",
       "      <td>137528</td>\n",
       "      <td>2010-11-12</td>\n",
       "      <td>230449</td>\n",
       "      <td>Orene</td>\n",
       "      <td>In general very good and reasonable price.\\r\\n...</td>\n",
       "    </tr>\n",
       "    <tr>\n",
       "      <th>4</th>\n",
       "      <td>17878</td>\n",
       "      <td>147594</td>\n",
       "      <td>2010-12-01</td>\n",
       "      <td>219338</td>\n",
       "      <td>David</td>\n",
       "      <td>The apt was nice and in a great location only ...</td>\n",
       "    </tr>\n",
       "  </tbody>\n",
       "</table>\n",
       "</div>"
      ],
      "text/plain": [
       "   listing_id      id        date  reviewer_id reviewer_name  \\\n",
       "0       17878   64852  2010-07-15       135370           Tia   \n",
       "1       17878   76744  2010-08-11        10206          Mimi   \n",
       "2       17878   91074  2010-09-06        80253           Jan   \n",
       "3       17878  137528  2010-11-12       230449         Orene   \n",
       "4       17878  147594  2010-12-01       219338         David   \n",
       "\n",
       "                                            comments  \n",
       "0  This apartment is in a perfect location -- two...  \n",
       "1  we had a really great experience staying in Ma...  \n",
       "2  Staying in Max appartment is like living in a ...  \n",
       "3  In general very good and reasonable price.\\r\\n...  \n",
       "4  The apt was nice and in a great location only ...  "
      ]
     },
     "execution_count": 15,
     "metadata": {},
     "output_type": "execute_result"
    }
   ],
   "source": [
    "# Apresenta as primeiras 5 reviews\n",
    "reviews.head(5)"
   ]
  },
  {
   "cell_type": "code",
   "execution_count": 4,
   "metadata": {},
   "outputs": [
    {
     "name": "stdout",
     "output_type": "stream",
     "text": [
      "<class 'pandas.core.frame.DataFrame'>\n",
      "RangeIndex: 292516 entries, 0 to 292515\n",
      "Data columns (total 7 columns):\n",
      "listing_id       292516 non-null int64\n",
      "id               292516 non-null int64\n",
      "date             292516 non-null object\n",
      "reviewer_id      292516 non-null int64\n",
      "reviewer_name    292516 non-null object\n",
      "comments         292446 non-null object\n",
      "language         292076 non-null object\n",
      "dtypes: int64(3), object(4)\n",
      "memory usage: 15.6+ MB\n"
     ]
    }
   ],
   "source": [
    "reviews.info()"
   ]
  },
  {
   "cell_type": "code",
   "execution_count": 5,
   "metadata": {},
   "outputs": [],
   "source": [
    "# Converte coluna comments para string\n",
    "reviews[\"comments\"] = reviews[\"comments\"].astype(str)"
   ]
  },
  {
   "cell_type": "code",
   "execution_count": null,
   "metadata": {},
   "outputs": [],
   "source": [
    "# Adiciona coluna com idioma da review\n",
    "def try_detect_language(text):\n",
    "    \"\"\"\n",
    "    Dado uma string text, tenta obter o idioma predominante.\n",
    "    \n",
    "    Argumentos:\n",
    "    text -- (str) o texto para o qual se deseja detectar o idioma\n",
    "    Retorna: (str) o código do idioma (e.g. 'en' para inglês). \n",
    "             Retorna uma string vazia caso não seja possível detectar o idioma\n",
    "    \"\"\"\n",
    "    try:\n",
    "        return detect(text)\n",
    "    except:\n",
    "        return \"\"\n",
    "\n",
    "reviews[\"language\"] = reviews[\"comments\"].apply(try_detect_language)"
   ]
  },
  {
   "cell_type": "code",
   "execution_count": null,
   "metadata": {
    "scrolled": true
   },
   "outputs": [],
   "source": [
    "# Verifica total de reviews para cada idioma identificado\n",
    "reviews.language.value_counts().head()"
   ]
  },
  {
   "cell_type": "markdown",
   "metadata": {},
   "source": [
    "## Preprocessamento dos Dados"
   ]
  },
  {
   "cell_type": "code",
   "execution_count": 6,
   "metadata": {},
   "outputs": [],
   "source": [
    "nlp_pt = spacy.load(\"pt\")\n",
    "\n",
    "def preprocess(text, \n",
    "               min_token_len = 2, \n",
    "               irrelevant_pos = ['ADV','PRON','CCONJ','PUNCT','PART','DET','ADP','SPACE'],\n",
    "               nlp = nlp_pt): \n",
    "    \"\"\"\n",
    "    Dado text, min_token_len, e irrelevant_pos, faz o preprocessamento do texto\n",
    "    \n",
    "    Argumentos:\n",
    "    text -- (str) texto a ser pré-processado\n",
    "    min_token_len -- (int) o menor comprimento de token a ser considerado\n",
    "    irrelevant_pos -- (list) lista as classes gramaticais a serem ignoradas\n",
    "    \n",
    "    Retorna: (str) texto pré processado\n",
    "    \"\"\"\n",
    "    \n",
    "    # Converte todo os texto para apenas caractéres minúsculos\n",
    "    text = text.lower()\n",
    "    \n",
    "    # Remove termos utilizados pelo airbnb para ocultar informações\n",
    "    text = re.sub(r'\\((.*hidden by airbnb)\\)', \"\", text)\n",
    "    \n",
    "    # Processa o texto usando spacy\n",
    "    doc = nlp(text)\n",
    "    \n",
    "    preprocessed = []\n",
    "    \n",
    "    # Remove stop words, pontuação, tokens menores que min_token_len e tokens cuja \n",
    "    # classe gramatical identificada é irrelavante para análise\n",
    "    for token in doc:\n",
    "        if not token.is_stop and not token.is_punct and len(token) >= min_token_len and token.pos_ not in irrelevant_pos:\n",
    "            # Armazena o lemma do token na variável de saída\n",
    "            preprocessed.append(token.lemma_)\n",
    "            \n",
    "    return \" \".join(preprocessed)\n",
    "\n",
    "def preprocess_pt(text):\n",
    "    return preprocess(text, nlp = nlp_pt)"
   ]
  },
  {
   "cell_type": "code",
   "execution_count": 7,
   "metadata": {},
   "outputs": [],
   "source": [
    "reviews_pt = reviews[reviews.language == \"pt\"]"
   ]
  },
  {
   "cell_type": "code",
   "execution_count": 8,
   "metadata": {
    "scrolled": true
   },
   "outputs": [
    {
     "name": "stderr",
     "output_type": "stream",
     "text": [
      "100%|██████████| 138315/138315 [1:07:43<00:00, 34.04it/s]    \n",
      "/Users/marcelle/anaconda3/lib/python3.7/site-packages/ipykernel_launcher.py:1: SettingWithCopyWarning: \n",
      "A value is trying to be set on a copy of a slice from a DataFrame.\n",
      "Try using .loc[row_indexer,col_indexer] = value instead\n",
      "\n",
      "See the caveats in the documentation: http://pandas.pydata.org/pandas-docs/stable/indexing.html#indexing-view-versus-copy\n",
      "  \"\"\"Entry point for launching an IPython kernel.\n"
     ]
    }
   ],
   "source": [
    "reviews_pt[\"clean_comments\"] = reviews_pt.comments.progress_apply(preprocess_pt)"
   ]
  },
  {
   "cell_type": "code",
   "execution_count": 9,
   "metadata": {},
   "outputs": [],
   "source": [
    "reviews_pt.to_csv('data/reviews_pt_preprocessed.csv', index = False)"
   ]
  },
  {
   "cell_type": "code",
   "execution_count": 10,
   "metadata": {},
   "outputs": [],
   "source": [
    "preprocessed_corpus = [doc.split() for doc in reviews_pt.clean_comments.tolist()]\n",
    "# Cria um vocabulário para o modelo LDA e converte\n",
    "# nosso corpus em uma matriz documento-termo para LDA\n",
    "dictionary = corpora.Dictionary(preprocessed_corpus)\n",
    "\n",
    "# Opcional: Remove palavras que aparecem em menos de no_below reviews e em mais do que no_above % das reviews\n",
    "# dictionary.filter_extremes(no_below = 15, no_above = 0.1, keep_n = 10000)\n",
    "\n",
    "doc_term_matrix = [dictionary.doc2bow(doc) for doc in preprocessed_corpus]"
   ]
  },
  {
   "cell_type": "code",
   "execution_count": 11,
   "metadata": {},
   "outputs": [
    {
     "name": "stdout",
     "output_type": "stream",
     "text": [
      "Dictionary(32413 unique tokens: ['apt', 'conhecer', 'excelente', 'hotel', 'limpar']...)\n"
     ]
    }
   ],
   "source": [
    "print(dictionary)"
   ]
  },
  {
   "cell_type": "code",
   "execution_count": 12,
   "metadata": {
    "scrolled": false
   },
   "outputs": [
    {
     "name": "stdout",
     "output_type": "stream",
     "text": [
      "Number of topics =  5\n",
      "Number of passes =  1 \n",
      "\n",
      "[(0, '0.030*\"casar\" + 0.021*\"voltar\" + 0.019*\"super\" + 0.018*\"ficar\" + 0.016*\"rir\" + 0.014*\"maravilhoso\" + 0.014*\"sentir\" + 0.013*\"anfitrião\" + 0.012*\"recomendar\" + 0.011*\"deixar\"'), (1, '0.055*\"apartamento\" + 0.054*\"localização\" + 0.045*\"excelente\" + 0.039*\"super\" + 0.039*\"recomendar\" + 0.037*\"ótima\" + 0.036*\"limpar\" + 0.035*\"anfitrião\" + 0.031*\"atencioso\" + 0.024*\"localizar\"'), (2, '0.025*\"cama\" + 0.019*\"apartamento\" + 0.016*\"cozinhar\" + 0.012*\"banheiro\" + 0.012*\"problema\" + 0.012*\"ar\" + 0.012*\"roupar\" + 0.011*\"ficar\" + 0.010*\"condicionar\" + 0.010*\"ter\"'), (3, '0.051*\"praia\" + 0.032*\"apartamento\" + 0.030*\"restaurante\" + 0.025*\"metrô\" + 0.020*\"ficar\" + 0.019*\"localização\" + 0.016*\"mercar\" + 0.016*\"bar\" + 0.015*\"localizar\" + 0.015*\"supermercado\"'), (4, '0.050*\"valer\" + 0.047*\"visto\" + 0.042*\"peno\" + 0.023*\"lindo\" + 0.016*\"otimo\" + 0.013*\"mar\" + 0.011*\"otima\" + 0.010*\"top\" + 0.010*\"lapa\" + 0.009*\"varanda\"')] \n",
      "\n",
      "Number of topics =  5\n",
      "Number of passes =  2 \n",
      "\n",
      "[(0, '0.023*\"cama\" + 0.021*\"apartamento\" + 0.015*\"cozinhar\" + 0.014*\"ficar\" + 0.011*\"banheiro\" + 0.011*\"ar\" + 0.011*\"roupar\" + 0.010*\"problema\" + 0.010*\"haver\" + 0.009*\"condicionar\"'), (1, '0.060*\"localização\" + 0.051*\"excelente\" + 0.044*\"apartamento\" + 0.039*\"ótima\" + 0.034*\"anfitrião\" + 0.034*\"recomendar\" + 0.023*\"atencioso\" + 0.022*\"limpar\" + 0.021*\"ótimo\" + 0.019*\"espaçar\"'), (2, '0.050*\"apartamento\" + 0.048*\"super\" + 0.030*\"limpar\" + 0.029*\"localizar\" + 0.028*\"praia\" + 0.025*\"recomendar\" + 0.025*\"localização\" + 0.024*\"atencioso\" + 0.019*\"voltar\" + 0.018*\"anfitrião\"'), (3, '0.048*\"ana\" + 0.031*\"otimo\" + 0.027*\"otima\" + 0.017*\"localizacao\" + 0.017*\"marco\" + 0.014*\"host\" + 0.014*\"alexandre\" + 0.014*\"eh\" + 0.012*\"the\" + 0.011*\"localizaçao\"'), (4, '0.037*\"casar\" + 0.022*\"rir\" + 0.022*\"ficar\" + 0.017*\"sentir\" + 0.014*\"voltar\" + 0.013*\"maravilhoso\" + 0.011*\"melhor\" + 0.010*\"deixar\" + 0.010*\"dica\" + 0.010*\"pessoa\"')] \n",
      "\n",
      "Number of topics =  5\n",
      "Number of passes =  3 \n",
      "\n",
      "[(0, '0.056*\"apartamento\" + 0.053*\"localização\" + 0.044*\"excelente\" + 0.042*\"super\" + 0.039*\"recomendar\" + 0.037*\"ótima\" + 0.037*\"limpar\" + 0.035*\"anfitrião\" + 0.032*\"atencioso\" + 0.025*\"localizar\"'), (1, '0.023*\"cama\" + 0.021*\"apartamento\" + 0.016*\"cozinhar\" + 0.012*\"problema\" + 0.012*\"banheiro\" + 0.011*\"ar\" + 0.011*\"ficar\" + 0.011*\"roupar\" + 0.009*\"condicionar\" + 0.009*\"haver\"'), (2, '0.051*\"praia\" + 0.031*\"apartamento\" + 0.028*\"restaurante\" + 0.023*\"metrô\" + 0.019*\"ficar\" + 0.019*\"localização\" + 0.016*\"mercar\" + 0.016*\"bar\" + 0.015*\"localizar\" + 0.014*\"supermercado\"'), (3, '0.045*\"expectativa\" + 0.029*\"dono\" + 0.028*\"superar\" + 0.023*\"ana\" + 0.016*\"maria\" + 0.015*\"querido\" + 0.013*\"super\" + 0.010*\"gente\" + 0.008*\"localizacao\" + 0.008*\"otimo\"'), (4, '0.035*\"casar\" + 0.022*\"ficar\" + 0.021*\"voltar\" + 0.018*\"rir\" + 0.016*\"sentir\" + 0.015*\"maravilhoso\" + 0.013*\"melhor\" + 0.012*\"anfitrião\" + 0.012*\"incrível\" + 0.012*\"deixar\"')] \n",
      "\n",
      "Number of topics =  5\n",
      "Number of passes =  4 \n",
      "\n",
      "[(0, '0.069*\"valer\" + 0.057*\"peno\" + 0.022*\"otima\" + 0.022*\"otimo\" + 0.016*\"justar\" + 0.014*\"top\" + 0.012*\"localizacao\" + 0.012*\"preço\" + 0.012*\"cômodos\" + 0.011*\"nao\"'), (1, '0.057*\"apartamento\" + 0.055*\"localização\" + 0.045*\"excelente\" + 0.038*\"recomendar\" + 0.038*\"super\" + 0.038*\"ótima\" + 0.036*\"limpar\" + 0.035*\"anfitrião\" + 0.031*\"atencioso\" + 0.025*\"localizar\"'), (2, '0.024*\"cama\" + 0.018*\"apartamento\" + 0.016*\"cozinhar\" + 0.012*\"ficar\" + 0.012*\"problema\" + 0.012*\"banheiro\" + 0.011*\"ar\" + 0.011*\"roupar\" + 0.010*\"ter\" + 0.010*\"condicionar\"'), (3, '0.052*\"praia\" + 0.032*\"apartamento\" + 0.029*\"restaurante\" + 0.024*\"metrô\" + 0.020*\"localização\" + 0.019*\"ficar\" + 0.016*\"mercar\" + 0.016*\"bar\" + 0.015*\"localizar\" + 0.014*\"supermercado\"'), (4, '0.030*\"casar\" + 0.023*\"super\" + 0.022*\"voltar\" + 0.018*\"ficar\" + 0.017*\"maravilhoso\" + 0.016*\"rir\" + 0.014*\"sentir\" + 0.014*\"anfitrião\" + 0.013*\"recomendar\" + 0.013*\"incrível\"')] \n",
      "\n",
      "Number of topics =  5\n",
      "Number of passes =  5 \n",
      "\n",
      "[(0, '0.023*\"cama\" + 0.019*\"apartamento\" + 0.015*\"cozinhar\" + 0.013*\"problema\" + 0.012*\"ficar\" + 0.012*\"banheiro\" + 0.011*\"ar\" + 0.011*\"roupar\" + 0.009*\"condicionar\" + 0.009*\"ter\"'), (1, '0.064*\"custar\" + 0.047*\"benefício\" + 0.024*\"otima\" + 0.023*\"otimo\" + 0.017*\"beneficiar\" + 0.013*\"localizacao\" + 0.012*\"cômodos\" + 0.011*\"parque\" + 0.011*\"eh\" + 0.010*\"nao\"'), (2, '0.033*\"casar\" + 0.025*\"voltar\" + 0.024*\"super\" + 0.019*\"ficar\" + 0.017*\"maravilhoso\" + 0.016*\"rir\" + 0.015*\"sentir\" + 0.015*\"hospitalidade\" + 0.014*\"anfitrião\" + 0.013*\"melhor\"'), (3, '0.050*\"praia\" + 0.028*\"restaurante\" + 0.028*\"apartamento\" + 0.023*\"metrô\" + 0.020*\"ficar\" + 0.015*\"mercar\" + 0.015*\"bar\" + 0.015*\"localização\" + 0.014*\"supermercado\" + 0.014*\"acesso\"'), (4, '0.058*\"apartamento\" + 0.054*\"localização\" + 0.044*\"excelente\" + 0.039*\"super\" + 0.039*\"recomendar\" + 0.038*\"ótima\" + 0.038*\"limpar\" + 0.034*\"anfitrião\" + 0.031*\"atencioso\" + 0.025*\"localizar\"')] \n",
      "\n",
      "Number of topics =  6\n",
      "Number of passes =  1 \n",
      "\n",
      "[(0, '0.043*\"praia\" + 0.029*\"restaurante\" + 0.025*\"apartamento\" + 0.024*\"metrô\" + 0.021*\"ficar\" + 0.016*\"mercar\" + 0.016*\"bar\" + 0.015*\"supermercado\" + 0.014*\"farmácia\" + 0.011*\"localização\"'), (1, '0.036*\"apartamento\" + 0.028*\"visto\" + 0.028*\"localização\" + 0.025*\"excelente\" + 0.015*\"maravilhoso\" + 0.015*\"confortável\" + 0.015*\"limpeza\" + 0.015*\"cama\" + 0.014*\"recomendar\" + 0.013*\"voltar\"'), (2, '0.053*\"apartamento\" + 0.053*\"localização\" + 0.043*\"excelente\" + 0.039*\"ótima\" + 0.039*\"super\" + 0.038*\"recomendar\" + 0.036*\"limpar\" + 0.036*\"anfitrião\" + 0.031*\"atencioso\" + 0.024*\"localizar\"'), (3, '0.030*\"casar\" + 0.024*\"super\" + 0.021*\"voltar\" + 0.017*\"ficar\" + 0.015*\"sentir\" + 0.014*\"anfitrião\" + 0.013*\"rir\" + 0.013*\"recomendar\" + 0.013*\"atencioso\" + 0.013*\"maravilhoso\"'), (4, '0.020*\"cama\" + 0.019*\"problema\" + 0.019*\"ar\" + 0.016*\"condicionar\" + 0.015*\"banheiro\" + 0.013*\"apartamento\" + 0.013*\"cozinhar\" + 0.013*\"ficar\" + 0.013*\"ter\" + 0.011*\"haver\"'), (5, '0.019*\"the\" + 0.017*\"and\" + 0.016*\"amigar\" + 0.014*\"in\" + 0.013*\"luca\" + 0.012*\"to\" + 0.012*\"lar\" + 0.011*\"clean\" + 0.009*\"joana\" + 0.009*\"cris\"')] \n",
      "\n",
      "Number of topics =  6\n",
      "Number of passes =  2 \n",
      "\n",
      "[(0, '0.062*\"praia\" + 0.035*\"restaurante\" + 0.030*\"apartamento\" + 0.029*\"metrô\" + 0.020*\"ficar\" + 0.019*\"mercar\" + 0.019*\"bar\" + 0.017*\"supermercado\" + 0.017*\"acesso\" + 0.016*\"localização\"'), (1, '0.103*\"check\" + 0.075*\"in\" + 0.042*\"out\" + 0.030*\"horário\" + 0.028*\"flexível\" + 0.012*\"the\" + 0.011*\"and\" + 0.008*\"to\" + 0.008*\"flexibilidade\" + 0.006*\"host\"'), (2, '0.024*\"cama\" + 0.021*\"apartamento\" + 0.016*\"cozinhar\" + 0.012*\"banheiro\" + 0.012*\"ficar\" + 0.011*\"ar\" + 0.011*\"roupar\" + 0.011*\"problema\" + 0.010*\"condicionar\" + 0.009*\"ter\"'), (3, '0.031*\"rir\" + 0.023*\"ficar\" + 0.016*\"dica\" + 0.015*\"melhor\" + 0.015*\"dar\" + 0.014*\"casar\" + 0.013*\"voltar\" + 0.013*\"anfitrião\" + 0.013*\"apartamento\" + 0.012*\"ajudar\"'), (4, '0.048*\"super\" + 0.036*\"casar\" + 0.032*\"maravilhoso\" + 0.029*\"voltar\" + 0.022*\"visto\" + 0.020*\"recomendar\" + 0.018*\"atencioso\" + 0.017*\"incrível\" + 0.017*\"sentir\" + 0.016*\"limpar\"'), (5, '0.058*\"apartamento\" + 0.058*\"localização\" + 0.050*\"excelente\" + 0.041*\"ótima\" + 0.039*\"recomendar\" + 0.036*\"anfitrião\" + 0.036*\"limpar\" + 0.035*\"super\" + 0.031*\"atencioso\" + 0.025*\"ótimo\"')] \n",
      "\n",
      "Number of topics =  6\n",
      "Number of passes =  3 \n",
      "\n",
      "[(0, '0.026*\"ficar\" + 0.025*\"rir\" + 0.024*\"voltar\" + 0.023*\"super\" + 0.021*\"casar\" + 0.014*\"maravilhoso\" + 0.013*\"deixar\" + 0.013*\"dica\" + 0.013*\"pessoa\" + 0.013*\"melhor\"'), (1, '0.055*\"apartamento\" + 0.047*\"localizar\" + 0.045*\"super\" + 0.035*\"limpar\" + 0.034*\"atencioso\" + 0.033*\"recomendar\" + 0.031*\"anfitrião\" + 0.018*\"responder\" + 0.017*\"voltar\" + 0.016*\"estadia\"'), (2, '0.057*\"praia\" + 0.033*\"restaurante\" + 0.032*\"apartamento\" + 0.027*\"metrô\" + 0.022*\"localização\" + 0.018*\"mercar\" + 0.018*\"bar\" + 0.017*\"ficar\" + 0.016*\"supermercado\" + 0.015*\"farmácia\"'), (3, '0.027*\"cama\" + 0.016*\"cozinhar\" + 0.014*\"apartamento\" + 0.013*\"banheiro\" + 0.013*\"ficar\" + 0.013*\"ar\" + 0.013*\"roupar\" + 0.012*\"check\" + 0.011*\"problema\" + 0.011*\"condicionar\"'), (4, '0.090*\"localização\" + 0.066*\"excelente\" + 0.059*\"ótima\" + 0.048*\"apartamento\" + 0.038*\"recomendar\" + 0.033*\"anfitrião\" + 0.029*\"limpar\" + 0.027*\"super\" + 0.023*\"voltar\" + 0.022*\"ótimo\"'), (5, '0.074*\"casar\" + 0.033*\"sentir\" + 0.018*\"visto\" + 0.018*\"café\" + 0.014*\"manhã\" + 0.014*\"lindo\" + 0.014*\"incrível\" + 0.013*\"maravilhoso\" + 0.013*\"caro\" + 0.012*\"especial\"')] \n",
      "\n",
      "Number of topics =  6\n",
      "Number of passes =  4 \n",
      "\n"
     ]
    },
    {
     "name": "stdout",
     "output_type": "stream",
     "text": [
      "[(0, '0.034*\"cama\" + 0.029*\"apartamento\" + 0.022*\"cozinhar\" + 0.017*\"banheiro\" + 0.016*\"ar\" + 0.016*\"roupar\" + 0.014*\"condicionar\" + 0.013*\"custar\" + 0.012*\"chuveiro\" + 0.011*\"funcionar\"'), (1, '0.049*\"apartamento\" + 0.045*\"super\" + 0.044*\"localização\" + 0.038*\"excelente\" + 0.037*\"recomendar\" + 0.033*\"anfitrião\" + 0.032*\"limpar\" + 0.031*\"atencioso\" + 0.031*\"ótima\" + 0.025*\"voltar\"'), (2, '0.047*\"casar\" + 0.031*\"rir\" + 0.023*\"ficar\" + 0.022*\"sentir\" + 0.016*\"dica\" + 0.016*\"maravilhoso\" + 0.014*\"dar\" + 0.014*\"voltar\" + 0.014*\"melhor\" + 0.012*\"incrível\"'), (3, '0.051*\"praia\" + 0.042*\"apartamento\" + 0.029*\"restaurante\" + 0.027*\"localização\" + 0.024*\"metrô\" + 0.019*\"localizar\" + 0.018*\"excelente\" + 0.016*\"mercar\" + 0.016*\"bar\" + 0.016*\"recomendar\"'), (4, '0.093*\"check\" + 0.068*\"in\" + 0.043*\"flexível\" + 0.038*\"out\" + 0.030*\"horário\" + 0.013*\"flexibilidade\" + 0.011*\"the\" + 0.011*\"andré\" + 0.010*\"cumprir\" + 0.010*\"and\"'), (5, '0.022*\"ficar\" + 0.015*\"chegar\" + 0.012*\"dia\" + 0.012*\"ter\" + 0.012*\"café\" + 0.011*\"piscina\" + 0.010*\"sair\" + 0.009*\"manhã\" + 0.009*\"deixar\" + 0.009*\"hotel\"')] \n",
      "\n",
      "Number of topics =  6\n",
      "Number of passes =  5 \n",
      "\n",
      "[(0, '0.032*\"cama\" + 0.032*\"apartamento\" + 0.021*\"cozinhar\" + 0.016*\"banheiro\" + 0.015*\"ar\" + 0.015*\"roupar\" + 0.013*\"condicionar\" + 0.013*\"localização\" + 0.012*\"custar\" + 0.012*\"funcionar\"'), (1, '0.019*\"problema\" + 0.017*\"chegar\" + 0.016*\"ficar\" + 0.016*\"café\" + 0.016*\"dia\" + 0.015*\"ter\" + 0.013*\"sair\" + 0.012*\"haver\" + 0.012*\"manhã\" + 0.011*\"entrar\"'), (2, '0.094*\"check\" + 0.069*\"in\" + 0.056*\"flexível\" + 0.044*\"ana\" + 0.038*\"out\" + 0.037*\"horário\" + 0.015*\"rafael\" + 0.014*\"flexibilidade\" + 0.013*\"check-in\" + 0.013*\"checkout\"'), (3, '0.053*\"praia\" + 0.034*\"apartamento\" + 0.030*\"restaurante\" + 0.025*\"metrô\" + 0.022*\"localização\" + 0.018*\"ficar\" + 0.016*\"mercar\" + 0.016*\"bar\" + 0.016*\"localizar\" + 0.015*\"supermercado\"'), (4, '0.032*\"casar\" + 0.020*\"voltar\" + 0.020*\"ficar\" + 0.018*\"rir\" + 0.016*\"sentir\" + 0.015*\"maravilhoso\" + 0.013*\"super\" + 0.013*\"melhor\" + 0.012*\"anfitrião\" + 0.011*\"hospedar\"'), (5, '0.056*\"apartamento\" + 0.055*\"localização\" + 0.046*\"super\" + 0.045*\"excelente\" + 0.042*\"recomendar\" + 0.039*\"limpar\" + 0.039*\"ótima\" + 0.037*\"anfitrião\" + 0.034*\"atencioso\" + 0.025*\"localizar\"')] \n",
      "\n",
      "Number of topics =  7\n",
      "Number of passes =  1 \n",
      "\n",
      "[(0, '0.044*\"casar\" + 0.022*\"ficar\" + 0.020*\"sentir\" + 0.020*\"rir\" + 0.012*\"deixar\" + 0.012*\"voltar\" + 0.012*\"maravilhoso\" + 0.012*\"pessoa\" + 0.011*\"vontade\" + 0.011*\"anfitrião\"'), (1, '0.061*\"noto\" + 0.050*\"10\" + 0.023*\"otimo\" + 0.018*\"top\" + 0.015*\"localizacao\" + 0.015*\"marco\" + 0.014*\"lapa\" + 0.014*\"rafael\" + 0.014*\"santo\" + 0.013*\"1000\"'), (2, '0.056*\"praia\" + 0.034*\"apartamento\" + 0.034*\"restaurante\" + 0.027*\"metrô\" + 0.020*\"localização\" + 0.019*\"mercar\" + 0.019*\"bar\" + 0.018*\"ficar\" + 0.017*\"supermercado\" + 0.016*\"localizar\"'), (3, '0.055*\"apartamento\" + 0.050*\"localização\" + 0.045*\"recomendar\" + 0.042*\"limpar\" + 0.042*\"anfitrião\" + 0.040*\"excelente\" + 0.040*\"ótima\" + 0.040*\"super\" + 0.036*\"atencioso\" + 0.030*\"localizar\"'), (4, '0.034*\"cama\" + 0.028*\"apartamento\" + 0.018*\"cozinhar\" + 0.018*\"roupar\" + 0.014*\"ar\" + 0.013*\"condicionar\" + 0.011*\"toalha\" + 0.011*\"utensílio\" + 0.009*\"preço\" + 0.009*\"funcionar\"'), (5, '0.018*\"check\" + 0.016*\"apartamento\" + 0.015*\"ficar\" + 0.014*\"problema\" + 0.012*\"in\" + 0.011*\"banheiro\" + 0.011*\"haver\" + 0.010*\"piscina\" + 0.009*\"prédio\" + 0.009*\"ter\"'), (6, '0.041*\"apartamento\" + 0.040*\"super\" + 0.040*\"voltar\" + 0.039*\"localização\" + 0.034*\"excelente\" + 0.024*\"recomendar\" + 0.023*\"atencioso\" + 0.022*\"ótima\" + 0.021*\"maravilhoso\" + 0.020*\"anfitrião\"')] \n",
      "\n",
      "Number of topics =  7\n",
      "Number of passes =  2 \n",
      "\n",
      "[(0, '0.035*\"casar\" + 0.032*\"super\" + 0.029*\"voltar\" + 0.022*\"maravilhoso\" + 0.017*\"sentir\" + 0.017*\"anfitrião\" + 0.017*\"recomendar\" + 0.016*\"atencioso\" + 0.015*\"incrível\" + 0.014*\"ficar\"'), (1, '0.045*\"fácil\" + 0.041*\"localização\" + 0.039*\"acesso\" + 0.031*\"excelente\" + 0.024*\"custar\" + 0.022*\"rir\" + 0.022*\"praia\" + 0.020*\"copacabana\" + 0.019*\"ipanema\" + 0.018*\"benefício\"'), (2, '0.024*\"ficar\" + 0.015*\"chegar\" + 0.015*\"dia\" + 0.014*\"ter\" + 0.011*\"rir\" + 0.010*\"ser\" + 0.010*\"apartamento\" + 0.008*\"sair\" + 0.008*\"casar\" + 0.008*\"passar\"'), (3, '0.057*\"praia\" + 0.039*\"apartamento\" + 0.038*\"restaurante\" + 0.026*\"metrô\" + 0.021*\"mercar\" + 0.021*\"bar\" + 0.019*\"localizar\" + 0.019*\"super\" + 0.019*\"supermercado\" + 0.018*\"ficar\"'), (4, '0.059*\"apartamento\" + 0.055*\"localização\" + 0.046*\"excelente\" + 0.039*\"recomendar\" + 0.039*\"ótima\" + 0.037*\"anfitrião\" + 0.037*\"limpar\" + 0.034*\"super\" + 0.031*\"atencioso\" + 0.024*\"localizar\"'), (5, '0.036*\"cama\" + 0.024*\"cozinhar\" + 0.022*\"apartamento\" + 0.018*\"banheiro\" + 0.017*\"ar\" + 0.017*\"roupar\" + 0.014*\"condicionar\" + 0.012*\"chuveiro\" + 0.011*\"funcionar\" + 0.010*\"toalha\"'), (6, '0.113*\"check\" + 0.082*\"in\" + 0.046*\"out\" + 0.027*\"flexível\" + 0.026*\"horário\" + 0.018*\"rafael\" + 0.013*\"the\" + 0.012*\"and\" + 0.011*\"mônica\" + 0.010*\"flexibilidade\"')] \n",
      "\n",
      "Number of topics =  7\n",
      "Number of passes =  3 \n",
      "\n",
      "[(0, '0.048*\"otimo\" + 0.027*\"localizacao\" + 0.025*\"rafael\" + 0.019*\"the\" + 0.017*\"and\" + 0.012*\"to\" + 0.010*\"clean\" + 0.009*\"estilosa\" + 0.009*\"<3\" + 0.009*\"anfitriao\"'), (1, '0.019*\"apartamento\" + 0.018*\"problema\" + 0.017*\"ar\" + 0.015*\"ficar\" + 0.014*\"condicionar\" + 0.013*\"banheiro\" + 0.012*\"ter\" + 0.012*\"haver\" + 0.012*\"cama\" + 0.010*\"dia\"'), (2, '0.058*\"apartamento\" + 0.053*\"localização\" + 0.047*\"super\" + 0.041*\"limpar\" + 0.041*\"recomendar\" + 0.041*\"excelente\" + 0.040*\"ótima\" + 0.036*\"anfitrião\" + 0.035*\"atencioso\" + 0.027*\"localizar\"'), (3, '0.052*\"praia\" + 0.036*\"apartamento\" + 0.033*\"restaurante\" + 0.027*\"metrô\" + 0.024*\"localização\" + 0.018*\"mercar\" + 0.018*\"bar\" + 0.017*\"ficar\" + 0.017*\"localizar\" + 0.016*\"supermercado\"'), (4, '0.030*\"cama\" + 0.026*\"apartamento\" + 0.018*\"cozinhar\" + 0.018*\"roupar\" + 0.017*\"visto\" + 0.013*\"condomínio\" + 0.012*\"piscina\" + 0.012*\"confortável\" + 0.012*\"praia\" + 0.012*\"utensílio\"'), (5, '0.023*\"excelente\" + 0.020*\"anfitrião\" + 0.019*\"melhor\" + 0.019*\"rir\" + 0.017*\"localização\" + 0.016*\"voltar\" + 0.015*\"apartamento\" + 0.014*\"estadia\" + 0.013*\"expectativa\" + 0.012*\"recomendar\"'), (6, '0.053*\"casar\" + 0.026*\"super\" + 0.024*\"sentir\" + 0.022*\"ficar\" + 0.020*\"voltar\" + 0.019*\"maravilhoso\" + 0.018*\"deixar\" + 0.015*\"vontade\" + 0.014*\"rir\" + 0.013*\"pessoa\"')] \n",
      "\n",
      "Number of topics =  7\n",
      "Number of passes =  4 \n",
      "\n",
      "[(0, '0.060*\"apartamento\" + 0.058*\"localização\" + 0.046*\"excelente\" + 0.044*\"super\" + 0.042*\"recomendar\" + 0.041*\"ótima\" + 0.041*\"limpar\" + 0.037*\"anfitrião\" + 0.034*\"atencioso\" + 0.026*\"localizar\"'), (1, '0.073*\"praia\" + 0.042*\"apartamento\" + 0.041*\"restaurante\" + 0.034*\"metrô\" + 0.025*\"localização\" + 0.022*\"mercar\" + 0.022*\"bar\" + 0.020*\"supermercado\" + 0.019*\"ficar\" + 0.019*\"farmácia\"'), (2, '0.041*\"casar\" + 0.029*\"voltar\" + 0.027*\"super\" + 0.022*\"maravilhoso\" + 0.021*\"ficar\" + 0.020*\"sentir\" + 0.016*\"incrível\" + 0.014*\"melhor\" + 0.014*\"recomendar\" + 0.013*\"rir\"'), (3, '0.017*\"ficar\" + 0.015*\"check\" + 0.014*\"chegar\" + 0.011*\"dia\" + 0.011*\"café\" + 0.010*\"in\" + 0.009*\"horário\" + 0.009*\"sair\" + 0.008*\"ter\" + 0.008*\"rir\"'), (4, '0.033*\"cama\" + 0.025*\"apartamento\" + 0.022*\"cozinhar\" + 0.017*\"banheiro\" + 0.016*\"ar\" + 0.015*\"roupar\" + 0.013*\"condicionar\" + 0.013*\"problema\" + 0.011*\"chuveiro\" + 0.010*\"ficar\"'), (5, '0.040*\"otima\" + 0.039*\"otimo\" + 0.022*\"localizacao\" + 0.017*\"nao\" + 0.015*\"the\" + 0.014*\"and\" + 0.013*\"confortavel\" + 0.011*\"predio\" + 0.010*\"to\" + 0.009*\"fechadura\"'), (6, '0.024*\"dica\" + 0.023*\"excelente\" + 0.023*\"fácil\" + 0.023*\"anfitrião\" + 0.019*\"apartamento\" + 0.019*\"rir\" + 0.019*\"acesso\" + 0.019*\"dar\" + 0.017*\"localização\" + 0.016*\"expectativa\"')] \n",
      "\n",
      "Number of topics =  7\n",
      "Number of passes =  5 \n",
      "\n",
      "[(0, '0.057*\"visto\" + 0.039*\"dica\" + 0.034*\"dar\" + 0.027*\"valer\" + 0.024*\"maravilhoso\" + 0.023*\"lindo\" + 0.022*\"peno\" + 0.021*\"rir\" + 0.017*\"incrível\" + 0.013*\"café\"'), (1, '0.017*\"ficar\" + 0.016*\"apartamento\" + 0.015*\"rir\" + 0.013*\"dia\" + 0.013*\"ser\" + 0.012*\"anfitrião\" + 0.012*\"chegar\" + 0.010*\"ter\" + 0.010*\"melhor\" + 0.008*\"estadia\"'), (2, '0.066*\"praia\" + 0.037*\"restaurante\" + 0.035*\"apartamento\" + 0.031*\"metrô\" + 0.024*\"localização\" + 0.020*\"mercar\" + 0.020*\"bar\" + 0.020*\"ficar\" + 0.018*\"supermercado\" + 0.017*\"farmácia\"'), (3, '0.034*\"cama\" + 0.023*\"cozinhar\" + 0.022*\"apartamento\" + 0.017*\"banheiro\" + 0.016*\"ar\" + 0.016*\"roupar\" + 0.014*\"condicionar\" + 0.012*\"chuveiro\" + 0.012*\"problema\" + 0.010*\"ficar\"'), (4, '0.060*\"localização\" + 0.059*\"apartamento\" + 0.050*\"excelente\" + 0.040*\"ótima\" + 0.040*\"recomendar\" + 0.037*\"anfitrião\" + 0.036*\"super\" + 0.035*\"limpar\" + 0.032*\"atencioso\" + 0.024*\"ótimo\"'), (5, '0.021*\"the\" + 0.019*\"and\" + 0.013*\"to\" + 0.013*\"fechadura\" + 0.012*\"marcia\" + 0.012*\"clean\" + 0.011*\"infra\" + 0.010*\"joana\" + 0.009*\"in\" + 0.009*\"is\"'), (6, '0.042*\"casar\" + 0.041*\"super\" + 0.032*\"voltar\" + 0.021*\"sentir\" + 0.020*\"ficar\" + 0.019*\"recomendar\" + 0.019*\"maravilhoso\" + 0.018*\"atencioso\" + 0.014*\"pessoa\" + 0.014*\"anfitrião\"')] \n",
      "\n",
      "Number of topics =  8\n",
      "Number of passes =  1 \n",
      "\n"
     ]
    },
    {
     "name": "stdout",
     "output_type": "stream",
     "text": [
      "[(0, '0.036*\"cama\" + 0.027*\"apartamento\" + 0.024*\"cozinhar\" + 0.018*\"banheiro\" + 0.017*\"ar\" + 0.017*\"roupar\" + 0.014*\"condicionar\" + 0.012*\"chuveiro\" + 0.011*\"funcionar\" + 0.010*\"localização\"'), (1, '0.058*\"super\" + 0.054*\"apartamento\" + 0.045*\"localizar\" + 0.039*\"limpar\" + 0.031*\"atencioso\" + 0.030*\"recomendar\" + 0.026*\"voltar\" + 0.023*\"ótimo\" + 0.021*\"anfitrião\" + 0.015*\"rápido\"'), (2, '0.052*\"casar\" + 0.032*\"rir\" + 0.025*\"maravilhoso\" + 0.023*\"visto\" + 0.021*\"ficar\" + 0.021*\"sentir\" + 0.019*\"dica\" + 0.014*\"lindo\" + 0.014*\"voltar\" + 0.014*\"incrível\"'), (3, '0.022*\"casar\" + 0.021*\"deixar\" + 0.019*\"check\" + 0.018*\"voltar\" + 0.015*\"hospitalidade\" + 0.014*\"sentir\" + 0.014*\"cuidar\" + 0.013*\"receber\" + 0.013*\"atenção\" + 0.013*\"agradecer\"'), (4, '0.027*\"ficar\" + 0.020*\"problema\" + 0.019*\"ter\" + 0.018*\"dia\" + 0.014*\"chegar\" + 0.013*\"ser\" + 0.010*\"haver\" + 0.010*\"sair\" + 0.009*\"apartamento\" + 0.009*\"entrar\"'), (5, '0.081*\"localização\" + 0.060*\"excelente\" + 0.057*\"ótima\" + 0.048*\"apartamento\" + 0.041*\"anfitrião\" + 0.041*\"recomendar\" + 0.029*\"atencioso\" + 0.028*\"limpar\" + 0.026*\"super\" + 0.021*\"espaçar\"'), (6, '0.024*\"lapa\" + 0.015*\"parque\" + 0.013*\"andré\" + 0.013*\"the\" + 0.012*\"ilhar\" + 0.012*\"and\" + 0.012*\"teresa\" + 0.011*\"santo\" + 0.010*\"olímpico\" + 0.010*\"cristina\"'), (7, '0.056*\"praia\" + 0.038*\"restaurante\" + 0.032*\"metrô\" + 0.031*\"apartamento\" + 0.021*\"localização\" + 0.021*\"mercar\" + 0.021*\"bar\" + 0.019*\"supermercado\" + 0.018*\"ficar\" + 0.018*\"farmácia\"')] \n",
      "\n",
      "Number of topics =  8\n",
      "Number of passes =  2 \n",
      "\n",
      "[(0, '0.053*\"rir\" + 0.030*\"dica\" + 0.027*\"dar\" + 0.025*\"apartamento\" + 0.022*\"ficar\" + 0.016*\"cidade\" + 0.016*\"ajudar\" + 0.016*\"dúvida\" + 0.015*\"janeiro\" + 0.014*\"voltar\"'), (1, '0.095*\"localização\" + 0.078*\"excelente\" + 0.065*\"ótima\" + 0.065*\"apartamento\" + 0.041*\"recomendar\" + 0.040*\"anfitrião\" + 0.038*\"ótimo\" + 0.034*\"limpar\" + 0.029*\"atencioso\" + 0.023*\"super\"'), (2, '0.025*\"cama\" + 0.018*\"apartamento\" + 0.016*\"cozinhar\" + 0.015*\"ficar\" + 0.012*\"banheiro\" + 0.012*\"ar\" + 0.011*\"roupar\" + 0.010*\"condicionar\" + 0.009*\"haver\" + 0.009*\"dia\"'), (3, '0.037*\"valer\" + 0.030*\"peno\" + 0.026*\"noto\" + 0.021*\"atender\" + 0.021*\"necessidade\" + 0.020*\"check-in\" + 0.020*\"10\" + 0.018*\"horário\" + 0.018*\"responder\" + 0.017*\"flexível\"'), (4, '0.044*\"casar\" + 0.026*\"voltar\" + 0.021*\"sentir\" + 0.020*\"maravilhoso\" + 0.019*\"incrível\" + 0.018*\"anfitrião\" + 0.016*\"deixar\" + 0.016*\"super\" + 0.014*\"ficar\" + 0.014*\"recomendar\"'), (5, '0.049*\"problema\" + 0.048*\"visto\" + 0.022*\"resolver\" + 0.021*\"lindo\" + 0.021*\"pequeno\" + 0.021*\"apartamento\" + 0.018*\"anúncio\" + 0.014*\"funcionar\" + 0.011*\"foto\" + 0.011*\"limpeza\"'), (6, '0.079*\"super\" + 0.049*\"localizar\" + 0.043*\"limpar\" + 0.042*\"recomendar\" + 0.039*\"atencioso\" + 0.036*\"apartamento\" + 0.024*\"voltar\" + 0.023*\"anfitrião\" + 0.022*\"espaçar\" + 0.020*\"aconchegante\"'), (7, '0.059*\"praia\" + 0.038*\"apartamento\" + 0.034*\"restaurante\" + 0.028*\"metrô\" + 0.027*\"localização\" + 0.019*\"mercar\" + 0.019*\"bar\" + 0.017*\"excelente\" + 0.017*\"supermercado\" + 0.015*\"farmácia\"')] \n",
      "\n",
      "Number of topics =  8\n",
      "Number of passes =  3 \n",
      "\n",
      "[(0, '0.100*\"aptar\" + 0.098*\"visto\" + 0.032*\"maravilhoso\" + 0.028*\"lindo\" + 0.019*\"mar\" + 0.016*\"piscina\" + 0.016*\"incrível\" + 0.015*\"otima\" + 0.014*\"otimo\" + 0.014*\"apt\"'), (1, '0.029*\"cama\" + 0.024*\"apartamento\" + 0.019*\"cozinhar\" + 0.015*\"banheiro\" + 0.014*\"ar\" + 0.013*\"roupar\" + 0.012*\"condicionar\" + 0.012*\"problema\" + 0.012*\"ficar\" + 0.010*\"ter\"'), (2, '0.045*\"casar\" + 0.026*\"voltar\" + 0.024*\"ficar\" + 0.022*\"sentir\" + 0.020*\"rir\" + 0.019*\"super\" + 0.019*\"melhor\" + 0.017*\"maravilhoso\" + 0.015*\"deixar\" + 0.014*\"hospedar\"'), (3, '0.020*\"evento\" + 0.019*\"the\" + 0.019*\"andré\" + 0.017*\"and\" + 0.015*\"condominio\" + 0.015*\"parque\" + 0.015*\"olímpico\" + 0.014*\"in\" + 0.012*\"to\" + 0.011*\"marcia\"'), (4, '0.023*\"acesso\" + 0.023*\"ficar\" + 0.021*\"fácil\" + 0.020*\"rir\" + 0.015*\"tranquilo\" + 0.015*\"10\" + 0.013*\"centrar\" + 0.013*\"noto\" + 0.012*\"espaçar\" + 0.012*\"ruir\"'), (5, '0.058*\"praia\" + 0.044*\"apartamento\" + 0.037*\"restaurante\" + 0.032*\"localização\" + 0.026*\"metrô\" + 0.022*\"excelente\" + 0.020*\"mercar\" + 0.020*\"bar\" + 0.018*\"supermercado\" + 0.017*\"localizar\"'), (6, '0.062*\"localização\" + 0.061*\"apartamento\" + 0.051*\"excelente\" + 0.047*\"super\" + 0.043*\"ótima\" + 0.043*\"recomendar\" + 0.042*\"limpar\" + 0.038*\"anfitrião\" + 0.034*\"atencioso\" + 0.026*\"localizar\"'), (7, '0.035*\"ajudar\" + 0.033*\"responder\" + 0.027*\"dica\" + 0.027*\"apartamento\" + 0.026*\"dar\" + 0.025*\"dúvida\" + 0.024*\"anfitrião\" + 0.022*\"atencioso\" + 0.020*\"estadia\" + 0.017*\"precisar\"')] \n",
      "\n",
      "Number of topics =  8\n",
      "Number of passes =  4 \n",
      "\n",
      "[(0, '0.022*\"check\" + 0.020*\"problema\" + 0.018*\"custar\" + 0.016*\"ter\" + 0.015*\"apartamento\" + 0.015*\"in\" + 0.014*\"chegar\" + 0.014*\"horário\" + 0.013*\"benefício\" + 0.013*\"anfitrião\"'), (1, '0.035*\"rir\" + 0.023*\"ficar\" + 0.023*\"acesso\" + 0.022*\"dica\" + 0.022*\"fácil\" + 0.021*\"metrô\" + 0.016*\"praia\" + 0.015*\"dar\" + 0.014*\"cidade\" + 0.013*\"apartamento\"'), (2, '0.023*\"the\" + 0.021*\"and\" + 0.019*\"condominio\" + 0.016*\"fábio\" + 0.015*\"arena\" + 0.015*\"to\" + 0.013*\"clean\" + 0.012*\"lilian\" + 0.011*\"in\" + 0.011*\"joana\"'), (3, '0.073*\"super\" + 0.061*\"apartamento\" + 0.053*\"localizar\" + 0.048*\"limpar\" + 0.047*\"recomendar\" + 0.043*\"atencioso\" + 0.036*\"anfitrião\" + 0.028*\"voltar\" + 0.025*\"ótimo\" + 0.021*\"espaçar\"'), (4, '0.032*\"apartamento\" + 0.023*\"praia\" + 0.022*\"cama\" + 0.021*\"restaurante\" + 0.014*\"cozinhar\" + 0.013*\"supermercado\" + 0.013*\"ficar\" + 0.013*\"localização\" + 0.013*\"farmácia\" + 0.012*\"mercar\"'), (5, '0.055*\"casar\" + 0.025*\"voltar\" + 0.025*\"sentir\" + 0.023*\"maravilhoso\" + 0.019*\"ficar\" + 0.018*\"super\" + 0.017*\"deixar\" + 0.017*\"incrível\" + 0.015*\"visto\" + 0.015*\"vontade\"'), (6, '0.110*\"localização\" + 0.075*\"ótima\" + 0.075*\"excelente\" + 0.053*\"apartamento\" + 0.033*\"recomendar\" + 0.032*\"anfitrião\" + 0.026*\"limpar\" + 0.024*\"atencioso\" + 0.020*\"voltar\" + 0.018*\"ótimo\"'), (7, '0.062*\"praia\" + 0.033*\"copacabana\" + 0.024*\"ipanema\" + 0.023*\"barrir\" + 0.017*\"ficar\" + 0.015*\"otima\" + 0.014*\"otimo\" + 0.014*\"melhor\" + 0.013*\"mto\" + 0.013*\"frente\"')] \n",
      "\n",
      "Number of topics =  8\n",
      "Number of passes =  5 \n",
      "\n",
      "[(0, '0.050*\"apartamento\" + 0.029*\"anfitrião\" + 0.026*\"localização\" + 0.024*\"atencioso\" + 0.024*\"recomendar\" + 0.022*\"foto\" + 0.022*\"excelente\" + 0.021*\"responder\" + 0.019*\"rápido\" + 0.019*\"limpar\"'), (1, '0.061*\"casar\" + 0.028*\"sentir\" + 0.016*\"espaçar\" + 0.015*\"cuidar\" + 0.013*\"hóspede\" + 0.013*\"detalhe\" + 0.012*\"caro\" + 0.012*\"café\" + 0.012*\"anfitrião\" + 0.012*\"hospitalidade\"'), (2, '0.139*\"check\" + 0.101*\"in\" + 0.065*\"ana\" + 0.057*\"out\" + 0.020*\"flexível\" + 0.019*\"alexandre\" + 0.017*\"the\" + 0.015*\"and\" + 0.013*\"paula\" + 0.012*\"medo\"'), (3, '0.061*\"localização\" + 0.056*\"super\" + 0.055*\"apartamento\" + 0.051*\"excelente\" + 0.045*\"recomendar\" + 0.043*\"ótima\" + 0.042*\"limpar\" + 0.037*\"anfitrião\" + 0.034*\"atencioso\" + 0.028*\"voltar\"'), (4, '0.038*\"rir\" + 0.033*\"ficar\" + 0.027*\"voltar\" + 0.022*\"casar\" + 0.021*\"dica\" + 0.019*\"maravilhoso\" + 0.019*\"deixar\" + 0.018*\"vontade\" + 0.018*\"super\" + 0.016*\"dar\"'), (5, '0.040*\"custar\" + 0.030*\"melhor\" + 0.030*\"benefício\" + 0.028*\"dono\" + 0.019*\"ficar\" + 0.015*\"otimo\" + 0.013*\"10\" + 0.012*\"hotel\" + 0.012*\"airbnb\" + 0.012*\"noto\"'), (6, '0.029*\"cama\" + 0.020*\"apartamento\" + 0.019*\"cozinhar\" + 0.015*\"ficar\" + 0.015*\"banheiro\" + 0.014*\"ar\" + 0.014*\"roupar\" + 0.012*\"condicionar\" + 0.011*\"problema\" + 0.011*\"haver\"'), (7, '0.064*\"praia\" + 0.036*\"restaurante\" + 0.034*\"apartamento\" + 0.030*\"metrô\" + 0.023*\"localização\" + 0.020*\"mercar\" + 0.020*\"bar\" + 0.018*\"ficar\" + 0.018*\"supermercado\" + 0.016*\"farmácia\"')] \n",
      "\n",
      "Number of topics =  9\n",
      "Number of passes =  1 \n",
      "\n",
      "[(0, '0.078*\"custar\" + 0.063*\"noto\" + 0.059*\"10\" + 0.057*\"benefício\" + 0.055*\"preço\" + 0.024*\"centrar\" + 0.020*\"justar\" + 0.020*\"beneficiar\" + 0.019*\"aeroporto\" + 0.015*\"gabriel\"'), (1, '0.042*\"casar\" + 0.024*\"anfitrião\" + 0.024*\"sentir\" + 0.023*\"hospitalidade\" + 0.022*\"voltar\" + 0.019*\"deixar\" + 0.019*\"recomendar\" + 0.016*\"vontade\" + 0.015*\"super\" + 0.015*\"localização\"'), (2, '0.033*\"cama\" + 0.021*\"cozinhar\" + 0.018*\"apartamento\" + 0.016*\"banheiro\" + 0.015*\"ar\" + 0.015*\"roupar\" + 0.013*\"ficar\" + 0.013*\"condicionar\" + 0.013*\"problema\" + 0.011*\"chuveiro\"'), (3, '0.046*\"visto\" + 0.033*\"casar\" + 0.025*\"maravilhoso\" + 0.023*\"lindo\" + 0.016*\"ficar\" + 0.016*\"piscina\" + 0.014*\"incrível\" + 0.010*\"espaçar\" + 0.009*\"café\" + 0.009*\"otima\"'), (4, '0.064*\"apartamento\" + 0.063*\"localização\" + 0.052*\"excelente\" + 0.044*\"ótima\" + 0.044*\"recomendar\" + 0.043*\"limpar\" + 0.039*\"anfitrião\" + 0.037*\"super\" + 0.033*\"atencioso\" + 0.028*\"ótimo\"'), (5, '0.026*\"jorge\" + 0.025*\"the\" + 0.023*\"and\" + 0.019*\"caprichar\" + 0.016*\"to\" + 0.014*\"clean\" + 0.013*\"copo\" + 0.012*\"joana\" + 0.011*\"cesar\" + 0.011*\"is\"'), (6, '0.056*\"praia\" + 0.035*\"restaurante\" + 0.034*\"apartamento\" + 0.029*\"metrô\" + 0.022*\"localização\" + 0.019*\"mercar\" + 0.019*\"bar\" + 0.018*\"ficar\" + 0.017*\"supermercado\" + 0.016*\"farmácia\"'), (7, '0.073*\"super\" + 0.035*\"voltar\" + 0.028*\"apartamento\" + 0.027*\"atencioso\" + 0.025*\"localizar\" + 0.024*\"limpar\" + 0.019*\"recomendar\" + 0.019*\"check\" + 0.015*\"maravilhoso\" + 0.015*\"adorar\"'), (8, '0.029*\"rir\" + 0.028*\"apartamento\" + 0.024*\"ficar\" + 0.015*\"valer\" + 0.015*\"anfitrião\" + 0.013*\"peno\" + 0.013*\"localização\" + 0.013*\"dia\" + 0.013*\"voltar\" + 0.013*\"hospedar\"')] \n",
      "\n",
      "Number of topics =  9\n",
      "Number of passes =  2 \n",
      "\n"
     ]
    },
    {
     "name": "stdout",
     "output_type": "stream",
     "text": [
      "[(0, '0.021*\"quentar\" + 0.012*\"restar\" + 0.012*\"the\" + 0.011*\"mau\" + 0.011*\"and\" + 0.009*\"sujo\" + 0.009*\"sujar\" + 0.009*\"suite\" + 0.008*\"ok\" + 0.008*\"chão\"'), (1, '0.034*\"cama\" + 0.028*\"apartamento\" + 0.022*\"cozinhar\" + 0.017*\"banheiro\" + 0.016*\"ar\" + 0.016*\"roupar\" + 0.014*\"condicionar\" + 0.013*\"ficar\" + 0.013*\"problema\" + 0.012*\"chuveiro\"'), (2, '0.068*\"valer\" + 0.059*\"custar\" + 0.056*\"peno\" + 0.043*\"benefício\" + 0.032*\"preço\" + 0.022*\"otima\" + 0.021*\"otimo\" + 0.015*\"justar\" + 0.015*\"beneficiar\" + 0.013*\"nao\"'), (3, '0.021*\"check\" + 0.020*\"ficar\" + 0.015*\"chegar\" + 0.014*\"in\" + 0.013*\"horário\" + 0.012*\"rir\" + 0.012*\"centrar\" + 0.011*\"sair\" + 0.010*\"dia\" + 0.009*\"check-in\"'), (4, '0.044*\"rir\" + 0.026*\"ficar\" + 0.025*\"dica\" + 0.024*\"dar\" + 0.022*\"voltar\" + 0.021*\"melhor\" + 0.021*\"apartamento\" + 0.015*\"ajudar\" + 0.015*\"hospedar\" + 0.014*\"anfitrião\"'), (5, '0.060*\"apartamento\" + 0.058*\"localização\" + 0.048*\"excelente\" + 0.043*\"ótima\" + 0.043*\"recomendar\" + 0.043*\"super\" + 0.041*\"limpar\" + 0.039*\"anfitrião\" + 0.036*\"atencioso\" + 0.027*\"localizar\"'), (6, '0.083*\"casar\" + 0.041*\"super\" + 0.037*\"sentir\" + 0.025*\"deixar\" + 0.023*\"vontade\" + 0.020*\"recomendar\" + 0.019*\"anfitrião\" + 0.018*\"voltar\" + 0.018*\"pessoa\" + 0.015*\"maravilhoso\"'), (7, '0.069*\"praia\" + 0.040*\"restaurante\" + 0.039*\"apartamento\" + 0.032*\"metrô\" + 0.028*\"localização\" + 0.022*\"mercar\" + 0.022*\"bar\" + 0.019*\"supermercado\" + 0.019*\"localizar\" + 0.018*\"farmácia\"'), (8, '0.046*\"visto\" + 0.031*\"maravilhoso\" + 0.027*\"apartamento\" + 0.026*\"voltar\" + 0.025*\"incrível\" + 0.020*\"expectativa\" + 0.019*\"localização\" + 0.016*\"hospitalidade\" + 0.016*\"excelente\" + 0.015*\"lindo\"')] \n",
      "\n",
      "Number of topics =  9\n",
      "Number of passes =  3 \n",
      "\n",
      "[(0, '0.063*\"apartamento\" + 0.058*\"localização\" + 0.048*\"excelente\" + 0.045*\"super\" + 0.043*\"recomendar\" + 0.041*\"ótima\" + 0.041*\"limpar\" + 0.038*\"anfitrião\" + 0.035*\"atencioso\" + 0.026*\"localizar\"'), (1, '0.026*\"the\" + 0.024*\"and\" + 0.017*\"to\" + 0.015*\"salão\" + 0.015*\"clean\" + 0.012*\"doce\" + 0.012*\"monica\" + 0.012*\"is\" + 0.011*\"marta\" + 0.011*\"in\"'), (2, '0.041*\"casar\" + 0.030*\"super\" + 0.029*\"voltar\" + 0.021*\"sentir\" + 0.019*\"ficar\" + 0.018*\"anfitrião\" + 0.017*\"recomendar\" + 0.016*\"atencioso\" + 0.016*\"maravilhoso\" + 0.015*\"deixar\"'), (3, '0.073*\"visto\" + 0.031*\"maravilhoso\" + 0.030*\"lindo\" + 0.023*\"café\" + 0.022*\"piscina\" + 0.018*\"incrível\" + 0.018*\"condomínio\" + 0.017*\"manhã\" + 0.017*\"barrir\" + 0.017*\"casar\"'), (4, '0.081*\"praia\" + 0.047*\"restaurante\" + 0.039*\"apartamento\" + 0.039*\"metrô\" + 0.029*\"localização\" + 0.026*\"mercar\" + 0.026*\"bar\" + 0.023*\"supermercado\" + 0.021*\"farmácia\" + 0.020*\"copacabana\"'), (5, '0.029*\"cama\" + 0.026*\"apartamento\" + 0.019*\"cozinhar\" + 0.014*\"banheiro\" + 0.013*\"ar\" + 0.013*\"roupar\" + 0.013*\"check\" + 0.012*\"problema\" + 0.011*\"condicionar\" + 0.011*\"ficar\"'), (6, '0.029*\"dica\" + 0.028*\"dar\" + 0.019*\"chegar\" + 0.016*\"apartamento\" + 0.012*\"ajudar\" + 0.012*\"anfitrião\" + 0.012*\"ficar\" + 0.011*\"fácil\" + 0.011*\"cidade\" + 0.011*\"rir\"'), (7, '0.067*\"valer\" + 0.056*\"peno\" + 0.047*\"noto\" + 0.038*\"10\" + 0.032*\"preço\" + 0.022*\"otima\" + 0.021*\"otimo\" + 0.021*\"mto\" + 0.020*\"apt\" + 0.019*\"rodrigar\"'), (8, '0.067*\"rir\" + 0.036*\"ficar\" + 0.028*\"espaçar\" + 0.024*\"janeiro\" + 0.020*\"centrar\" + 0.019*\"dia\" + 0.018*\"passar\" + 0.015*\"lapa\" + 0.015*\"ap\" + 0.013*\"melhor\"')] \n",
      "\n",
      "Number of topics =  9\n",
      "Number of passes =  4 \n",
      "\n",
      "[(0, '0.027*\"voltar\" + 0.024*\"melhor\" + 0.022*\"ficar\" + 0.022*\"apartamento\" + 0.021*\"rir\" + 0.015*\"expectativa\" + 0.014*\"hospedar\" + 0.014*\"estadia\" + 0.013*\"atenção\" + 0.013*\"experiência\"'), (1, '0.056*\"praia\" + 0.041*\"apartamento\" + 0.035*\"restaurante\" + 0.029*\"metrô\" + 0.026*\"localização\" + 0.019*\"mercar\" + 0.019*\"bar\" + 0.018*\"localizar\" + 0.017*\"supermercado\" + 0.017*\"excelente\"'), (2, '0.064*\"casar\" + 0.034*\"super\" + 0.029*\"sentir\" + 0.020*\"deixar\" + 0.020*\"dica\" + 0.018*\"pessoa\" + 0.018*\"vontade\" + 0.017*\"voltar\" + 0.017*\"maravilhoso\" + 0.017*\"anfitrião\"'), (3, '0.040*\"visto\" + 0.021*\"rir\" + 0.020*\"ficar\" + 0.015*\"piscina\" + 0.015*\"apartamento\" + 0.014*\"lindo\" + 0.014*\"praia\" + 0.014*\"condomínio\" + 0.011*\"barrir\" + 0.011*\"centrar\"'), (4, '0.061*\"apartamento\" + 0.058*\"localização\" + 0.048*\"excelente\" + 0.046*\"super\" + 0.044*\"recomendar\" + 0.042*\"limpar\" + 0.042*\"ótima\" + 0.039*\"anfitrião\" + 0.036*\"atencioso\" + 0.028*\"localizar\"'), (5, '0.033*\"the\" + 0.030*\"and\" + 0.021*\"to\" + 0.020*\"lar\" + 0.018*\"clean\" + 0.015*\"is\" + 0.014*\"hosts\" + 0.011*\"in\" + 0.011*\"very\" + 0.011*\"contratempo\"'), (6, '0.027*\"apt\" + 0.027*\"otima\" + 0.026*\"otimo\" + 0.019*\"evento\" + 0.016*\"nao\" + 0.015*\"localizacao\" + 0.014*\"legal\" + 0.013*\"fechar\" + 0.013*\"parque\" + 0.012*\"min\"'), (7, '0.047*\"check\" + 0.046*\"valer\" + 0.042*\"fácil\" + 0.040*\"custar\" + 0.038*\"peno\" + 0.033*\"noto\" + 0.033*\"in\" + 0.030*\"acesso\" + 0.029*\"benefício\" + 0.028*\"flexível\"'), (8, '0.030*\"cama\" + 0.023*\"apartamento\" + 0.020*\"cozinhar\" + 0.015*\"banheiro\" + 0.015*\"problema\" + 0.014*\"ar\" + 0.014*\"roupar\" + 0.012*\"condicionar\" + 0.012*\"ficar\" + 0.010*\"ter\"')] \n",
      "\n",
      "Number of topics =  9\n",
      "Number of passes =  5 \n",
      "\n",
      "[(0, '0.051*\"cama\" + 0.033*\"cozinhar\" + 0.024*\"ar\" + 0.023*\"roupar\" + 0.021*\"banheiro\" + 0.020*\"condicionar\" + 0.020*\"apartamento\" + 0.016*\"chuveiro\" + 0.015*\"utensílio\" + 0.015*\"confortável\"'), (1, '0.037*\"casar\" + 0.025*\"voltar\" + 0.020*\"super\" + 0.020*\"ficar\" + 0.018*\"rir\" + 0.017*\"sentir\" + 0.017*\"maravilhoso\" + 0.014*\"anfitrião\" + 0.013*\"deixar\" + 0.013*\"melhor\"'), (2, '0.021*\"ficar\" + 0.019*\"problema\" + 0.017*\"apartamento\" + 0.015*\"check\" + 0.015*\"dia\" + 0.015*\"ter\" + 0.013*\"haver\" + 0.012*\"chegar\" + 0.011*\"ser\" + 0.010*\"in\"'), (3, '0.062*\"apartamento\" + 0.059*\"super\" + 0.051*\"limpar\" + 0.040*\"atencioso\" + 0.040*\"recomendar\" + 0.037*\"anfitrião\" + 0.036*\"localizar\" + 0.036*\"localização\" + 0.027*\"excelente\" + 0.027*\"ótima\"'), (4, '0.043*\"fácil\" + 0.040*\"visto\" + 0.037*\"acesso\" + 0.026*\"valer\" + 0.022*\"peno\" + 0.021*\"rir\" + 0.020*\"condomínio\" + 0.019*\"praia\" + 0.015*\"centrar\" + 0.015*\"espaçar\"'), (5, '0.075*\"praia\" + 0.049*\"restaurante\" + 0.042*\"apartamento\" + 0.037*\"metrô\" + 0.029*\"localização\" + 0.027*\"mercar\" + 0.027*\"bar\" + 0.024*\"supermercado\" + 0.022*\"farmácia\" + 0.021*\"copacabana\"'), (6, '0.057*\"flexível\" + 0.052*\"check-in\" + 0.038*\"horário\" + 0.031*\"apt\" + 0.030*\"otima\" + 0.029*\"otimo\" + 0.029*\"mto\" + 0.026*\"check-out\" + 0.018*\"nao\" + 0.018*\"ricardo\"'), (7, '0.107*\"localização\" + 0.090*\"excelente\" + 0.063*\"ótima\" + 0.046*\"apartamento\" + 0.039*\"recomendar\" + 0.034*\"ótimo\" + 0.032*\"anfitrião\" + 0.022*\"limpeza\" + 0.020*\"espaçar\" + 0.019*\"hospitalidade\"'), (8, '0.032*\"gato\" + 0.025*\"the\" + 0.023*\"and\" + 0.017*\"cadeira\" + 0.016*\"to\" + 0.014*\"clean\" + 0.013*\"agradavel\" + 0.013*\"lilian\" + 0.011*\"is\" + 0.010*\"hosts\"')] \n",
      "\n",
      "Number of topics =  10\n",
      "Number of passes =  1 \n",
      "\n",
      "[(0, '0.061*\"maravilhoso\" + 0.050*\"incrível\" + 0.044*\"visto\" + 0.044*\"voltar\" + 0.040*\"casar\" + 0.027*\"super\" + 0.021*\"lindo\" + 0.018*\"ficar\" + 0.014*\"apartamento\" + 0.014*\"adorar\"'), (1, '0.057*\"praia\" + 0.037*\"restaurante\" + 0.037*\"apartamento\" + 0.030*\"metrô\" + 0.024*\"localização\" + 0.021*\"mercar\" + 0.020*\"bar\" + 0.018*\"supermercado\" + 0.017*\"ficar\" + 0.017*\"farmácia\"'), (2, '0.039*\"custar\" + 0.029*\"benefício\" + 0.023*\"ficar\" + 0.018*\"centrar\" + 0.014*\"horar\" + 0.013*\"rir\" + 0.013*\"lapa\" + 0.012*\"minuto\" + 0.010*\"beneficiar\" + 0.010*\"24\"'), (3, '0.033*\"problema\" + 0.021*\"ter\" + 0.018*\"haver\" + 0.017*\"ficar\" + 0.016*\"preço\" + 0.014*\"dia\" + 0.014*\"entrar\" + 0.013*\"ser\" + 0.013*\"resolver\" + 0.012*\"limpeza\"'), (4, '0.078*\"super\" + 0.054*\"localizar\" + 0.053*\"apartamento\" + 0.047*\"limpar\" + 0.038*\"atencioso\" + 0.036*\"recomendar\" + 0.027*\"anfitrião\" + 0.026*\"voltar\" + 0.019*\"organizar\" + 0.018*\"aconchegante\"'), (5, '0.033*\"valer\" + 0.027*\"peno\" + 0.024*\"condomínio\" + 0.021*\"piscina\" + 0.019*\"café\" + 0.016*\"barrir\" + 0.016*\"manhã\" + 0.016*\"espaçar\" + 0.014*\"visto\" + 0.013*\"hotel\"'), (6, '0.041*\"cama\" + 0.031*\"apartamento\" + 0.027*\"cozinhar\" + 0.019*\"ar\" + 0.019*\"roupar\" + 0.016*\"banheiro\" + 0.016*\"condicionar\" + 0.013*\"chuveiro\" + 0.012*\"utensílio\" + 0.012*\"confortável\"'), (7, '0.049*\"marco\" + 0.033*\"the\" + 0.030*\"and\" + 0.022*\"to\" + 0.019*\"clean\" + 0.015*\"in\" + 0.015*\"is\" + 0.014*\"hosts\" + 0.011*\"very\" + 0.011*\"fatima\"'), (8, '0.100*\"localização\" + 0.078*\"excelente\" + 0.069*\"ótima\" + 0.057*\"apartamento\" + 0.043*\"recomendar\" + 0.041*\"anfitrião\" + 0.030*\"limpar\" + 0.029*\"atencioso\" + 0.025*\"ótimo\" + 0.020*\"espaçar\"'), (9, '0.032*\"casar\" + 0.019*\"rir\" + 0.019*\"anfitrião\" + 0.018*\"sentir\" + 0.016*\"deixar\" + 0.016*\"ficar\" + 0.015*\"melhor\" + 0.013*\"vontade\" + 0.013*\"estadia\" + 0.013*\"pessoa\"')] \n",
      "\n",
      "Number of topics =  10\n",
      "Number of passes =  2 \n",
      "\n"
     ]
    },
    {
     "name": "stdout",
     "output_type": "stream",
     "text": [
      "[(0, '0.083*\"praia\" + 0.053*\"restaurante\" + 0.043*\"apartamento\" + 0.033*\"metrô\" + 0.031*\"localização\" + 0.030*\"mercar\" + 0.029*\"bar\" + 0.026*\"supermercado\" + 0.024*\"farmácia\" + 0.021*\"copacabana\"'), (1, '0.044*\"fácil\" + 0.038*\"acesso\" + 0.033*\"rir\" + 0.027*\"ficar\" + 0.018*\"praia\" + 0.016*\"metrô\" + 0.016*\"centrar\" + 0.014*\"tranquilo\" + 0.014*\"bairro\" + 0.012*\"cidade\"'), (2, '0.026*\"the\" + 0.024*\"and\" + 0.019*\"cristina\" + 0.017*\"to\" + 0.015*\"larissa\" + 0.015*\"clean\" + 0.013*\"hostel\" + 0.013*\"balsa\" + 0.012*\"is\" + 0.011*\"hosts\"'), (3, '0.029*\"preço\" + 0.023*\"pessoa\" + 0.019*\"prédio\" + 0.016*\"ficar\" + 0.015*\"pequeno\" + 0.015*\"ar\" + 0.015*\"apartamento\" + 0.014*\"piscina\" + 0.013*\"quarto\" + 0.013*\"sala\"'), (4, '0.042*\"cama\" + 0.025*\"cozinhar\" + 0.023*\"apartamento\" + 0.019*\"roupar\" + 0.019*\"banheiro\" + 0.014*\"chuveiro\" + 0.013*\"ar\" + 0.012*\"toalha\" + 0.012*\"condicionar\" + 0.011*\"funcionar\"'), (5, '0.033*\"check\" + 0.032*\"problema\" + 0.023*\"in\" + 0.021*\"horário\" + 0.019*\"chegar\" + 0.019*\"ter\" + 0.016*\"sair\" + 0.015*\"entrar\" + 0.014*\"dia\" + 0.014*\"flexível\"'), (6, '0.041*\"casar\" + 0.021*\"sentir\" + 0.019*\"anfitrião\" + 0.018*\"ficar\" + 0.018*\"deixar\" + 0.017*\"voltar\" + 0.017*\"dica\" + 0.015*\"rir\" + 0.015*\"vontade\" + 0.015*\"dar\"'), (7, '0.129*\"localização\" + 0.092*\"excelente\" + 0.082*\"ótima\" + 0.053*\"apartamento\" + 0.044*\"recomendar\" + 0.038*\"anfitrião\" + 0.031*\"ótimo\" + 0.022*\"atencioso\" + 0.022*\"limpar\" + 0.021*\"espaçar\"'), (8, '0.067*\"super\" + 0.059*\"apartamento\" + 0.048*\"limpar\" + 0.047*\"localizar\" + 0.040*\"atencioso\" + 0.037*\"recomendar\" + 0.034*\"anfitrião\" + 0.025*\"voltar\" + 0.019*\"organizar\" + 0.018*\"espaçar\"'), (9, '0.046*\"visto\" + 0.043*\"maravilhoso\" + 0.035*\"incrível\" + 0.034*\"voltar\" + 0.026*\"super\" + 0.022*\"valer\" + 0.019*\"lindo\" + 0.019*\"casar\" + 0.018*\"peno\" + 0.017*\"apartamento\"')] \n",
      "\n",
      "Number of topics =  10\n",
      "Number of passes =  3 \n",
      "\n",
      "[(0, '0.081*\"praia\" + 0.052*\"restaurante\" + 0.047*\"apartamento\" + 0.037*\"localização\" + 0.035*\"metrô\" + 0.028*\"mercar\" + 0.028*\"bar\" + 0.025*\"supermercado\" + 0.024*\"farmácia\" + 0.022*\"copacabana\"'), (1, '0.046*\"dica\" + 0.044*\"fácil\" + 0.043*\"acesso\" + 0.033*\"dar\" + 0.032*\"rir\" + 0.020*\"cidade\" + 0.019*\"ficar\" + 0.018*\"centrar\" + 0.015*\"lugar\" + 0.014*\"bairro\"'), (2, '0.049*\"top\" + 0.034*\"eh\" + 0.029*\"the\" + 0.026*\"and\" + 0.019*\"to\" + 0.016*\"clean\" + 0.015*\"ape\" + 0.015*\"mt\" + 0.013*\"sandra\" + 0.013*\"is\"'), (3, '0.096*\"valer\" + 0.083*\"custar\" + 0.079*\"peno\" + 0.062*\"flat\" + 0.061*\"benefício\" + 0.041*\"ótimo\" + 0.030*\"otima\" + 0.030*\"otimo\" + 0.021*\"beneficiar\" + 0.017*\"roberto\"'), (4, '0.093*\"super\" + 0.059*\"apartamento\" + 0.054*\"limpar\" + 0.053*\"localizar\" + 0.049*\"recomendar\" + 0.043*\"atencioso\" + 0.035*\"anfitrião\" + 0.028*\"voltar\" + 0.024*\"ótimo\" + 0.023*\"espaçar\"'), (5, '0.033*\"cama\" + 0.022*\"apartamento\" + 0.022*\"cozinhar\" + 0.017*\"banheiro\" + 0.016*\"ar\" + 0.015*\"roupar\" + 0.013*\"condicionar\" + 0.013*\"ficar\" + 0.011*\"chuveiro\" + 0.010*\"funcionar\"'), (6, '0.043*\"check\" + 0.037*\"condomínio\" + 0.029*\"in\" + 0.024*\"flexível\" + 0.021*\"barrir\" + 0.020*\"piscina\" + 0.017*\"opção\" + 0.017*\"out\" + 0.017*\"horário\" + 0.017*\"espaçar\"'), (7, '0.112*\"localização\" + 0.083*\"excelente\" + 0.070*\"ótima\" + 0.052*\"apartamento\" + 0.038*\"anfitrião\" + 0.036*\"recomendar\" + 0.026*\"atencioso\" + 0.022*\"limpar\" + 0.022*\"voltar\" + 0.017*\"espaçar\"'), (8, '0.033*\"apartamento\" + 0.023*\"responder\" + 0.022*\"foto\" + 0.020*\"dúvida\" + 0.019*\"anfitrião\" + 0.013*\"problema\" + 0.013*\"precisar\" + 0.013*\"estadia\" + 0.012*\"ajudar\" + 0.012*\"chegar\"'), (9, '0.044*\"casar\" + 0.023*\"ficar\" + 0.021*\"sentir\" + 0.020*\"voltar\" + 0.020*\"rir\" + 0.019*\"maravilhoso\" + 0.015*\"melhor\" + 0.014*\"incrível\" + 0.012*\"pessoa\" + 0.011*\"deixar\"')] \n",
      "\n",
      "Number of topics =  10\n",
      "Number of passes =  4 \n",
      "\n",
      "[(0, '0.059*\"preço\" + 0.052*\"justar\" + 0.028*\"the\" + 0.025*\"and\" + 0.018*\"to\" + 0.016*\"marcia\" + 0.015*\"clean\" + 0.014*\"vitor\" + 0.012*\"is\" + 0.011*\"hosts\"'), (1, '0.024*\"apartamento\" + 0.019*\"foto\" + 0.017*\"chegar\" + 0.015*\"ter\" + 0.015*\"problema\" + 0.014*\"ficar\" + 0.014*\"responder\" + 0.014*\"anfitrião\" + 0.012*\"check-in\" + 0.012*\"precisar\"'), (2, '0.064*\"casar\" + 0.029*\"sentir\" + 0.026*\"voltar\" + 0.026*\"ficar\" + 0.021*\"maravilhoso\" + 0.019*\"rir\" + 0.017*\"deixar\" + 0.017*\"melhor\" + 0.017*\"vontade\" + 0.016*\"incrível\"'), (3, '0.076*\"super\" + 0.057*\"limpar\" + 0.056*\"apartamento\" + 0.043*\"atencioso\" + 0.040*\"localizar\" + 0.039*\"recomendar\" + 0.036*\"anfitrião\" + 0.029*\"voltar\" + 0.023*\"localização\" + 0.022*\"organizar\"'), (4, '0.033*\"rir\" + 0.030*\"dica\" + 0.025*\"acesso\" + 0.025*\"fácil\" + 0.021*\"check\" + 0.020*\"dar\" + 0.019*\"ficar\" + 0.017*\"cidade\" + 0.014*\"in\" + 0.012*\"centrar\"'), (5, '0.090*\"visto\" + 0.049*\"valer\" + 0.042*\"custar\" + 0.040*\"peno\" + 0.034*\"noto\" + 0.031*\"maravilhoso\" + 0.031*\"benefício\" + 0.027*\"10\" + 0.026*\"lindo\" + 0.016*\"localidade\"'), (6, '0.067*\"atender\" + 0.062*\"condomínio\" + 0.053*\"expectativa\" + 0.037*\"flat\" + 0.033*\"superar\" + 0.033*\"necessidade\" + 0.032*\"piscina\" + 0.028*\"barrir\" + 0.026*\"prédio\" + 0.023*\"funcionário\"'), (7, '0.032*\"cama\" + 0.023*\"apartamento\" + 0.022*\"cozinhar\" + 0.016*\"banheiro\" + 0.015*\"ar\" + 0.015*\"roupar\" + 0.013*\"condicionar\" + 0.013*\"ficar\" + 0.011*\"chuveiro\" + 0.010*\"funcionar\"'), (8, '0.120*\"localização\" + 0.098*\"excelente\" + 0.075*\"ótima\" + 0.059*\"apartamento\" + 0.048*\"recomendar\" + 0.039*\"anfitrião\" + 0.031*\"ótimo\" + 0.023*\"espaçar\" + 0.019*\"limpeza\" + 0.019*\"hospitalidade\"'), (9, '0.080*\"praia\" + 0.050*\"restaurante\" + 0.046*\"apartamento\" + 0.033*\"metrô\" + 0.032*\"localização\" + 0.028*\"mercar\" + 0.027*\"bar\" + 0.025*\"supermercado\" + 0.023*\"farmácia\" + 0.021*\"copacabana\"')] \n",
      "\n",
      "Number of topics =  10\n",
      "Number of passes =  5 \n",
      "\n",
      "[(0, '0.100*\"super\" + 0.052*\"apartamento\" + 0.050*\"limpar\" + 0.049*\"localizar\" + 0.048*\"recomendar\" + 0.038*\"atencioso\" + 0.032*\"anfitrião\" + 0.030*\"espaçar\" + 0.030*\"voltar\" + 0.024*\"aconchegante\"'), (1, '0.053*\"apartamento\" + 0.037*\"atencioso\" + 0.032*\"anfitrião\" + 0.029*\"localização\" + 0.028*\"responder\" + 0.028*\"foto\" + 0.027*\"recomendar\" + 0.025*\"limpar\" + 0.024*\"super\" + 0.024*\"excelente\"'), (2, '0.085*\"fácil\" + 0.074*\"acesso\" + 0.045*\"custar\" + 0.033*\"benefício\" + 0.031*\"centrar\" + 0.026*\"barrir\" + 0.022*\"opção\" + 0.020*\"condomínio\" + 0.019*\"rir\" + 0.017*\"lapa\"'), (3, '0.117*\"localização\" + 0.094*\"excelente\" + 0.079*\"ótima\" + 0.050*\"apartamento\" + 0.033*\"recomendar\" + 0.033*\"anfitrião\" + 0.024*\"ótimo\" + 0.023*\"espaçar\" + 0.020*\"limpar\" + 0.018*\"voltar\"'), (4, '0.056*\"cama\" + 0.038*\"apartamento\" + 0.034*\"cozinhar\" + 0.032*\"ar\" + 0.028*\"condicionar\" + 0.024*\"confortável\" + 0.024*\"roupar\" + 0.022*\"possuir\" + 0.020*\"utensílio\" + 0.019*\"banheiro\"'), (5, '0.040*\"casar\" + 0.025*\"rir\" + 0.024*\"ficar\" + 0.019*\"sentir\" + 0.018*\"voltar\" + 0.016*\"deixar\" + 0.014*\"dica\" + 0.014*\"melhor\" + 0.014*\"maravilhoso\" + 0.013*\"vontade\"'), (6, '0.027*\"the\" + 0.024*\"and\" + 0.021*\"bike\" + 0.017*\"to\" + 0.015*\"itaú\" + 0.015*\"clean\" + 0.013*\"doce\" + 0.012*\"joana\" + 0.012*\"is\" + 0.011*\"hosts\"'), (7, '0.017*\"ficar\" + 0.017*\"problema\" + 0.016*\"apartamento\" + 0.014*\"haver\" + 0.013*\"ter\" + 0.012*\"dia\" + 0.010*\"toalha\" + 0.010*\"piscina\" + 0.010*\"deixar\" + 0.008*\"limpeza\"'), (8, '0.074*\"check\" + 0.051*\"noto\" + 0.051*\"in\" + 0.046*\"horário\" + 0.044*\"flexível\" + 0.040*\"check-in\" + 0.039*\"10\" + 0.030*\"out\" + 0.024*\"apt\" + 0.020*\"check-out\"'), (9, '0.082*\"praia\" + 0.048*\"restaurante\" + 0.040*\"metrô\" + 0.036*\"apartamento\" + 0.026*\"mercar\" + 0.026*\"bar\" + 0.025*\"localização\" + 0.024*\"ficar\" + 0.024*\"supermercado\" + 0.022*\"farmácia\"')] \n",
      "\n",
      "Number of topics =  11\n",
      "Number of passes =  1 \n",
      "\n",
      "[(0, '0.066*\"praia\" + 0.055*\"apartamento\" + 0.044*\"localização\" + 0.030*\"excelente\" + 0.027*\"restaurante\" + 0.021*\"copacabana\" + 0.018*\"ótima\" + 0.016*\"metrô\" + 0.016*\"bar\" + 0.015*\"prédio\"'), (1, '0.034*\"praia\" + 0.031*\"metrô\" + 0.030*\"restaurante\" + 0.028*\"acesso\" + 0.027*\"fácil\" + 0.024*\"mercar\" + 0.021*\"ficar\" + 0.021*\"apartamento\" + 0.020*\"farmácia\" + 0.018*\"localizar\"'), (2, '0.047*\"apartamento\" + 0.040*\"anfitrião\" + 0.039*\"localização\" + 0.032*\"excelente\" + 0.030*\"responder\" + 0.030*\"recomendar\" + 0.028*\"atencioso\" + 0.026*\"ótima\" + 0.023*\"foto\" + 0.020*\"dúvida\"'), (3, '0.060*\"localização\" + 0.056*\"apartamento\" + 0.053*\"excelente\" + 0.052*\"super\" + 0.048*\"limpar\" + 0.047*\"ótima\" + 0.044*\"recomendar\" + 0.038*\"anfitrião\" + 0.035*\"atencioso\" + 0.033*\"voltar\"'), (4, '0.057*\"rir\" + 0.051*\"dica\" + 0.040*\"dar\" + 0.024*\"cidade\" + 0.020*\"janeiro\" + 0.016*\"centrar\" + 0.016*\"lugar\" + 0.015*\"lapa\" + 0.012*\"ficar\" + 0.011*\"opção\"'), (5, '0.045*\"cama\" + 0.030*\"cozinhar\" + 0.023*\"apartamento\" + 0.022*\"banheiro\" + 0.021*\"ar\" + 0.021*\"roupar\" + 0.018*\"condicionar\" + 0.015*\"chuveiro\" + 0.013*\"toalha\" + 0.012*\"funcionar\"'), (6, '0.032*\"check\" + 0.022*\"in\" + 0.021*\"casar\" + 0.020*\"café\" + 0.017*\"manhã\" + 0.017*\"deixar\" + 0.016*\"horário\" + 0.013*\"out\" + 0.012*\"chegar\" + 0.011*\"sair\"'), (7, '0.028*\"host\" + 0.027*\"the\" + 0.024*\"and\" + 0.019*\"cadeira\" + 0.017*\"to\" + 0.015*\"pôr\" + 0.013*\"joana\" + 0.012*\"clean\" + 0.012*\"is\" + 0.012*\"demorar\"'), (8, '0.052*\"visto\" + 0.034*\"apartamento\" + 0.028*\"valer\" + 0.027*\"localização\" + 0.023*\"peno\" + 0.023*\"maravilhoso\" + 0.022*\"impecável\" + 0.020*\"limpeza\" + 0.020*\"rápido\" + 0.019*\"excelente\"'), (9, '0.041*\"dia\" + 0.038*\"ficar\" + 0.025*\"passar\" + 0.025*\"ter\" + 0.020*\"apartamento\" + 0.017*\"ser\" + 0.016*\"check-in\" + 0.014*\"trabalhar\" + 0.012*\"haver\" + 0.011*\"check-out\"'), (10, '0.046*\"casar\" + 0.036*\"super\" + 0.024*\"voltar\" + 0.022*\"sentir\" + 0.017*\"recomendar\" + 0.017*\"ficar\" + 0.017*\"anfitrião\" + 0.017*\"maravilhoso\" + 0.017*\"pessoa\" + 0.015*\"atencioso\"')] \n",
      "\n",
      "Number of topics =  11\n",
      "Number of passes =  2 \n",
      "\n"
     ]
    },
    {
     "name": "stdout",
     "output_type": "stream",
     "text": [
      "[(0, '0.119*\"localização\" + 0.082*\"ótima\" + 0.080*\"excelente\" + 0.056*\"apartamento\" + 0.036*\"anfitrião\" + 0.036*\"recomendar\" + 0.025*\"atencioso\" + 0.024*\"limpar\" + 0.023*\"voltar\" + 0.020*\"estadia\"'), (1, '0.050*\"super\" + 0.047*\"voltar\" + 0.033*\"casar\" + 0.024*\"ficar\" + 0.023*\"apartamento\" + 0.022*\"atencioso\" + 0.019*\"maravilhoso\" + 0.018*\"recomendar\" + 0.017*\"sentir\" + 0.016*\"limpar\"'), (2, '0.080*\"praia\" + 0.047*\"restaurante\" + 0.041*\"apartamento\" + 0.039*\"metrô\" + 0.030*\"localização\" + 0.026*\"mercar\" + 0.026*\"bar\" + 0.023*\"supermercado\" + 0.022*\"farmácia\" + 0.019*\"ficar\"'), (3, '0.045*\"rir\" + 0.031*\"acesso\" + 0.029*\"fácil\" + 0.022*\"ficar\" + 0.019*\"cidade\" + 0.017*\"dica\" + 0.017*\"casar\" + 0.015*\"janeiro\" + 0.013*\"opção\" + 0.012*\"centrar\"'), (4, '0.047*\"espaçar\" + 0.043*\"custar\" + 0.039*\"ótimo\" + 0.031*\"benefício\" + 0.028*\"café\" + 0.024*\"manhã\" + 0.024*\"tranquilo\" + 0.019*\"ruir\" + 0.019*\"simples\" + 0.015*\"lapa\"'), (5, '0.070*\"super\" + 0.060*\"apartamento\" + 0.055*\"localizar\" + 0.050*\"recomendar\" + 0.050*\"limpar\" + 0.041*\"anfitrião\" + 0.039*\"atencioso\" + 0.024*\"ótimo\" + 0.024*\"espaçar\" + 0.022*\"confortável\"'), (6, '0.124*\"visto\" + 0.076*\"valer\" + 0.066*\"hospitalidade\" + 0.063*\"peno\" + 0.060*\"maravilhoso\" + 0.049*\"flat\" + 0.045*\"lindo\" + 0.042*\"incrível\" + 0.039*\"sensacional\" + 0.023*\"atendimento\"'), (7, '0.067*\"ana\" + 0.024*\"localizacao\" + 0.023*\"cômodos\" + 0.023*\"recrear\" + 0.020*\"alexandre\" + 0.017*\"felipe\" + 0.017*\"the\" + 0.015*\"and\" + 0.013*\"condominio\" + 0.012*\"evento\"'), (8, '0.043*\"responder\" + 0.038*\"rápido\" + 0.037*\"check\" + 0.027*\"problema\" + 0.027*\"apartamento\" + 0.024*\"in\" + 0.023*\"horário\" + 0.022*\"foto\" + 0.022*\"flexível\" + 0.022*\"dúvida\"'), (9, '0.030*\"casar\" + 0.018*\"melhor\" + 0.018*\"ficar\" + 0.016*\"experiência\" + 0.014*\"sentir\" + 0.012*\"ser\" + 0.011*\"dia\" + 0.011*\"poder\" + 0.011*\"ter\" + 0.011*\"cuidar\"'), (10, '0.040*\"cama\" + 0.027*\"apartamento\" + 0.027*\"cozinhar\" + 0.020*\"banheiro\" + 0.019*\"ar\" + 0.019*\"roupar\" + 0.016*\"condicionar\" + 0.014*\"chuveiro\" + 0.013*\"ficar\" + 0.012*\"utensílio\"')] \n",
      "\n",
      "Number of topics =  11\n",
      "Number of passes =  3 \n",
      "\n",
      "[(0, '0.028*\"cama\" + 0.026*\"apartamento\" + 0.016*\"problema\" + 0.016*\"roupar\" + 0.016*\"check\" + 0.014*\"ficar\" + 0.012*\"haver\" + 0.012*\"cozinhar\" + 0.011*\"banheiro\" + 0.010*\"ter\"'), (1, '0.055*\"foto\" + 0.050*\"valer\" + 0.041*\"peno\" + 0.039*\"responder\" + 0.028*\"anúncio\" + 0.023*\"mensagem\" + 0.019*\"descrever\" + 0.017*\"preço\" + 0.017*\"flat\" + 0.016*\"rápido\"'), (2, '0.035*\"custar\" + 0.026*\"benefício\" + 0.020*\"ana\" + 0.016*\"ficar\" + 0.012*\"casar\" + 0.012*\"melhor\" + 0.011*\"pessoa\" + 0.010*\"otimo\" + 0.010*\"otima\" + 0.009*\"ter\"'), (3, '0.066*\"visto\" + 0.030*\"apartamento\" + 0.022*\"cozinhar\" + 0.022*\"confortável\" + 0.020*\"piscina\" + 0.020*\"maravilhoso\" + 0.018*\"lindo\" + 0.017*\"espaçoso\" + 0.017*\"ar\" + 0.017*\"condomínio\"'), (4, '0.078*\"host\" + 0.029*\"felipe\" + 0.028*\"the\" + 0.025*\"and\" + 0.024*\"fernanda\" + 0.018*\"in\" + 0.018*\"to\" + 0.016*\"cláudia\" + 0.015*\"clean\" + 0.014*\"estilosa\"'), (5, '0.070*\"praia\" + 0.045*\"apartamento\" + 0.044*\"restaurante\" + 0.032*\"metrô\" + 0.030*\"localização\" + 0.024*\"mercar\" + 0.024*\"bar\" + 0.022*\"supermercado\" + 0.020*\"farmácia\" + 0.019*\"localizar\"'), (6, '0.051*\"casar\" + 0.042*\"super\" + 0.024*\"deixar\" + 0.024*\"sentir\" + 0.019*\"vontade\" + 0.018*\"voltar\" + 0.017*\"maravilhoso\" + 0.016*\"recomendar\" + 0.016*\"anfitrião\" + 0.015*\"pessoa\"'), (7, '0.064*\"apartamento\" + 0.059*\"super\" + 0.052*\"limpar\" + 0.049*\"recomendar\" + 0.047*\"atencioso\" + 0.046*\"anfitrião\" + 0.041*\"localização\" + 0.039*\"localizar\" + 0.035*\"excelente\" + 0.033*\"ótima\"'), (8, '0.027*\"dica\" + 0.027*\"voltar\" + 0.024*\"dar\" + 0.024*\"rir\" + 0.024*\"ajudar\" + 0.023*\"casar\" + 0.021*\"ficar\" + 0.019*\"melhor\" + 0.018*\"atencioso\" + 0.018*\"anfitrião\"'), (9, '0.102*\"localização\" + 0.083*\"excelente\" + 0.059*\"ótima\" + 0.050*\"apartamento\" + 0.041*\"voltar\" + 0.029*\"recomendar\" + 0.027*\"hospitalidade\" + 0.021*\"limpeza\" + 0.020*\"ótimo\" + 0.019*\"estadia\"'), (10, '0.066*\"rir\" + 0.040*\"ficar\" + 0.020*\"centrar\" + 0.019*\"minuto\" + 0.019*\"janeiro\" + 0.017*\"cidade\" + 0.016*\"bairro\" + 0.016*\"opção\" + 0.015*\"lapa\" + 0.014*\"dia\"')] \n",
      "\n",
      "Number of topics =  11\n",
      "Number of passes =  4 \n",
      "\n",
      "[(0, '0.042*\"cama\" + 0.028*\"cozinhar\" + 0.025*\"apartamento\" + 0.021*\"banheiro\" + 0.020*\"ar\" + 0.019*\"roupar\" + 0.017*\"condicionar\" + 0.014*\"chuveiro\" + 0.014*\"problema\" + 0.013*\"ficar\"'), (1, '0.051*\"casar\" + 0.029*\"voltar\" + 0.023*\"ficar\" + 0.023*\"sentir\" + 0.023*\"maravilhoso\" + 0.021*\"rir\" + 0.018*\"incrível\" + 0.017*\"super\" + 0.016*\"melhor\" + 0.015*\"pessoa\"'), (2, '0.134*\"localização\" + 0.110*\"excelente\" + 0.092*\"ótima\" + 0.056*\"apartamento\" + 0.045*\"recomendar\" + 0.040*\"anfitrião\" + 0.031*\"ótimo\" + 0.024*\"limpar\" + 0.021*\"atencioso\" + 0.021*\"espaçar\"'), (3, '0.093*\"dica\" + 0.088*\"dar\" + 0.066*\"check\" + 0.045*\"in\" + 0.039*\"flexível\" + 0.035*\"horário\" + 0.033*\"check-in\" + 0.029*\"ótimas\" + 0.027*\"out\" + 0.018*\"check-out\"'), (4, '0.041*\"valer\" + 0.034*\"peno\" + 0.032*\"foto\" + 0.026*\"piscina\" + 0.026*\"condomínio\" + 0.023*\"anúncio\" + 0.017*\"preço\" + 0.013*\"descrição\" + 0.013*\"apartamento\" + 0.013*\"rápido\"'), (5, '0.079*\"super\" + 0.059*\"apartamento\" + 0.048*\"localizar\" + 0.048*\"limpar\" + 0.044*\"atencioso\" + 0.038*\"recomendar\" + 0.034*\"anfitrião\" + 0.026*\"voltar\" + 0.019*\"espaçar\" + 0.019*\"confortável\"'), (6, '0.073*\"host\" + 0.066*\"localidade\" + 0.034*\"rafael\" + 0.026*\"the\" + 0.025*\"cumprir\" + 0.023*\"and\" + 0.020*\"prometer\" + 0.017*\"to\" + 0.014*\"clean\" + 0.012*\"joana\"'), (7, '0.060*\"visto\" + 0.031*\"praia\" + 0.030*\"ficar\" + 0.029*\"rir\" + 0.025*\"minuto\" + 0.025*\"centrar\" + 0.024*\"lindo\" + 0.021*\"barrir\" + 0.017*\"frente\" + 0.017*\"mar\"'), (8, '0.030*\"legal\" + 0.027*\"apt\" + 0.027*\"otima\" + 0.026*\"otimo\" + 0.026*\"mto\" + 0.022*\"vc\" + 0.019*\"aptar\" + 0.016*\"morar\" + 0.016*\"nao\" + 0.015*\"localizacao\"'), (9, '0.019*\"chegar\" + 0.019*\"dia\" + 0.017*\"apartamento\" + 0.016*\"café\" + 0.016*\"ter\" + 0.012*\"deixar\" + 0.012*\"precisar\" + 0.012*\"manhã\" + 0.012*\"ser\" + 0.011*\"ficar\"'), (10, '0.063*\"praia\" + 0.043*\"apartamento\" + 0.041*\"restaurante\" + 0.034*\"localização\" + 0.033*\"metrô\" + 0.023*\"mercar\" + 0.022*\"bar\" + 0.021*\"excelente\" + 0.020*\"supermercado\" + 0.019*\"farmácia\"')] \n",
      "\n",
      "Number of topics =  11\n",
      "Number of passes =  5 \n",
      "\n",
      "[(0, '0.062*\"casar\" + 0.029*\"sentir\" + 0.023*\"voltar\" + 0.022*\"ficar\" + 0.022*\"deixar\" + 0.018*\"vontade\" + 0.018*\"maravilhoso\" + 0.015*\"incrível\" + 0.015*\"melhor\" + 0.014*\"pessoa\"'), (1, '0.049*\"foto\" + 0.042*\"apartamento\" + 0.041*\"atender\" + 0.033*\"excelente\" + 0.032*\"expectativa\" + 0.030*\"custar\" + 0.023*\"anfitrião\" + 0.022*\"benefício\" + 0.022*\"recomendar\" + 0.020*\"superar\"'), (2, '0.044*\"rir\" + 0.035*\"dica\" + 0.035*\"ajudar\" + 0.031*\"dar\" + 0.023*\"anfitrião\" + 0.022*\"dúvida\" + 0.019*\"cidade\" + 0.019*\"acesso\" + 0.018*\"estadia\" + 0.018*\"fácil\"'), (3, '0.089*\"super\" + 0.056*\"apartamento\" + 0.050*\"localizar\" + 0.047*\"limpar\" + 0.038*\"atencioso\" + 0.036*\"recomendar\" + 0.033*\"voltar\" + 0.028*\"anfitrião\" + 0.024*\"maravilhoso\" + 0.020*\"aconchegante\"'), (4, '0.122*\"localização\" + 0.093*\"excelente\" + 0.088*\"ótima\" + 0.058*\"apartamento\" + 0.048*\"recomendar\" + 0.043*\"anfitrião\" + 0.034*\"limpar\" + 0.029*\"atencioso\" + 0.026*\"ótimo\" + 0.026*\"super\"'), (5, '0.110*\"responder\" + 0.102*\"rápido\" + 0.063*\"check\" + 0.040*\"in\" + 0.037*\"respostar\" + 0.037*\"flexível\" + 0.035*\"horário\" + 0.034*\"check-in\" + 0.033*\"comunicação\" + 0.029*\"mensagem\"'), (6, '0.091*\"valer\" + 0.075*\"peno\" + 0.064*\"noto\" + 0.060*\"10\" + 0.049*\"preço\" + 0.040*\"lapa\" + 0.029*\"otima\" + 0.028*\"otimo\" + 0.020*\"justar\" + 0.016*\"localizacao\"'), (7, '0.078*\"praia\" + 0.044*\"restaurante\" + 0.036*\"apartamento\" + 0.036*\"metrô\" + 0.025*\"localização\" + 0.024*\"mercar\" + 0.024*\"bar\" + 0.022*\"ficar\" + 0.021*\"supermercado\" + 0.020*\"farmácia\"'), (8, '0.042*\"cama\" + 0.028*\"apartamento\" + 0.028*\"cozinhar\" + 0.021*\"banheiro\" + 0.020*\"ar\" + 0.020*\"roupar\" + 0.017*\"condicionar\" + 0.014*\"funcionar\" + 0.013*\"chuveiro\" + 0.013*\"confortável\"'), (9, '0.033*\"evento\" + 0.023*\"riocentro\" + 0.023*\"parque\" + 0.019*\"the\" + 0.017*\"josé\" + 0.017*\"and\" + 0.016*\"amigar\" + 0.014*\"olímpico\" + 0.013*\"in\" + 0.012*\"demandar\"'), (10, '0.024*\"ficar\" + 0.022*\"problema\" + 0.020*\"ter\" + 0.020*\"dia\" + 0.016*\"chegar\" + 0.015*\"haver\" + 0.015*\"apartamento\" + 0.012*\"entrar\" + 0.012*\"ser\" + 0.011*\"sair\"')] \n",
      "\n",
      "Number of topics =  12\n",
      "Number of passes =  1 \n",
      "\n"
     ]
    },
    {
     "name": "stdout",
     "output_type": "stream",
     "text": [
      "[(0, '0.063*\"praia\" + 0.060*\"localização\" + 0.050*\"apartamento\" + 0.026*\"copacabana\" + 0.025*\"perfeito\" + 0.024*\"ótima\" + 0.023*\"excelente\" + 0.021*\"foto\" + 0.019*\"recomendar\" + 0.019*\"voltar\"'), (1, '0.023*\"cama\" + 0.018*\"roupar\" + 0.018*\"apartamento\" + 0.016*\"problema\" + 0.015*\"ter\" + 0.013*\"chegar\" + 0.012*\"deixar\" + 0.012*\"ficar\" + 0.012*\"haver\" + 0.011*\"toalha\"'), (2, '0.125*\"fácil\" + 0.104*\"acesso\" + 0.037*\"preço\" + 0.036*\"lapa\" + 0.025*\"otimo\" + 0.022*\"centrar\" + 0.020*\"otima\" + 0.018*\"justar\" + 0.014*\"localizacao\" + 0.013*\"transportar\"'), (3, '0.052*\"praia\" + 0.044*\"restaurante\" + 0.034*\"metrô\" + 0.030*\"apartamento\" + 0.024*\"mercar\" + 0.024*\"bar\" + 0.022*\"supermercado\" + 0.021*\"ficar\" + 0.020*\"farmácia\" + 0.015*\"padaria\"'), (4, '0.037*\"ar\" + 0.032*\"condicionar\" + 0.030*\"cama\" + 0.028*\"apartamento\" + 0.025*\"banheiro\" + 0.022*\"cozinhar\" + 0.019*\"ficar\" + 0.019*\"funcionar\" + 0.019*\"sala\" + 0.018*\"pequeno\"'), (5, '0.041*\"limpeza\" + 0.027*\"apartamento\" + 0.025*\"utensílio\" + 0.025*\"piscina\" + 0.024*\"cozinhar\" + 0.020*\"condomínio\" + 0.015*\"serviço\" + 0.015*\"impecável\" + 0.014*\"flat\" + 0.014*\"hotel\"'), (6, '0.098*\"super\" + 0.063*\"apartamento\" + 0.058*\"localizar\" + 0.049*\"limpar\" + 0.044*\"recomendar\" + 0.043*\"atencioso\" + 0.031*\"voltar\" + 0.030*\"anfitrião\" + 0.022*\"ótimo\" + 0.020*\"aconchegante\"'), (7, '0.023*\"anfitrião\" + 0.022*\"voltar\" + 0.021*\"estadia\" + 0.021*\"apartamento\" + 0.018*\"dica\" + 0.017*\"dar\" + 0.014*\"ajudar\" + 0.014*\"agradecer\" + 0.014*\"recomendar\" + 0.014*\"hospitalidade\"'), (8, '0.081*\"excelente\" + 0.070*\"localização\" + 0.052*\"recomendar\" + 0.052*\"apartamento\" + 0.050*\"anfitrião\" + 0.042*\"ótima\" + 0.033*\"limpar\" + 0.033*\"atencioso\" + 0.018*\"espaçar\" + 0.017*\"confortável\"'), (9, '0.073*\"casar\" + 0.032*\"sentir\" + 0.032*\"rir\" + 0.029*\"ficar\" + 0.026*\"maravilhoso\" + 0.022*\"visto\" + 0.021*\"voltar\" + 0.017*\"melhor\" + 0.016*\"incrível\" + 0.015*\"lindo\"'), (10, '0.182*\"check\" + 0.132*\"in\" + 0.074*\"out\" + 0.027*\"horário\" + 0.021*\"the\" + 0.019*\"and\" + 0.016*\"host\" + 0.013*\"fechadura\" + 0.013*\"to\" + 0.011*\"clean\"'), (11, '0.150*\"localização\" + 0.105*\"ótima\" + 0.077*\"excelente\" + 0.058*\"ótimo\" + 0.051*\"espaçar\" + 0.032*\"valer\" + 0.030*\"hospitalidade\" + 0.028*\"custar\" + 0.027*\"peno\" + 0.025*\"apartamento\"')] \n",
      "\n",
      "Number of topics =  12\n",
      "Number of passes =  2 \n",
      "\n",
      "[(0, '0.066*\"casar\" + 0.035*\"ficar\" + 0.034*\"rir\" + 0.031*\"sentir\" + 0.028*\"voltar\" + 0.023*\"melhor\" + 0.021*\"maravilhoso\" + 0.018*\"pessoa\" + 0.018*\"hospedar\" + 0.015*\"incrível\"'), (1, '0.037*\"acesso\" + 0.036*\"fácil\" + 0.027*\"rir\" + 0.024*\"ficar\" + 0.024*\"dica\" + 0.018*\"cidade\" + 0.016*\"dar\" + 0.016*\"centrar\" + 0.015*\"metrô\" + 0.013*\"região\"'), (2, '0.042*\"cama\" + 0.028*\"cozinhar\" + 0.022*\"apartamento\" + 0.021*\"banheiro\" + 0.020*\"ar\" + 0.020*\"roupar\" + 0.017*\"condicionar\" + 0.014*\"chuveiro\" + 0.013*\"ficar\" + 0.012*\"toalha\"'), (3, '0.098*\"localização\" + 0.088*\"excelente\" + 0.059*\"ótima\" + 0.050*\"apartamento\" + 0.048*\"recomendar\" + 0.038*\"ótimo\" + 0.035*\"anfitrião\" + 0.032*\"aptar\" + 0.024*\"espaçar\" + 0.019*\"atencioso\"'), (4, '0.062*\"comunicativo\" + 0.060*\"host\" + 0.053*\"hospitaleiro\" + 0.021*\"the\" + 0.019*\"and\" + 0.019*\"amigar\" + 0.017*\"bike\" + 0.014*\"arena\" + 0.014*\"to\" + 0.012*\"itaú\"'), (5, '0.090*\"check\" + 0.060*\"in\" + 0.054*\"horário\" + 0.053*\"flexível\" + 0.048*\"check-in\" + 0.037*\"out\" + 0.028*\"otima\" + 0.027*\"otimo\" + 0.027*\"querido\" + 0.024*\"check-out\"'), (6, '0.067*\"super\" + 0.045*\"limpar\" + 0.042*\"apartamento\" + 0.042*\"atencioso\" + 0.042*\"anfitrião\" + 0.038*\"localização\" + 0.036*\"recomendar\" + 0.035*\"ótima\" + 0.030*\"voltar\" + 0.027*\"excelente\"'), (7, '0.033*\"atenção\" + 0.028*\"café\" + 0.025*\"cuidar\" + 0.024*\"limpeza\" + 0.021*\"hospitalidade\" + 0.021*\"detalhe\" + 0.020*\"manhã\" + 0.019*\"ana\" + 0.018*\"agradecer\" + 0.018*\"confortar\"'), (8, '0.028*\"responder\" + 0.027*\"apartamento\" + 0.025*\"dúvida\" + 0.022*\"foto\" + 0.021*\"problema\" + 0.020*\"chegar\" + 0.019*\"ter\" + 0.018*\"anfitrião\" + 0.018*\"precisar\" + 0.016*\"dia\"'), (9, '0.074*\"praia\" + 0.047*\"apartamento\" + 0.045*\"restaurante\" + 0.030*\"localização\" + 0.028*\"metrô\" + 0.025*\"mercar\" + 0.025*\"bar\" + 0.022*\"supermercado\" + 0.021*\"farmácia\" + 0.018*\"excelente\"'), (10, '0.024*\"beneficiar\" + 0.019*\"show\" + 0.019*\"checkin\" + 0.018*\"cômodos\" + 0.015*\"custar\" + 0.015*\"eh\" + 0.014*\"preocupação\" + 0.013*\"bolar\" + 0.013*\"gás\" + 0.012*\"rs\"'), (11, '0.072*\"apartamento\" + 0.047*\"super\" + 0.045*\"visto\" + 0.043*\"localizar\" + 0.035*\"limpar\" + 0.030*\"recomendar\" + 0.029*\"maravilhoso\" + 0.024*\"atencioso\" + 0.022*\"espaçar\" + 0.022*\"confortável\"')] \n",
      "\n",
      "Number of topics =  12\n",
      "Number of passes =  3 \n",
      "\n",
      "[(0, '0.038*\"cama\" + 0.025*\"apartamento\" + 0.025*\"cozinhar\" + 0.019*\"banheiro\" + 0.018*\"ar\" + 0.018*\"roupar\" + 0.015*\"condicionar\" + 0.013*\"problema\" + 0.013*\"chuveiro\" + 0.011*\"funcionar\"'), (1, '0.074*\"responder\" + 0.066*\"rápido\" + 0.048*\"atender\" + 0.029*\"noto\" + 0.029*\"dúvida\" + 0.027*\"atencioso\" + 0.027*\"super\" + 0.025*\"respostar\" + 0.025*\"anfitrião\" + 0.024*\"localizar\"'), (2, '0.083*\"praia\" + 0.052*\"restaurante\" + 0.043*\"metrô\" + 0.040*\"apartamento\" + 0.032*\"localização\" + 0.029*\"mercar\" + 0.028*\"bar\" + 0.025*\"supermercado\" + 0.024*\"farmácia\" + 0.021*\"copacabana\"'), (3, '0.046*\"voltar\" + 0.038*\"hospitalidade\" + 0.036*\"excelente\" + 0.030*\"localização\" + 0.026*\"apartamento\" + 0.026*\"valer\" + 0.021*\"peno\" + 0.020*\"atendimento\" + 0.020*\"limpeza\" + 0.017*\"maravilhoso\"'), (4, '0.051*\"lapa\" + 0.034*\"vc\" + 0.032*\"ruir\" + 0.028*\"zonar\" + 0.027*\"barulhar\" + 0.026*\"sul\" + 0.023*\"centrar\" + 0.022*\"janela\" + 0.020*\"estacionamento\" + 0.020*\"novo\"'), (5, '0.081*\"localização\" + 0.065*\"apartamento\" + 0.063*\"excelente\" + 0.060*\"ótima\" + 0.046*\"recomendar\" + 0.045*\"anfitrião\" + 0.044*\"limpar\" + 0.040*\"super\" + 0.036*\"atencioso\" + 0.022*\"voltar\"'), (6, '0.142*\"visto\" + 0.103*\"maravilhoso\" + 0.069*\"incrível\" + 0.058*\"lindo\" + 0.043*\"flat\" + 0.027*\"mar\" + 0.023*\"varanda\" + 0.022*\"piscina\" + 0.022*\"apt\" + 0.017*\"lindar\"'), (7, '0.042*\"rir\" + 0.035*\"ficar\" + 0.022*\"dia\" + 0.020*\"melhor\" + 0.016*\"ser\" + 0.014*\"janeiro\" + 0.013*\"passar\" + 0.011*\"poder\" + 0.011*\"ter\" + 0.010*\"airbnb\"'), (8, '0.039*\"alexandre\" + 0.033*\"the\" + 0.030*\"and\" + 0.021*\"to\" + 0.018*\"clean\" + 0.017*\"relaxar\" + 0.016*\"joana\" + 0.015*\"host\" + 0.015*\"is\" + 0.014*\"hosts\"'), (9, '0.063*\"casar\" + 0.030*\"super\" + 0.030*\"sentir\" + 0.023*\"deixar\" + 0.022*\"voltar\" + 0.022*\"dica\" + 0.019*\"anfitrião\" + 0.019*\"vontade\" + 0.018*\"dar\" + 0.018*\"maravilhoso\"'), (10, '0.059*\"check\" + 0.050*\"custar\" + 0.040*\"in\" + 0.037*\"horário\" + 0.036*\"benefício\" + 0.035*\"flexível\" + 0.032*\"check-in\" + 0.024*\"out\" + 0.018*\"localidade\" + 0.017*\"apartamento\"'), (11, '0.053*\"apartamento\" + 0.052*\"localizar\" + 0.042*\"super\" + 0.035*\"ótimo\" + 0.032*\"limpar\" + 0.030*\"fácil\" + 0.030*\"espaçar\" + 0.029*\"recomendar\" + 0.024*\"acesso\" + 0.024*\"tranquilo\"')] \n",
      "\n",
      "Number of topics =  12\n",
      "Number of passes =  4 \n",
      "\n",
      "[(0, '0.058*\"top\" + 0.036*\"host\" + 0.034*\"the\" + 0.031*\"and\" + 0.022*\"to\" + 0.021*\"fino\" + 0.019*\"clean\" + 0.015*\"is\" + 0.014*\"hosts\" + 0.013*\"in\"'), (1, '0.146*\"visto\" + 0.069*\"valer\" + 0.057*\"peno\" + 0.044*\"maravilhoso\" + 0.042*\"lindo\" + 0.028*\"mar\" + 0.025*\"incrível\" + 0.022*\"otima\" + 0.022*\"apt\" + 0.017*\"zonar\"'), (2, '0.040*\"cama\" + 0.026*\"cozinhar\" + 0.025*\"apartamento\" + 0.020*\"banheiro\" + 0.019*\"ar\" + 0.018*\"roupar\" + 0.016*\"condicionar\" + 0.014*\"ficar\" + 0.014*\"chuveiro\" + 0.012*\"funcionar\"'), (3, '0.040*\"excelente\" + 0.038*\"condomínio\" + 0.031*\"apartamento\" + 0.023*\"flat\" + 0.021*\"piscina\" + 0.020*\"localizar\" + 0.019*\"rápido\" + 0.019*\"recomendar\" + 0.018*\"estruturar\" + 0.018*\"limpeza\"'), (4, '0.118*\"localização\" + 0.088*\"ótima\" + 0.085*\"excelente\" + 0.055*\"apartamento\" + 0.045*\"recomendar\" + 0.042*\"anfitrião\" + 0.031*\"atencioso\" + 0.028*\"limpar\" + 0.027*\"ótimo\" + 0.021*\"super\"'), (5, '0.069*\"dica\" + 0.065*\"dar\" + 0.033*\"cidade\" + 0.028*\"rir\" + 0.023*\"lugar\" + 0.019*\"ajudar\" + 0.019*\"café\" + 0.015*\"locar\" + 0.015*\"ótimas\" + 0.014*\"região\"'), (6, '0.081*\"casar\" + 0.036*\"sentir\" + 0.027*\"deixar\" + 0.022*\"vontade\" + 0.021*\"super\" + 0.020*\"ficar\" + 0.018*\"pessoa\" + 0.017*\"voltar\" + 0.016*\"maravilhoso\" + 0.013*\"recomendar\"'), (7, '0.091*\"super\" + 0.060*\"limpar\" + 0.060*\"apartamento\" + 0.059*\"localizar\" + 0.042*\"atencioso\" + 0.042*\"recomendar\" + 0.037*\"voltar\" + 0.031*\"anfitrião\" + 0.026*\"aconchegante\" + 0.023*\"organizar\"'), (8, '0.168*\"fácil\" + 0.145*\"acesso\" + 0.048*\"transportar\" + 0.039*\"centrar\" + 0.032*\"otimo\" + 0.031*\"lapa\" + 0.025*\"público\" + 0.023*\"aeroporto\" + 0.020*\"turístico\" + 0.020*\"nao\"'), (9, '0.033*\"rir\" + 0.026*\"apartamento\" + 0.025*\"voltar\" + 0.024*\"melhor\" + 0.023*\"ficar\" + 0.017*\"estadia\" + 0.016*\"hospedar\" + 0.015*\"expectativa\" + 0.014*\"excelente\" + 0.014*\"anfitrião\"'), (10, '0.031*\"responder\" + 0.028*\"check\" + 0.024*\"problema\" + 0.022*\"apartamento\" + 0.019*\"in\" + 0.019*\"chegar\" + 0.017*\"horário\" + 0.016*\"flexível\" + 0.016*\"horar\" + 0.015*\"check-in\"'), (11, '0.096*\"praia\" + 0.054*\"restaurante\" + 0.044*\"metrô\" + 0.040*\"apartamento\" + 0.030*\"mercar\" + 0.030*\"bar\" + 0.028*\"localização\" + 0.026*\"supermercado\" + 0.025*\"ficar\" + 0.024*\"farmácia\"')] \n",
      "\n",
      "Number of topics =  12\n",
      "Number of passes =  5 \n",
      "\n"
     ]
    },
    {
     "name": "stdout",
     "output_type": "stream",
     "text": [
      "[(0, '0.029*\"melhor\" + 0.024*\"noto\" + 0.024*\"hóspede\" + 0.022*\"detalhe\" + 0.021*\"experiência\" + 0.020*\"airbnb\" + 0.019*\"10\" + 0.019*\"cuidar\" + 0.014*\"poder\" + 0.014*\"ser\"'), (1, '0.069*\"apartamento\" + 0.068*\"super\" + 0.063*\"limpar\" + 0.045*\"localizar\" + 0.045*\"recomendar\" + 0.044*\"atencioso\" + 0.040*\"anfitrião\" + 0.027*\"excelente\" + 0.026*\"localização\" + 0.023*\"ótimo\"'), (2, '0.030*\"problema\" + 0.025*\"ficar\" + 0.021*\"chegar\" + 0.019*\"dia\" + 0.018*\"ter\" + 0.017*\"apartamento\" + 0.015*\"haver\" + 0.014*\"sair\" + 0.014*\"entrar\" + 0.013*\"check-in\"'), (3, '0.048*\"fácil\" + 0.041*\"acesso\" + 0.034*\"praia\" + 0.024*\"tranquilo\" + 0.024*\"metrô\" + 0.021*\"espaçar\" + 0.019*\"localizar\" + 0.019*\"ficar\" + 0.018*\"copacabana\" + 0.017*\"bairro\"'), (4, '0.086*\"host\" + 0.036*\"pai\" + 0.031*\"the\" + 0.028*\"and\" + 0.020*\"to\" + 0.019*\"in\" + 0.017*\"clean\" + 0.014*\"joana\" + 0.014*\"is\" + 0.013*\"hosts\"'), (5, '0.097*\"visto\" + 0.052*\"maravilhoso\" + 0.045*\"valer\" + 0.040*\"incrível\" + 0.038*\"peno\" + 0.031*\"expectativa\" + 0.029*\"condomínio\" + 0.029*\"lindo\" + 0.029*\"piscina\" + 0.026*\"superar\"'), (6, '0.053*\"cama\" + 0.035*\"cozinhar\" + 0.027*\"apartamento\" + 0.026*\"banheiro\" + 0.025*\"ar\" + 0.024*\"roupar\" + 0.021*\"condicionar\" + 0.018*\"chuveiro\" + 0.015*\"utensílio\" + 0.015*\"toalha\"'), (7, '0.136*\"localização\" + 0.105*\"excelente\" + 0.091*\"ótima\" + 0.050*\"apartamento\" + 0.043*\"recomendar\" + 0.039*\"anfitrião\" + 0.029*\"ótimo\" + 0.025*\"hospitalidade\" + 0.025*\"voltar\" + 0.022*\"estadia\"'), (8, '0.071*\"praia\" + 0.053*\"restaurante\" + 0.044*\"apartamento\" + 0.033*\"localização\" + 0.029*\"mercar\" + 0.029*\"bar\" + 0.029*\"metrô\" + 0.026*\"supermercado\" + 0.024*\"farmácia\" + 0.019*\"check\"'), (9, '0.163*\"aptar\" + 0.088*\"atender\" + 0.053*\"foto\" + 0.043*\"anúncio\" + 0.040*\"necessidade\" + 0.034*\"descrever\" + 0.025*\"descrição\" + 0.024*\"otima\" + 0.023*\"mto\" + 0.019*\"expectativa\"'), (10, '0.054*\"rir\" + 0.032*\"ficar\" + 0.029*\"dica\" + 0.026*\"dar\" + 0.024*\"apartamento\" + 0.020*\"voltar\" + 0.016*\"hospedar\" + 0.015*\"dúvida\" + 0.015*\"janeiro\" + 0.014*\"ajudar\"'), (11, '0.074*\"casar\" + 0.044*\"super\" + 0.036*\"sentir\" + 0.027*\"voltar\" + 0.022*\"deixar\" + 0.022*\"vontade\" + 0.021*\"maravilhoso\" + 0.021*\"pessoa\" + 0.019*\"recomendar\" + 0.016*\"atencioso\"')] \n",
      "\n",
      "Number of topics =  13\n",
      "Number of passes =  1 \n",
      "\n",
      "[(0, '0.063*\"check\" + 0.054*\"custar\" + 0.043*\"in\" + 0.039*\"benefício\" + 0.036*\"noto\" + 0.034*\"10\" + 0.026*\"out\" + 0.025*\"flexível\" + 0.025*\"horário\" + 0.017*\"rodrigar\"'), (1, '0.027*\"the\" + 0.024*\"and\" + 0.019*\"host\" + 0.017*\"to\" + 0.015*\"pôr\" + 0.015*\"clean\" + 0.015*\"matheus\" + 0.013*\"joana\" + 0.012*\"doce\" + 0.012*\"is\"'), (2, '0.032*\"dica\" + 0.029*\"dar\" + 0.027*\"ajudar\" + 0.021*\"voltar\" + 0.019*\"precisar\" + 0.018*\"dúvida\" + 0.017*\"atencioso\" + 0.017*\"apartamento\" + 0.016*\"estadia\" + 0.015*\"anfitrião\"'), (3, '0.053*\"rir\" + 0.041*\"melhor\" + 0.026*\"hospitalidade\" + 0.026*\"ficar\" + 0.025*\"localização\" + 0.025*\"excelente\" + 0.025*\"apartamento\" + 0.022*\"voltar\" + 0.019*\"hospedar\" + 0.018*\"janeiro\"'), (4, '0.126*\"casar\" + 0.061*\"sentir\" + 0.032*\"valer\" + 0.026*\"peno\" + 0.026*\"ficar\" + 0.023*\"pessoa\" + 0.022*\"vontade\" + 0.017*\"voltar\" + 0.017*\"experiência\" + 0.016*\"deixar\"'), (5, '0.041*\"anfitrião\" + 0.037*\"ambientar\" + 0.035*\"agradável\" + 0.034*\"expectativa\" + 0.034*\"espaçar\" + 0.026*\"deixar\" + 0.025*\"condomínio\" + 0.023*\"tranquilo\" + 0.023*\"limpar\" + 0.023*\"recomendar\"'), (6, '0.027*\"ficar\" + 0.020*\"ruir\" + 0.018*\"praia\" + 0.015*\"apartamento\" + 0.011*\"noite\" + 0.011*\"frente\" + 0.010*\"dia\" + 0.010*\"prédio\" + 0.009*\"visto\" + 0.009*\"pé\"'), (7, '0.040*\"cama\" + 0.027*\"apartamento\" + 0.021*\"cozinhar\" + 0.020*\"roupar\" + 0.018*\"banheiro\" + 0.018*\"problema\" + 0.013*\"ficar\" + 0.013*\"ter\" + 0.013*\"chuveiro\" + 0.012*\"toalha\"'), (8, '0.127*\"localização\" + 0.096*\"excelente\" + 0.090*\"ótima\" + 0.068*\"apartamento\" + 0.035*\"recomendar\" + 0.030*\"anfitrião\" + 0.025*\"ótimo\" + 0.020*\"limpeza\" + 0.020*\"espaçar\" + 0.018*\"estadia\"'), (9, '0.083*\"super\" + 0.061*\"apartamento\" + 0.055*\"limpar\" + 0.046*\"recomendar\" + 0.046*\"atencioso\" + 0.043*\"localizar\" + 0.036*\"anfitrião\" + 0.031*\"voltar\" + 0.026*\"localização\" + 0.022*\"ótimo\"'), (10, '0.060*\"visto\" + 0.053*\"maravilhoso\" + 0.031*\"lindo\" + 0.031*\"incrível\" + 0.025*\"café\" + 0.025*\"voltar\" + 0.022*\"super\" + 0.022*\"caro\" + 0.021*\"detalhe\" + 0.021*\"casar\"'), (11, '0.106*\"ar\" + 0.091*\"condicionar\" + 0.043*\"funcionar\" + 0.033*\"quarto\" + 0.031*\"otimo\" + 0.029*\"sala\" + 0.028*\"apt\" + 0.028*\"tv\" + 0.026*\"piscina\" + 0.021*\"marcelo\"'), (12, '0.072*\"praia\" + 0.049*\"restaurante\" + 0.041*\"metrô\" + 0.038*\"apartamento\" + 0.028*\"mercar\" + 0.027*\"bar\" + 0.026*\"fácil\" + 0.025*\"supermercado\" + 0.024*\"acesso\" + 0.024*\"farmácia\"')] \n",
      "\n",
      "Number of topics =  13\n",
      "Number of passes =  2 \n",
      "\n",
      "[(0, '0.069*\"casar\" + 0.033*\"sentir\" + 0.027*\"deixar\" + 0.023*\"voltar\" + 0.021*\"vontade\" + 0.019*\"ficar\" + 0.018*\"melhor\" + 0.017*\"maravilhoso\" + 0.017*\"anfitrião\" + 0.016*\"experiência\"'), (1, '0.069*\"host\" + 0.050*\"zonar\" + 0.047*\"sul\" + 0.025*\"the\" + 0.022*\"and\" + 0.017*\"suprir\" + 0.016*\"demandar\" + 0.016*\"to\" + 0.014*\"clean\" + 0.012*\"estilosa\"'), (2, '0.086*\"super\" + 0.060*\"apartamento\" + 0.051*\"localizar\" + 0.049*\"limpar\" + 0.045*\"atencioso\" + 0.036*\"recomendar\" + 0.035*\"voltar\" + 0.033*\"anfitrião\" + 0.020*\"organizar\" + 0.019*\"confortável\"'), (3, '0.055*\"rir\" + 0.051*\"dica\" + 0.051*\"dar\" + 0.038*\"valer\" + 0.032*\"peno\" + 0.028*\"ficar\" + 0.020*\"janeiro\" + 0.015*\"ajudar\" + 0.014*\"lugar\" + 0.013*\"apartamento\"'), (4, '0.139*\"localização\" + 0.100*\"excelente\" + 0.094*\"ótima\" + 0.055*\"apartamento\" + 0.052*\"recomendar\" + 0.047*\"anfitrião\" + 0.035*\"limpar\" + 0.032*\"ótimo\" + 0.030*\"atencioso\" + 0.027*\"espaçar\"'), (5, '0.034*\"expectativa\" + 0.034*\"condomínio\" + 0.032*\"atender\" + 0.021*\"superar\" + 0.021*\"necessidade\" + 0.018*\"excelente\" + 0.018*\"anfitrião\" + 0.018*\"piscina\" + 0.016*\"espaçar\" + 0.014*\"imóvel\"'), (6, '0.051*\"rápido\" + 0.050*\"foto\" + 0.047*\"apartamento\" + 0.028*\"responder\" + 0.021*\"respostar\" + 0.020*\"comunicação\" + 0.019*\"problema\" + 0.019*\"anfitrião\" + 0.019*\"anúncio\" + 0.019*\"check-in\"'), (7, '0.079*\"check\" + 0.065*\"limpeza\" + 0.061*\"atendimento\" + 0.054*\"noto\" + 0.054*\"in\" + 0.044*\"10\" + 0.041*\"impecável\" + 0.032*\"out\" + 0.025*\"localidade\" + 0.024*\"otimo\"'), (8, '0.093*\"visto\" + 0.062*\"maravilhoso\" + 0.044*\"perfazer\" + 0.035*\"incrível\" + 0.034*\"lindo\" + 0.033*\"voltar\" + 0.030*\"apartamento\" + 0.028*\"flat\" + 0.026*\"espaçar\" + 0.020*\"estiloso\"'), (9, '0.087*\"praia\" + 0.057*\"restaurante\" + 0.045*\"apartamento\" + 0.034*\"metrô\" + 0.034*\"localização\" + 0.032*\"mercar\" + 0.030*\"bar\" + 0.028*\"supermercado\" + 0.026*\"farmácia\" + 0.021*\"copacabana\"'), (10, '0.039*\"cama\" + 0.025*\"cozinhar\" + 0.023*\"apartamento\" + 0.020*\"banheiro\" + 0.019*\"ar\" + 0.018*\"roupar\" + 0.016*\"ficar\" + 0.016*\"condicionar\" + 0.014*\"chuveiro\" + 0.012*\"ter\"'), (11, '0.074*\"fácil\" + 0.071*\"acesso\" + 0.030*\"praia\" + 0.022*\"ficar\" + 0.018*\"barrir\" + 0.017*\"transportar\" + 0.014*\"shopping\" + 0.013*\"uber\" + 0.013*\"minuto\" + 0.013*\"apê\"'), (12, '0.032*\"rir\" + 0.028*\"tranquilo\" + 0.025*\"bairro\" + 0.023*\"espaçar\" + 0.019*\"ficar\" + 0.018*\"metrô\" + 0.017*\"centrar\" + 0.017*\"cidade\" + 0.015*\"lapa\" + 0.015*\"ruir\"')] \n",
      "\n",
      "Number of topics =  13\n",
      "Number of passes =  3 \n",
      "\n",
      "[(0, '0.052*\"fácil\" + 0.045*\"acesso\" + 0.026*\"praia\" + 0.026*\"rir\" + 0.021*\"opção\" + 0.018*\"ficar\" + 0.017*\"metrô\" + 0.016*\"barrir\" + 0.015*\"localização\" + 0.015*\"transportar\"'), (1, '0.097*\"visto\" + 0.034*\"lindo\" + 0.029*\"maravilhoso\" + 0.019*\"mar\" + 0.017*\"incrível\" + 0.013*\"varanda\" + 0.013*\"rodrigar\" + 0.012*\"ficar\" + 0.012*\"ruir\" + 0.011*\"frente\"'), (2, '0.027*\"voltar\" + 0.026*\"ficar\" + 0.025*\"rir\" + 0.019*\"casar\" + 0.016*\"melhor\" + 0.016*\"dica\" + 0.016*\"maravilhoso\" + 0.014*\"hospedar\" + 0.014*\"dar\" + 0.012*\"estadia\"'), (3, '0.112*\"casar\" + 0.060*\"super\" + 0.053*\"sentir\" + 0.047*\"vontade\" + 0.047*\"deixar\" + 0.038*\"check\" + 0.027*\"recomendar\" + 0.027*\"anfitrião\" + 0.026*\"in\" + 0.019*\"simpático\"'), (4, '0.069*\"apartamento\" + 0.068*\"localização\" + 0.053*\"super\" + 0.051*\"ótima\" + 0.051*\"limpar\" + 0.051*\"excelente\" + 0.044*\"recomendar\" + 0.039*\"anfitrião\" + 0.036*\"atencioso\" + 0.029*\"voltar\"'), (5, '0.053*\"responder\" + 0.040*\"apartamento\" + 0.039*\"anfitrião\" + 0.035*\"atencioso\" + 0.034*\"dúvida\" + 0.032*\"recomendar\" + 0.029*\"foto\" + 0.028*\"ajudar\" + 0.027*\"localizar\" + 0.025*\"estadia\"'), (6, '0.078*\"praia\" + 0.052*\"restaurante\" + 0.049*\"apartamento\" + 0.033*\"metrô\" + 0.032*\"localização\" + 0.029*\"mercar\" + 0.028*\"bar\" + 0.025*\"supermercado\" + 0.024*\"farmácia\" + 0.022*\"copacabana\"'), (7, '0.120*\"ana\" + 0.056*\"beneficiar\" + 0.051*\"top\" + 0.030*\"paula\" + 0.030*\"the\" + 0.027*\"and\" + 0.019*\"to\" + 0.018*\"temporada\" + 0.017*\"clean\" + 0.013*\"is\"'), (8, '0.065*\"ótimo\" + 0.059*\"espaçar\" + 0.051*\"custar\" + 0.039*\"rápido\" + 0.037*\"benefício\" + 0.036*\"respostar\" + 0.032*\"casal\" + 0.031*\"localização\" + 0.026*\"lapa\" + 0.023*\"excelente\"'), (9, '0.062*\"cama\" + 0.041*\"cozinhar\" + 0.031*\"banheiro\" + 0.029*\"ar\" + 0.029*\"roupar\" + 0.025*\"condicionar\" + 0.024*\"apartamento\" + 0.021*\"chuveiro\" + 0.018*\"utensílio\" + 0.018*\"toalha\"'), (10, '0.252*\"espaçar\" + 0.068*\"acomodação\" + 0.054*\"expectativa\" + 0.051*\"atender\" + 0.050*\"excelente\" + 0.034*\"superar\" + 0.030*\"localização\" + 0.026*\"necessidade\" + 0.020*\"atendimento\" + 0.016*\"ater\"'), (11, '0.145*\"valer\" + 0.120*\"peno\" + 0.038*\"reclamar\" + 0.032*\"total\" + 0.030*\"privacidade\" + 0.026*\"organização\" + 0.026*\"suíte\" + 0.025*\"marco\" + 0.022*\"fofo\" + 0.018*\"restar\"'), (12, '0.028*\"problema\" + 0.025*\"apartamento\" + 0.022*\"ficar\" + 0.020*\"ter\" + 0.019*\"dia\" + 0.018*\"haver\" + 0.018*\"chegar\" + 0.013*\"entrar\" + 0.012*\"ser\" + 0.011*\"prédio\"')] \n",
      "\n",
      "Number of topics =  13\n",
      "Number of passes =  4 \n",
      "\n"
     ]
    },
    {
     "name": "stdout",
     "output_type": "stream",
     "text": [
      "[(0, '0.086*\"casar\" + 0.040*\"sentir\" + 0.026*\"super\" + 0.026*\"deixar\" + 0.023*\"vontade\" + 0.019*\"anfitrião\" + 0.018*\"pessoa\" + 0.018*\"voltar\" + 0.018*\"recomendar\" + 0.017*\"maravilhoso\"'), (1, '0.038*\"the\" + 0.034*\"and\" + 0.026*\"host\" + 0.024*\"to\" + 0.021*\"clean\" + 0.019*\"copo\" + 0.018*\"joana\" + 0.017*\"is\" + 0.016*\"hosts\" + 0.014*\"conexão\"'), (2, '0.056*\"dica\" + 0.049*\"check\" + 0.048*\"dar\" + 0.034*\"in\" + 0.029*\"flexível\" + 0.028*\"horário\" + 0.022*\"check-in\" + 0.020*\"out\" + 0.018*\"deixar\" + 0.018*\"super\"'), (3, '0.126*\"cama\" + 0.077*\"roupar\" + 0.047*\"toalha\" + 0.042*\"banhar\" + 0.041*\"preço\" + 0.036*\"limpo\" + 0.029*\"qualidade\" + 0.018*\"limpeza\" + 0.017*\"justar\" + 0.015*\"sofá\"'), (4, '0.051*\"voltar\" + 0.044*\"apartamento\" + 0.043*\"maravilhoso\" + 0.030*\"super\" + 0.030*\"visto\" + 0.029*\"rir\" + 0.028*\"ficar\" + 0.022*\"incrível\" + 0.019*\"melhor\" + 0.017*\"limpar\"'), (5, '0.090*\"limpeza\" + 0.072*\"impecável\" + 0.049*\"rápido\" + 0.047*\"noto\" + 0.040*\"atendimento\" + 0.040*\"respostar\" + 0.040*\"10\" + 0.036*\"localização\" + 0.035*\"excelente\" + 0.024*\"hospitalidade\"'), (6, '0.087*\"praia\" + 0.055*\"restaurante\" + 0.048*\"apartamento\" + 0.033*\"metrô\" + 0.033*\"localização\" + 0.030*\"mercar\" + 0.030*\"bar\" + 0.027*\"supermercado\" + 0.025*\"farmácia\" + 0.024*\"copacabana\"'), (7, '0.074*\"localização\" + 0.065*\"apartamento\" + 0.061*\"excelente\" + 0.058*\"ótima\" + 0.051*\"recomendar\" + 0.050*\"super\" + 0.050*\"limpar\" + 0.047*\"anfitrião\" + 0.037*\"atencioso\" + 0.032*\"ótimo\"'), (8, '0.037*\"apartamento\" + 0.035*\"anfitrião\" + 0.034*\"dúvida\" + 0.033*\"ajudar\" + 0.030*\"atender\" + 0.024*\"expectativa\" + 0.023*\"responder\" + 0.023*\"localização\" + 0.021*\"excelente\" + 0.020*\"foto\"'), (9, '0.035*\"problema\" + 0.031*\"custar\" + 0.026*\"ficar\" + 0.024*\"ter\" + 0.024*\"dia\" + 0.023*\"benefício\" + 0.020*\"chegar\" + 0.019*\"entrar\" + 0.018*\"haver\" + 0.017*\"sair\"'), (10, '0.033*\"fácil\" + 0.031*\"rir\" + 0.030*\"acesso\" + 0.025*\"ficar\" + 0.015*\"espaçar\" + 0.014*\"metrô\" + 0.014*\"tranquilo\" + 0.014*\"cidade\" + 0.013*\"praia\" + 0.013*\"centrar\"'), (11, '0.032*\"apartamento\" + 0.031*\"cozinhar\" + 0.025*\"ar\" + 0.023*\"banheiro\" + 0.021*\"condicionar\" + 0.019*\"funcionar\" + 0.015*\"chuveiro\" + 0.013*\"cama\" + 0.012*\"sala\" + 0.012*\"utensílio\"'), (12, '0.061*\"aptar\" + 0.042*\"localizar\" + 0.038*\"super\" + 0.037*\"foto\" + 0.035*\"recomendar\" + 0.033*\"limpar\" + 0.031*\"atencioso\" + 0.023*\"estadia\" + 0.022*\"responder\" + 0.021*\"apartamento\"')] \n",
      "\n",
      "Number of topics =  13\n",
      "Number of passes =  5 \n",
      "\n",
      "[(0, '0.110*\"rápido\" + 0.069*\"responder\" + 0.068*\"check\" + 0.046*\"in\" + 0.042*\"horário\" + 0.040*\"respostar\" + 0.040*\"flexível\" + 0.037*\"check-in\" + 0.027*\"out\" + 0.023*\"mensagem\"'), (1, '0.062*\"fácil\" + 0.054*\"acesso\" + 0.028*\"rir\" + 0.026*\"espaçar\" + 0.023*\"centrar\" + 0.021*\"metrô\" + 0.020*\"bairro\" + 0.019*\"tranquilo\" + 0.018*\"transportar\" + 0.017*\"cidade\"'), (2, '0.048*\"apartamento\" + 0.032*\"dúvida\" + 0.032*\"foto\" + 0.030*\"atender\" + 0.030*\"ajudar\" + 0.029*\"anfitrião\" + 0.027*\"valer\" + 0.026*\"localizar\" + 0.026*\"atencioso\" + 0.025*\"expectativa\"'), (3, '0.077*\"visto\" + 0.032*\"maravilhoso\" + 0.028*\"condomínio\" + 0.027*\"incrível\" + 0.025*\"noto\" + 0.024*\"lindo\" + 0.023*\"piscina\" + 0.021*\"10\" + 0.018*\"barrir\" + 0.015*\"flat\"'), (4, '0.035*\"problema\" + 0.028*\"ter\" + 0.020*\"ficar\" + 0.019*\"chegar\" + 0.016*\"haver\" + 0.016*\"anfitrião\" + 0.015*\"casar\" + 0.015*\"ser\" + 0.015*\"resolver\" + 0.015*\"dia\"'), (5, '0.086*\"dica\" + 0.081*\"dar\" + 0.029*\"ana\" + 0.027*\"ajudar\" + 0.021*\"lugar\" + 0.019*\"apt\" + 0.019*\"locar\" + 0.018*\"otimo\" + 0.015*\"ótimas\" + 0.015*\"variar\"'), (6, '0.076*\"localização\" + 0.068*\"apartamento\" + 0.060*\"excelente\" + 0.053*\"ótima\" + 0.049*\"recomendar\" + 0.047*\"super\" + 0.045*\"limpar\" + 0.043*\"anfitrião\" + 0.036*\"atencioso\" + 0.028*\"ótimo\"'), (7, '0.083*\"praia\" + 0.050*\"restaurante\" + 0.049*\"apartamento\" + 0.032*\"localização\" + 0.032*\"metrô\" + 0.028*\"mercar\" + 0.028*\"bar\" + 0.025*\"supermercado\" + 0.023*\"farmácia\" + 0.020*\"ficar\"'), (8, '0.108*\"host\" + 0.039*\"the\" + 0.035*\"and\" + 0.025*\"to\" + 0.021*\"clean\" + 0.018*\"joana\" + 0.017*\"is\" + 0.016*\"hosts\" + 0.014*\"in\" + 0.014*\"so\"'), (9, '0.050*\"cama\" + 0.033*\"cozinhar\" + 0.030*\"apartamento\" + 0.025*\"banheiro\" + 0.024*\"ar\" + 0.023*\"roupar\" + 0.020*\"condicionar\" + 0.017*\"chuveiro\" + 0.015*\"utensílio\" + 0.014*\"toalha\"'), (10, '0.059*\"rir\" + 0.035*\"ficar\" + 0.031*\"dia\" + 0.028*\"passar\" + 0.027*\"melhor\" + 0.021*\"café\" + 0.018*\"janeiro\" + 0.017*\"hospedar\" + 0.015*\"manhã\" + 0.015*\"apartamento\"'), (11, '0.087*\"prédio\" + 0.051*\"portar\" + 0.045*\"ruir\" + 0.042*\"porteiro\" + 0.020*\"barulhar\" + 0.019*\"horar\" + 0.019*\"tranquilo\" + 0.016*\"noite\" + 0.016*\"ficar\" + 0.016*\"24h\"'), (12, '0.058*\"casar\" + 0.043*\"super\" + 0.036*\"voltar\" + 0.027*\"sentir\" + 0.023*\"maravilhoso\" + 0.020*\"ficar\" + 0.020*\"recomendar\" + 0.020*\"incrível\" + 0.019*\"anfitrião\" + 0.018*\"deixar\"')] \n",
      "\n",
      "Number of topics =  14\n",
      "Number of passes =  1 \n",
      "\n",
      "[(0, '0.101*\"super\" + 0.080*\"localizar\" + 0.070*\"apartamento\" + 0.056*\"limpar\" + 0.055*\"recomendar\" + 0.044*\"atencioso\" + 0.034*\"anfitrião\" + 0.029*\"ótimo\" + 0.024*\"aconchegante\" + 0.023*\"espaçar\"'), (1, '0.056*\"visto\" + 0.053*\"cama\" + 0.039*\"apartamento\" + 0.033*\"valer\" + 0.028*\"peno\" + 0.027*\"roupar\" + 0.023*\"confortável\" + 0.020*\"excelente\" + 0.020*\"limpo\" + 0.020*\"lindo\"'), (2, '0.058*\"responder\" + 0.057*\"dúvida\" + 0.042*\"ajudar\" + 0.042*\"check\" + 0.041*\"apartamento\" + 0.028*\"in\" + 0.027*\"anfitrião\" + 0.026*\"foto\" + 0.025*\"atencioso\" + 0.021*\"recomendar\"'), (3, '0.033*\"praia\" + 0.028*\"metrô\" + 0.027*\"ficar\" + 0.022*\"restaurante\" + 0.017*\"apartamento\" + 0.015*\"ruir\" + 0.015*\"acesso\" + 0.014*\"tranquilo\" + 0.014*\"mercar\" + 0.013*\"bar\"'), (4, '0.028*\"problema\" + 0.024*\"ficar\" + 0.020*\"ter\" + 0.019*\"dia\" + 0.015*\"apartamento\" + 0.013*\"chegar\" + 0.013*\"haver\" + 0.013*\"ser\" + 0.011*\"único\" + 0.010*\"dormir\"'), (5, '0.093*\"localização\" + 0.075*\"ótima\" + 0.053*\"excelente\" + 0.048*\"anfitrião\" + 0.038*\"apartamento\" + 0.036*\"voltar\" + 0.036*\"atencioso\" + 0.035*\"limpar\" + 0.033*\"recomendar\" + 0.030*\"super\"'), (6, '0.061*\"praia\" + 0.041*\"apartamento\" + 0.041*\"restaurante\" + 0.026*\"localização\" + 0.023*\"copacabana\" + 0.023*\"bar\" + 0.020*\"mercar\" + 0.020*\"farmácia\" + 0.020*\"supermercado\" + 0.019*\"ficar\"'), (7, '0.108*\"expectativa\" + 0.107*\"atender\" + 0.067*\"superar\" + 0.043*\"necessidade\" + 0.036*\"mto\" + 0.022*\"márcio\" + 0.021*\"ricardo\" + 0.021*\"grato\" + 0.016*\"show\" + 0.014*\"bolar\"'), (8, '0.038*\"ar\" + 0.034*\"cozinhar\" + 0.032*\"condicionar\" + 0.023*\"apartamento\" + 0.019*\"banheiro\" + 0.015*\"utensílio\" + 0.015*\"pequeno\" + 0.014*\"funcionar\" + 0.014*\"item\" + 0.013*\"haver\"'), (9, '0.099*\"host\" + 0.038*\"the\" + 0.034*\"and\" + 0.025*\"to\" + 0.022*\"clean\" + 0.017*\"is\" + 0.016*\"hosts\" + 0.014*\"in\" + 0.014*\"so\" + 0.013*\"very\"'), (10, '0.059*\"rápido\" + 0.040*\"respostar\" + 0.038*\"check-in\" + 0.034*\"café\" + 0.033*\"horário\" + 0.027*\"manhã\" + 0.026*\"acomodação\" + 0.026*\"flexível\" + 0.019*\"check-out\" + 0.017*\"ótimas\"'), (11, '0.026*\"apartamento\" + 0.021*\"voltar\" + 0.020*\"cuidar\" + 0.019*\"detalhe\" + 0.015*\"ana\" + 0.015*\"ficar\" + 0.014*\"melhor\" + 0.014*\"caro\" + 0.013*\"super\" + 0.011*\"atenção\"'), (12, '0.053*\"casar\" + 0.032*\"rir\" + 0.025*\"sentir\" + 0.024*\"ficar\" + 0.021*\"voltar\" + 0.019*\"dica\" + 0.017*\"dar\" + 0.017*\"maravilhoso\" + 0.015*\"melhor\" + 0.014*\"pessoa\"'), (13, '0.114*\"excelente\" + 0.091*\"localização\" + 0.052*\"apartamento\" + 0.038*\"ótimo\" + 0.034*\"recomendar\" + 0.033*\"ótima\" + 0.028*\"custar\" + 0.026*\"limpeza\" + 0.023*\"praia\" + 0.021*\"hospitalidade\"')] \n",
      "\n",
      "Number of topics =  14\n",
      "Number of passes =  2 \n",
      "\n",
      "[(0, '0.147*\"visto\" + 0.060*\"custar\" + 0.049*\"lindo\" + 0.046*\"bonito\" + 0.044*\"benefício\" + 0.040*\"maravilhoso\" + 0.029*\"apartamento\" + 0.028*\"mar\" + 0.026*\"flat\" + 0.021*\"otimo\"'), (1, '0.028*\"problema\" + 0.027*\"apartamento\" + 0.024*\"check\" + 0.019*\"ficar\" + 0.017*\"in\" + 0.015*\"horário\" + 0.014*\"haver\" + 0.014*\"ter\" + 0.014*\"chegar\" + 0.013*\"dia\"'), (2, '0.023*\"melhor\" + 0.021*\"experiência\" + 0.021*\"hóspede\" + 0.017*\"ser\" + 0.017*\"detalhe\" + 0.016*\"anfitrião\" + 0.016*\"airbnb\" + 0.015*\"apartamento\" + 0.014*\"poder\" + 0.014*\"ter\"'), (3, '0.077*\"apartamento\" + 0.074*\"limpar\" + 0.070*\"super\" + 0.051*\"atencioso\" + 0.051*\"recomendar\" + 0.050*\"localizar\" + 0.047*\"anfitrião\" + 0.033*\"excelente\" + 0.033*\"localização\" + 0.026*\"ótima\"'), (4, '0.058*\"casar\" + 0.027*\"café\" + 0.023*\"ficar\" + 0.019*\"manhã\" + 0.017*\"ana\" + 0.016*\"sentir\" + 0.016*\"dia\" + 0.015*\"espaçar\" + 0.010*\"gostar\" + 0.010*\"lapa\"'), (5, '0.088*\"praia\" + 0.059*\"restaurante\" + 0.050*\"apartamento\" + 0.036*\"metrô\" + 0.033*\"mercar\" + 0.032*\"bar\" + 0.031*\"localização\" + 0.029*\"supermercado\" + 0.027*\"farmácia\" + 0.023*\"copacabana\"'), (6, '0.095*\"host\" + 0.034*\"the\" + 0.031*\"and\" + 0.022*\"to\" + 0.019*\"clean\" + 0.015*\"is\" + 0.015*\"cesar\" + 0.014*\"hosts\" + 0.013*\"in\" + 0.012*\"priscila\"'), (7, '0.056*\"super\" + 0.046*\"casar\" + 0.031*\"atencioso\" + 0.026*\"pessoa\" + 0.025*\"deixar\" + 0.025*\"vontade\" + 0.025*\"voltar\" + 0.024*\"recomendar\" + 0.023*\"anfitrião\" + 0.023*\"sentir\"'), (8, '0.054*\"voltar\" + 0.038*\"maravilhoso\" + 0.037*\"incrível\" + 0.030*\"hospitalidade\" + 0.029*\"localização\" + 0.026*\"apartamento\" + 0.022*\"excelente\" + 0.021*\"recomendar\" + 0.020*\"impecável\" + 0.020*\"expectativa\"'), (9, '0.148*\"localização\" + 0.106*\"ótima\" + 0.101*\"excelente\" + 0.052*\"ótimo\" + 0.052*\"aptar\" + 0.040*\"espaçar\" + 0.040*\"recomendar\" + 0.035*\"apartamento\" + 0.030*\"anfitrião\" + 0.028*\"valer\"'), (10, '0.072*\"cama\" + 0.047*\"cozinhar\" + 0.034*\"ar\" + 0.033*\"roupar\" + 0.029*\"banheiro\" + 0.029*\"condicionar\" + 0.021*\"apartamento\" + 0.020*\"toalha\" + 0.018*\"confortável\" + 0.017*\"chuveiro\"'), (11, '0.037*\"apartamento\" + 0.035*\"rápido\" + 0.031*\"responder\" + 0.030*\"foto\" + 0.029*\"condomínio\" + 0.023*\"excelente\" + 0.020*\"dúvida\" + 0.020*\"atencioso\" + 0.017*\"respostar\" + 0.016*\"atender\"'), (12, '0.094*\"rir\" + 0.065*\"dica\" + 0.060*\"dar\" + 0.037*\"janeiro\" + 0.030*\"cidade\" + 0.023*\"ficar\" + 0.022*\"lugar\" + 0.015*\"opção\" + 0.015*\"conhecer\" + 0.014*\"preço\"'), (13, '0.060*\"fácil\" + 0.052*\"acesso\" + 0.028*\"praia\" + 0.027*\"shopping\" + 0.024*\"tranquilo\" + 0.024*\"metrô\" + 0.023*\"ficar\" + 0.017*\"transportar\" + 0.015*\"bairro\" + 0.014*\"espaçar\"')] \n",
      "\n",
      "Number of topics =  14\n",
      "Number of passes =  3 \n",
      "\n"
     ]
    },
    {
     "name": "stdout",
     "output_type": "stream",
     "text": [
      "[(0, '0.059*\"condomínio\" + 0.041*\"visto\" + 0.040*\"acomodação\" + 0.040*\"flat\" + 0.039*\"piscina\" + 0.024*\"serviço\" + 0.022*\"hotel\" + 0.021*\"imóvel\" + 0.021*\"possuir\" + 0.018*\"varanda\"'), (1, '0.081*\"host\" + 0.049*\"top\" + 0.038*\"custo-benefício\" + 0.029*\"the\" + 0.026*\"and\" + 0.023*\"recém\" + 0.019*\"arena\" + 0.019*\"fofar\" + 0.018*\"to\" + 0.017*\"marcia\"'), (2, '0.035*\"problema\" + 0.025*\"apartamento\" + 0.018*\"foto\" + 0.016*\"atender\" + 0.015*\"ficar\" + 0.014*\"anúncio\" + 0.014*\"resolver\" + 0.014*\"pequeno\" + 0.014*\"espaçar\" + 0.013*\"anfitrião\"'), (3, '0.074*\"praia\" + 0.051*\"restaurante\" + 0.042*\"metrô\" + 0.041*\"apartamento\" + 0.028*\"mercar\" + 0.028*\"bar\" + 0.027*\"localização\" + 0.025*\"supermercado\" + 0.023*\"farmácia\" + 0.020*\"ficar\"'), (4, '0.072*\"apartamento\" + 0.052*\"localização\" + 0.041*\"atencioso\" + 0.040*\"ótima\" + 0.040*\"limpar\" + 0.038*\"excelente\" + 0.037*\"anfitrião\" + 0.029*\"responder\" + 0.029*\"recomendar\" + 0.029*\"rápido\"'), (5, '0.052*\"rir\" + 0.038*\"dica\" + 0.036*\"dar\" + 0.026*\"valer\" + 0.025*\"melhor\" + 0.022*\"peno\" + 0.022*\"ficar\" + 0.020*\"janeiro\" + 0.018*\"anfitrião\" + 0.018*\"noto\"'), (6, '0.104*\"super\" + 0.068*\"limpar\" + 0.061*\"localizar\" + 0.058*\"recomendar\" + 0.052*\"apartamento\" + 0.044*\"atencioso\" + 0.038*\"anfitrião\" + 0.029*\"espaçar\" + 0.029*\"organizar\" + 0.029*\"ótimo\"'), (7, '0.029*\"check\" + 0.022*\"chegar\" + 0.020*\"ter\" + 0.019*\"in\" + 0.018*\"horário\" + 0.017*\"sair\" + 0.015*\"dia\" + 0.015*\"check-in\" + 0.015*\"ficar\" + 0.015*\"deixar\"'), (8, '0.167*\"localização\" + 0.113*\"excelente\" + 0.109*\"ótima\" + 0.057*\"apartamento\" + 0.040*\"recomendar\" + 0.036*\"anfitrião\" + 0.035*\"ótimo\" + 0.026*\"espaçar\" + 0.026*\"hospitalidade\" + 0.021*\"expectativa\"'), (9, '0.090*\"fácil\" + 0.078*\"acesso\" + 0.032*\"centrar\" + 0.026*\"rir\" + 0.026*\"estiloso\" + 0.021*\"opção\" + 0.019*\"lapa\" + 0.019*\"barrir\" + 0.018*\"transportar\" + 0.017*\"cidade\"'), (10, '0.065*\"cama\" + 0.043*\"cozinhar\" + 0.033*\"banheiro\" + 0.031*\"ar\" + 0.030*\"roupar\" + 0.030*\"apartamento\" + 0.026*\"condicionar\" + 0.022*\"chuveiro\" + 0.019*\"toalha\" + 0.016*\"banhar\"'), (11, '0.153*\"casar\" + 0.089*\"deixar\" + 0.068*\"sentir\" + 0.067*\"vontade\" + 0.038*\"café\" + 0.026*\"manhã\" + 0.026*\"anfitrião\" + 0.021*\"limpo\" + 0.020*\"simpático\" + 0.014*\"comunicativo\"'), (12, '0.040*\"voltar\" + 0.031*\"casar\" + 0.027*\"maravilhoso\" + 0.024*\"ficar\" + 0.021*\"incrível\" + 0.021*\"super\" + 0.018*\"pessoa\" + 0.016*\"hospedar\" + 0.014*\"agradecer\" + 0.014*\"amar\"'), (13, '0.046*\"praia\" + 0.034*\"ap\" + 0.031*\"ficar\" + 0.028*\"copacabana\" + 0.025*\"aptar\" + 0.019*\"ipanema\" + 0.016*\"otima\" + 0.016*\"apt\" + 0.016*\"otimo\" + 0.013*\"minuto\"')] \n",
      "\n",
      "Number of topics =  14\n",
      "Number of passes =  4 \n",
      "\n",
      "[(0, '0.080*\"cama\" + 0.048*\"cozinhar\" + 0.038*\"ar\" + 0.037*\"roupar\" + 0.032*\"condicionar\" + 0.030*\"apartamento\" + 0.028*\"banheiro\" + 0.024*\"utensílio\" + 0.023*\"confortável\" + 0.023*\"toalha\"'), (1, '0.060*\"super\" + 0.045*\"atencioso\" + 0.042*\"anfitrião\" + 0.032*\"ajudar\" + 0.030*\"recomendar\" + 0.027*\"apartamento\" + 0.023*\"estadia\" + 0.023*\"simpático\" + 0.023*\"limpar\" + 0.023*\"educar\"'), (2, '0.155*\"localização\" + 0.097*\"ótima\" + 0.092*\"excelente\" + 0.059*\"apartamento\" + 0.039*\"anfitrião\" + 0.034*\"recomendar\" + 0.025*\"atencioso\" + 0.024*\"limpar\" + 0.020*\"ótimo\" + 0.020*\"espaçar\"'), (3, '0.046*\"rir\" + 0.037*\"ficar\" + 0.022*\"dia\" + 0.020*\"melhor\" + 0.017*\"hospedar\" + 0.016*\"apartamento\" + 0.016*\"passar\" + 0.015*\"ser\" + 0.013*\"janeiro\" + 0.013*\"voltar\"'), (4, '0.097*\"host\" + 0.048*\"cômodos\" + 0.035*\"the\" + 0.031*\"and\" + 0.025*\"in\" + 0.022*\"to\" + 0.019*\"clean\" + 0.016*\"simone\" + 0.016*\"cris\" + 0.015*\"is\"'), (5, '0.025*\"problema\" + 0.018*\"haver\" + 0.017*\"ficar\" + 0.017*\"apartamento\" + 0.016*\"deixar\" + 0.016*\"ter\" + 0.013*\"prédio\" + 0.012*\"dia\" + 0.012*\"único\" + 0.011*\"pequeno\"'), (6, '0.072*\"hospitalidade\" + 0.050*\"expectativa\" + 0.049*\"atender\" + 0.047*\"custar\" + 0.039*\"noto\" + 0.037*\"excelente\" + 0.035*\"benefício\" + 0.031*\"superar\" + 0.030*\"10\" + 0.023*\"necessidade\"'), (7, '0.066*\"praia\" + 0.058*\"metrô\" + 0.044*\"copacabana\" + 0.036*\"ficar\" + 0.036*\"apartamento\" + 0.026*\"estação\" + 0.024*\"ruir\" + 0.023*\"ônibus\" + 0.021*\"localizar\" + 0.021*\"ipanema\"'), (8, '0.055*\"apt\" + 0.054*\"otima\" + 0.053*\"otimo\" + 0.033*\"nao\" + 0.029*\"localizacao\" + 0.029*\"proximo\" + 0.026*\"luciana\" + 0.024*\"pai\" + 0.024*\"flamengo\" + 0.019*\"experiencia\"'), (9, '0.053*\"responder\" + 0.053*\"rápido\" + 0.046*\"foto\" + 0.036*\"apartamento\" + 0.032*\"check\" + 0.024*\"dúvida\" + 0.023*\"anfitrião\" + 0.021*\"in\" + 0.020*\"horário\" + 0.019*\"respostar\"'), (10, '0.087*\"fácil\" + 0.075*\"acesso\" + 0.035*\"tranquilo\" + 0.032*\"bairro\" + 0.032*\"centrar\" + 0.030*\"espaçar\" + 0.026*\"rir\" + 0.025*\"transportar\" + 0.023*\"lapa\" + 0.019*\"opção\"'), (11, '0.099*\"super\" + 0.072*\"apartamento\" + 0.065*\"limpar\" + 0.065*\"localizar\" + 0.054*\"recomendar\" + 0.042*\"atencioso\" + 0.038*\"voltar\" + 0.033*\"ótimo\" + 0.032*\"anfitrião\" + 0.030*\"espaçar\"'), (12, '0.089*\"casar\" + 0.040*\"sentir\" + 0.031*\"maravilhoso\" + 0.027*\"voltar\" + 0.026*\"incrível\" + 0.023*\"visto\" + 0.017*\"lindo\" + 0.015*\"ficar\" + 0.014*\"pessoa\" + 0.013*\"amar\"'), (13, '0.090*\"praia\" + 0.070*\"restaurante\" + 0.047*\"localização\" + 0.040*\"bar\" + 0.040*\"apartamento\" + 0.037*\"mercar\" + 0.033*\"farmácia\" + 0.031*\"supermercado\" + 0.028*\"excelente\" + 0.023*\"padaria\"')] \n",
      "\n",
      "Number of topics =  14\n",
      "Number of passes =  5 \n",
      "\n",
      "[(0, '0.032*\"voltar\" + 0.032*\"ficar\" + 0.030*\"casar\" + 0.029*\"rir\" + 0.025*\"melhor\" + 0.021*\"hospedar\" + 0.018*\"pessoa\" + 0.017*\"sentir\" + 0.017*\"deixar\" + 0.016*\"experiência\"'), (1, '0.037*\"acesso\" + 0.036*\"fácil\" + 0.033*\"rir\" + 0.023*\"ficar\" + 0.021*\"praia\" + 0.020*\"metrô\" + 0.019*\"espaçar\" + 0.017*\"tranquilo\" + 0.015*\"localizar\" + 0.015*\"centrar\"'), (2, '0.043*\"cama\" + 0.039*\"cozinhar\" + 0.033*\"ar\" + 0.033*\"apartamento\" + 0.030*\"banheiro\" + 0.028*\"condicionar\" + 0.022*\"chuveiro\" + 0.021*\"funcionar\" + 0.021*\"confortável\" + 0.017*\"sala\"'), (3, '0.092*\"praia\" + 0.061*\"restaurante\" + 0.051*\"apartamento\" + 0.041*\"localização\" + 0.034*\"metrô\" + 0.034*\"mercar\" + 0.034*\"bar\" + 0.030*\"supermercado\" + 0.028*\"farmácia\" + 0.023*\"excelente\"'), (4, '0.154*\"localização\" + 0.113*\"excelente\" + 0.093*\"ótima\" + 0.060*\"apartamento\" + 0.050*\"recomendar\" + 0.043*\"anfitrião\" + 0.037*\"ótimo\" + 0.028*\"espaçar\" + 0.022*\"atencioso\" + 0.020*\"limpar\"'), (5, '0.106*\"limpeza\" + 0.066*\"impecável\" + 0.057*\"cama\" + 0.047*\"roupar\" + 0.031*\"qualidade\" + 0.030*\"flat\" + 0.030*\"toalha\" + 0.029*\"utensílio\" + 0.026*\"item\" + 0.022*\"limpo\"'), (6, '0.117*\"casar\" + 0.098*\"visto\" + 0.069*\"maravilhoso\" + 0.046*\"incrível\" + 0.044*\"sentir\" + 0.040*\"lindo\" + 0.021*\"aconchegante\" + 0.021*\"espaçar\" + 0.019*\"decoração\" + 0.019*\"limpo\"'), (7, '0.090*\"super\" + 0.059*\"apartamento\" + 0.058*\"limpar\" + 0.048*\"localizar\" + 0.044*\"atencioso\" + 0.041*\"recomendar\" + 0.039*\"anfitrião\" + 0.032*\"voltar\" + 0.027*\"organizar\" + 0.020*\"estadia\"'), (8, '0.061*\"atender\" + 0.056*\"condomínio\" + 0.048*\"expectativa\" + 0.032*\"piscina\" + 0.030*\"superar\" + 0.026*\"necessidade\" + 0.026*\"barrir\" + 0.018*\"hotel\" + 0.014*\"localidade\" + 0.013*\"estruturar\"'), (9, '0.084*\"responder\" + 0.078*\"rápido\" + 0.048*\"check\" + 0.039*\"dúvida\" + 0.032*\"in\" + 0.030*\"horário\" + 0.028*\"respostar\" + 0.028*\"flexível\" + 0.026*\"comunicação\" + 0.026*\"check-in\"'), (10, '0.061*\"café\" + 0.056*\"noto\" + 0.047*\"10\" + 0.039*\"manhã\" + 0.025*\"otima\" + 0.025*\"otimo\" + 0.018*\"apt\" + 0.015*\"nao\" + 0.015*\"móvel\" + 0.014*\"show\"'), (11, '0.027*\"problema\" + 0.025*\"ficar\" + 0.021*\"apartamento\" + 0.020*\"ter\" + 0.019*\"haver\" + 0.019*\"dia\" + 0.014*\"chegar\" + 0.012*\"ser\" + 0.010*\"entrar\" + 0.010*\"deixar\"'), (12, '0.061*\"dar\" + 0.061*\"dica\" + 0.059*\"foto\" + 0.034*\"apartamento\" + 0.025*\"anúncio\" + 0.025*\"descrever\" + 0.025*\"anfitrião\" + 0.022*\"mostrar\" + 0.021*\"ótimas\" + 0.020*\"atencioso\"'), (13, '0.093*\"host\" + 0.034*\"the\" + 0.030*\"and\" + 0.021*\"to\" + 0.019*\"clean\" + 0.016*\"doce\" + 0.015*\"is\" + 0.014*\"hosts\" + 0.013*\"in\" + 0.012*\"mercadinhos\"')] \n",
      "\n"
     ]
    }
   ],
   "source": [
    "num_topics = range(5, 15)\n",
    "passes = range(1, 6)\n",
    "\n",
    "lda_models = {}\n",
    "\n",
    "for n in num_topics:\n",
    "    for p in passes:\n",
    "        print('Number of topics = ', n)\n",
    "        print('Number of passes = ', p, '\\n')\n",
    "        lda = LdaModel(corpus = doc_term_matrix, \n",
    "                       id2word = dictionary, \n",
    "                       num_topics = n, \n",
    "                       passes = p)\n",
    "        lda_models[str(n) + '_' + str(p)] = lda\n",
    "\n",
    "        print(lda.print_topics(), '\\n')"
   ]
  }
 ],
 "metadata": {
  "kernelspec": {
   "display_name": "Python 3",
   "language": "python",
   "name": "python3"
  },
  "language_info": {
   "codemirror_mode": {
    "name": "ipython",
    "version": 3
   },
   "file_extension": ".py",
   "mimetype": "text/x-python",
   "name": "python",
   "nbconvert_exporter": "python",
   "pygments_lexer": "ipython3",
   "version": "3.7.3"
  }
 },
 "nbformat": 4,
 "nbformat_minor": 2
}
