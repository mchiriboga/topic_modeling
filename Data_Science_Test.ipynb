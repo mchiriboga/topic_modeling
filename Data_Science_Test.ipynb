{
 "cells": [
  {
   "cell_type": "code",
   "execution_count": 1,
   "metadata": {},
   "outputs": [],
   "source": [
    "# Importa as bibliotecas necessárias\n",
    "import gensim\n",
    "import gensim.corpora as corpora\n",
    "import pandas as pd\n",
    "import re\n",
    "import spacy\n",
    "\n",
    "from gensim.models import LdaModel\n",
    "from langdetect import detect, DetectorFactory\n",
    "DetectorFactory.seed = 0\n",
    "from tqdm import tqdm\n",
    "tqdm.pandas()"
   ]
  },
  {
   "cell_type": "code",
   "execution_count": 14,
   "metadata": {},
   "outputs": [],
   "source": [
    "# Carrega o dataset referente às reviews do Airbnb Rio de Janeiro\n",
    "reviews = pd.read_csv(\"data/reviews.csv\")"
   ]
  },
  {
   "cell_type": "code",
   "execution_count": 15,
   "metadata": {},
   "outputs": [
    {
     "data": {
      "text/html": [
       "<div>\n",
       "<style scoped>\n",
       "    .dataframe tbody tr th:only-of-type {\n",
       "        vertical-align: middle;\n",
       "    }\n",
       "\n",
       "    .dataframe tbody tr th {\n",
       "        vertical-align: top;\n",
       "    }\n",
       "\n",
       "    .dataframe thead th {\n",
       "        text-align: right;\n",
       "    }\n",
       "</style>\n",
       "<table border=\"1\" class=\"dataframe\">\n",
       "  <thead>\n",
       "    <tr style=\"text-align: right;\">\n",
       "      <th></th>\n",
       "      <th>listing_id</th>\n",
       "      <th>id</th>\n",
       "      <th>date</th>\n",
       "      <th>reviewer_id</th>\n",
       "      <th>reviewer_name</th>\n",
       "      <th>comments</th>\n",
       "    </tr>\n",
       "  </thead>\n",
       "  <tbody>\n",
       "    <tr>\n",
       "      <th>0</th>\n",
       "      <td>17878</td>\n",
       "      <td>64852</td>\n",
       "      <td>2010-07-15</td>\n",
       "      <td>135370</td>\n",
       "      <td>Tia</td>\n",
       "      <td>This apartment is in a perfect location -- two...</td>\n",
       "    </tr>\n",
       "    <tr>\n",
       "      <th>1</th>\n",
       "      <td>17878</td>\n",
       "      <td>76744</td>\n",
       "      <td>2010-08-11</td>\n",
       "      <td>10206</td>\n",
       "      <td>Mimi</td>\n",
       "      <td>we had a really great experience staying in Ma...</td>\n",
       "    </tr>\n",
       "    <tr>\n",
       "      <th>2</th>\n",
       "      <td>17878</td>\n",
       "      <td>91074</td>\n",
       "      <td>2010-09-06</td>\n",
       "      <td>80253</td>\n",
       "      <td>Jan</td>\n",
       "      <td>Staying in Max appartment is like living in a ...</td>\n",
       "    </tr>\n",
       "    <tr>\n",
       "      <th>3</th>\n",
       "      <td>17878</td>\n",
       "      <td>137528</td>\n",
       "      <td>2010-11-12</td>\n",
       "      <td>230449</td>\n",
       "      <td>Orene</td>\n",
       "      <td>In general very good and reasonable price.\\r\\n...</td>\n",
       "    </tr>\n",
       "    <tr>\n",
       "      <th>4</th>\n",
       "      <td>17878</td>\n",
       "      <td>147594</td>\n",
       "      <td>2010-12-01</td>\n",
       "      <td>219338</td>\n",
       "      <td>David</td>\n",
       "      <td>The apt was nice and in a great location only ...</td>\n",
       "    </tr>\n",
       "  </tbody>\n",
       "</table>\n",
       "</div>"
      ],
      "text/plain": [
       "   listing_id      id        date  reviewer_id reviewer_name  \\\n",
       "0       17878   64852  2010-07-15       135370           Tia   \n",
       "1       17878   76744  2010-08-11        10206          Mimi   \n",
       "2       17878   91074  2010-09-06        80253           Jan   \n",
       "3       17878  137528  2010-11-12       230449         Orene   \n",
       "4       17878  147594  2010-12-01       219338         David   \n",
       "\n",
       "                                            comments  \n",
       "0  This apartment is in a perfect location -- two...  \n",
       "1  we had a really great experience staying in Ma...  \n",
       "2  Staying in Max appartment is like living in a ...  \n",
       "3  In general very good and reasonable price.\\r\\n...  \n",
       "4  The apt was nice and in a great location only ...  "
      ]
     },
     "execution_count": 15,
     "metadata": {},
     "output_type": "execute_result"
    }
   ],
   "source": [
    "# Apresenta as primeiras 5 reviews\n",
    "reviews.head(5)"
   ]
  },
  {
   "cell_type": "code",
   "execution_count": 4,
   "metadata": {},
   "outputs": [
    {
     "name": "stdout",
     "output_type": "stream",
     "text": [
      "<class 'pandas.core.frame.DataFrame'>\n",
      "RangeIndex: 292516 entries, 0 to 292515\n",
      "Data columns (total 7 columns):\n",
      "listing_id       292516 non-null int64\n",
      "id               292516 non-null int64\n",
      "date             292516 non-null object\n",
      "reviewer_id      292516 non-null int64\n",
      "reviewer_name    292516 non-null object\n",
      "comments         292446 non-null object\n",
      "language         292076 non-null object\n",
      "dtypes: int64(3), object(4)\n",
      "memory usage: 15.6+ MB\n"
     ]
    }
   ],
   "source": [
    "reviews.info()"
   ]
  },
  {
   "cell_type": "code",
   "execution_count": 5,
   "metadata": {},
   "outputs": [],
   "source": [
    "# Converte coluna comments para string\n",
    "reviews[\"comments\"] = reviews[\"comments\"].astype(str)"
   ]
  },
  {
   "cell_type": "code",
   "execution_count": null,
   "metadata": {},
   "outputs": [],
   "source": [
    "# Adiciona coluna com idioma da review\n",
    "def try_detect_language(text):\n",
    "    \"\"\"\n",
    "    Dado uma string text, tenta obter o idioma predominante.\n",
    "    \n",
    "    Argumentos:\n",
    "    text -- (str) o texto para o qual se deseja detectar o idioma\n",
    "    Retorna: (str) o código do idioma (e.g. 'en' para inglês). \n",
    "             Retorna uma string vazia caso não seja possível detectar o idioma\n",
    "    \"\"\"\n",
    "    try:\n",
    "        return detect(text)\n",
    "    except:\n",
    "        return \"\"\n",
    "\n",
    "reviews[\"language\"] = reviews[\"comments\"].apply(try_detect_language)"
   ]
  },
  {
   "cell_type": "code",
   "execution_count": null,
   "metadata": {
    "scrolled": true
   },
   "outputs": [],
   "source": [
    "# Verifica total de reviews para cada idioma identificado\n",
    "reviews.language.value_counts().head()"
   ]
  },
  {
   "cell_type": "markdown",
   "metadata": {},
   "source": [
    "## Preprocessamento dos Dados"
   ]
  },
  {
   "cell_type": "code",
   "execution_count": 6,
   "metadata": {},
   "outputs": [],
   "source": [
    "nlp_pt = spacy.load(\"pt\")\n",
    "\n",
    "def preprocess(text, \n",
    "               min_token_len = 2, \n",
    "               irrelevant_pos = ['ADV','PRON','CCONJ','PUNCT','PART','DET','ADP','SPACE'],\n",
    "               nlp = nlp_pt): \n",
    "    \"\"\"\n",
    "    Dado text, min_token_len, e irrelevant_pos, faz o preprocessamento do texto\n",
    "    \n",
    "    Argumentos:\n",
    "    text -- (str) texto a ser pré-processado\n",
    "    min_token_len -- (int) o menor comprimento de token a ser considerado\n",
    "    irrelevant_pos -- (list) lista as classes gramaticais a serem ignoradas\n",
    "    \n",
    "    Retorna: (str) texto pré processado\n",
    "    \"\"\"\n",
    "    \n",
    "    # Converte todo os texto para apenas caractéres minúsculos\n",
    "    text = text.lower()\n",
    "    \n",
    "    # Remove termos utilizados pelo airbnb para ocultar informações\n",
    "    text = re.sub(r'\\((.*hidden by airbnb)\\)', \"\", text)\n",
    "    \n",
    "    # Processa o texto usando spacy\n",
    "    doc = nlp(text)\n",
    "    \n",
    "    preprocessed = []\n",
    "    \n",
    "    # Remove stop words, pontuação, tokens menores que min_token_len e tokens cuja \n",
    "    # classe gramatical identificada é irrelavante para análise\n",
    "    for token in doc:\n",
    "        if not token.is_stop and not token.is_punct and len(token) >= min_token_len and token.pos_ not in irrelevant_pos:\n",
    "            # Armazena o lemma do token na variável de saída\n",
    "            preprocessed.append(token.lemma_)\n",
    "            \n",
    "    return \" \".join(preprocessed)\n",
    "\n",
    "def preprocess_pt(text):\n",
    "    return preprocess(text, nlp = nlp_pt)"
   ]
  },
  {
   "cell_type": "code",
   "execution_count": 7,
   "metadata": {},
   "outputs": [],
   "source": [
    "reviews_pt = reviews[reviews.language == \"pt\"]"
   ]
  },
  {
   "cell_type": "code",
   "execution_count": 8,
   "metadata": {
    "scrolled": true
   },
   "outputs": [
    {
     "name": "stderr",
     "output_type": "stream",
     "text": [
      "100%|██████████| 138315/138315 [1:07:43<00:00, 34.04it/s]    \n",
      "/Users/marcelle/anaconda3/lib/python3.7/site-packages/ipykernel_launcher.py:1: SettingWithCopyWarning: \n",
      "A value is trying to be set on a copy of a slice from a DataFrame.\n",
      "Try using .loc[row_indexer,col_indexer] = value instead\n",
      "\n",
      "See the caveats in the documentation: http://pandas.pydata.org/pandas-docs/stable/indexing.html#indexing-view-versus-copy\n",
      "  \"\"\"Entry point for launching an IPython kernel.\n"
     ]
    }
   ],
   "source": [
    "reviews_pt[\"clean_comments\"] = reviews_pt.comments.progress_apply(preprocess_pt)"
   ]
  },
  {
   "cell_type": "code",
   "execution_count": 9,
   "metadata": {},
   "outputs": [],
   "source": [
    "reviews_pt.to_csv('data/reviews_pt_preprocessed.csv', index = False)"
   ]
  },
  {
   "cell_type": "code",
   "execution_count": null,
   "metadata": {},
   "outputs": [],
   "source": []
  }
 ],
 "metadata": {
  "kernelspec": {
   "display_name": "Python 3",
   "language": "python",
   "name": "python3"
  },
  "language_info": {
   "codemirror_mode": {
    "name": "ipython",
    "version": 3
   },
   "file_extension": ".py",
   "mimetype": "text/x-python",
   "name": "python",
   "nbconvert_exporter": "python",
   "pygments_lexer": "ipython3",
   "version": "3.7.3"
  }
 },
 "nbformat": 4,
 "nbformat_minor": 2
}
